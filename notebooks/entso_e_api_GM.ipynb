{
 "cells": [
  {
   "cell_type": "code",
   "execution_count": 1,
   "metadata": {},
   "outputs": [],
   "source": [
    "#include autoreload modules for fast testing and update\n",
    "%load_ext autoreload\n",
    "%autoreload 2\n",
    "\n",
    "#import relevant modules\n",
    "from entsoe import EntsoePandasClient, EntsoeRawClient\n",
    "import pandas as pd\n",
    "import numpy as np\n",
    "import matplotlib.pyplot as plt\n",
    "\n",
    "#import helpers modules\n",
    "import sys\n",
    "import os\n",
    "import datetime\n",
    "\n",
    "#set the time zone to make time filtering possible\n",
    "import pytz"
   ]
  },
  {
   "cell_type": "code",
   "execution_count": 2,
   "metadata": {},
   "outputs": [],
   "source": [
    "#import constants and configuration variables\n",
    "\n",
    "sys.path.append('..')\n",
    "from config import ENTSOE_API_TOKEN\n",
    "from config import RAW_DATA_FOLDER\n",
    "\n",
    "#import helper functions\n",
    "from src.data.helper_epex import store_geographical_time_variables, store_data, process_xml_net_capacity"
   ]
  },
  {
   "cell_type": "markdown",
   "metadata": {},
   "source": [
    "Here initiate the API client. The key is stored in the config file in the main folder."
   ]
  },
  {
   "cell_type": "code",
   "execution_count": 3,
   "metadata": {},
   "outputs": [],
   "source": [
    "client = EntsoePandasClient(api_key=ENTSOE_API_TOKEN)"
   ]
  },
  {
   "cell_type": "markdown",
   "metadata": {},
   "source": [
    "### Introduction Downloading data"
   ]
  },
  {
   "cell_type": "markdown",
   "metadata": {},
   "source": [
    "Here define the variables needed to download the data"
   ]
  },
  {
   "cell_type": "code",
   "execution_count": 16,
   "metadata": {},
   "outputs": [],
   "source": [
    "#enter the date as year month day all attached\n",
    "start_date='20200101'\n",
    "end_date='20200703'\n",
    "start, end, country_code_1, country_code_2= store_geographical_time_variables(start_date, \n",
    "                                                                              end_date,\n",
    "                                                                              'Switzerland',\n",
    "                                                                              'Germany')"
   ]
  },
  {
   "cell_type": "markdown",
   "metadata": {},
   "source": [
    "Below there are an example of querying a quantity which is saved as series (crossborder flows) and one which is already returned as dataframe (load generation). Both of them are converted into Pandas Dataframes."
   ]
  },
  {
   "cell_type": "code",
   "execution_count": 6,
   "metadata": {},
   "outputs": [],
   "source": [
    "df_crossborder_flows=store_data(client.query_crossborder_flows(country_code_1, country_code_2, start=start, end=end), 'crossborder_flows')"
   ]
  },
  {
   "cell_type": "code",
   "execution_count": 7,
   "metadata": {},
   "outputs": [
    {
     "data": {
      "text/html": [
       "<div>\n",
       "<style scoped>\n",
       "    .dataframe tbody tr th:only-of-type {\n",
       "        vertical-align: middle;\n",
       "    }\n",
       "\n",
       "    .dataframe tbody tr th {\n",
       "        vertical-align: top;\n",
       "    }\n",
       "\n",
       "    .dataframe thead th {\n",
       "        text-align: right;\n",
       "    }\n",
       "</style>\n",
       "<table border=\"1\" class=\"dataframe\">\n",
       "  <thead>\n",
       "    <tr style=\"text-align: right;\">\n",
       "      <th></th>\n",
       "      <th>crossborder_flows</th>\n",
       "      <th>time</th>\n",
       "    </tr>\n",
       "  </thead>\n",
       "  <tbody>\n",
       "    <tr>\n",
       "      <th>0</th>\n",
       "      <td>0.0</td>\n",
       "      <td>2020-01-01 00:00:00+01:00</td>\n",
       "    </tr>\n",
       "    <tr>\n",
       "      <th>1</th>\n",
       "      <td>0.0</td>\n",
       "      <td>2020-01-01 01:00:00+01:00</td>\n",
       "    </tr>\n",
       "    <tr>\n",
       "      <th>2</th>\n",
       "      <td>0.0</td>\n",
       "      <td>2020-01-01 02:00:00+01:00</td>\n",
       "    </tr>\n",
       "    <tr>\n",
       "      <th>3</th>\n",
       "      <td>0.0</td>\n",
       "      <td>2020-01-01 03:00:00+01:00</td>\n",
       "    </tr>\n",
       "    <tr>\n",
       "      <th>4</th>\n",
       "      <td>0.0</td>\n",
       "      <td>2020-01-01 04:00:00+01:00</td>\n",
       "    </tr>\n",
       "  </tbody>\n",
       "</table>\n",
       "</div>"
      ],
      "text/plain": [
       "   crossborder_flows                      time\n",
       "0                0.0 2020-01-01 00:00:00+01:00\n",
       "1                0.0 2020-01-01 01:00:00+01:00\n",
       "2                0.0 2020-01-01 02:00:00+01:00\n",
       "3                0.0 2020-01-01 03:00:00+01:00\n",
       "4                0.0 2020-01-01 04:00:00+01:00"
      ]
     },
     "execution_count": 7,
     "metadata": {},
     "output_type": "execute_result"
    }
   ],
   "source": [
    "df_crossborder_flows.head()"
   ]
  },
  {
   "cell_type": "code",
   "execution_count": 17,
   "metadata": {},
   "outputs": [],
   "source": [
    "df_generation=store_data(client.query_generation(country_code=country_code_1, start=start, end=end))"
   ]
  },
  {
   "cell_type": "code",
   "execution_count": 18,
   "metadata": {},
   "outputs": [
    {
     "data": {
      "text/html": [
       "<div>\n",
       "<style scoped>\n",
       "    .dataframe tbody tr th:only-of-type {\n",
       "        vertical-align: middle;\n",
       "    }\n",
       "\n",
       "    .dataframe tbody tr th {\n",
       "        vertical-align: top;\n",
       "    }\n",
       "\n",
       "    .dataframe thead th {\n",
       "        text-align: right;\n",
       "    }\n",
       "</style>\n",
       "<table border=\"1\" class=\"dataframe\">\n",
       "  <thead>\n",
       "    <tr style=\"text-align: right;\">\n",
       "      <th></th>\n",
       "      <th>Hydro Pumped Storage</th>\n",
       "      <th>Hydro Run-of-river and poundage</th>\n",
       "      <th>Hydro Water Reservoir</th>\n",
       "      <th>Nuclear</th>\n",
       "      <th>Solar</th>\n",
       "      <th>Wind Onshore</th>\n",
       "      <th>time</th>\n",
       "    </tr>\n",
       "  </thead>\n",
       "  <tbody>\n",
       "    <tr>\n",
       "      <th>0</th>\n",
       "      <td>149.0</td>\n",
       "      <td>176.0</td>\n",
       "      <td>737.0</td>\n",
       "      <td>2713.0</td>\n",
       "      <td>0.0</td>\n",
       "      <td>22.0</td>\n",
       "      <td>2020-01-01 00:00:00+01:00</td>\n",
       "    </tr>\n",
       "    <tr>\n",
       "      <th>1</th>\n",
       "      <td>179.0</td>\n",
       "      <td>170.0</td>\n",
       "      <td>668.0</td>\n",
       "      <td>2713.0</td>\n",
       "      <td>0.0</td>\n",
       "      <td>23.0</td>\n",
       "      <td>2020-01-01 01:00:00+01:00</td>\n",
       "    </tr>\n",
       "    <tr>\n",
       "      <th>2</th>\n",
       "      <td>180.0</td>\n",
       "      <td>176.0</td>\n",
       "      <td>689.0</td>\n",
       "      <td>2713.0</td>\n",
       "      <td>0.0</td>\n",
       "      <td>19.0</td>\n",
       "      <td>2020-01-01 02:00:00+01:00</td>\n",
       "    </tr>\n",
       "    <tr>\n",
       "      <th>3</th>\n",
       "      <td>81.0</td>\n",
       "      <td>170.0</td>\n",
       "      <td>642.0</td>\n",
       "      <td>2711.0</td>\n",
       "      <td>0.0</td>\n",
       "      <td>18.0</td>\n",
       "      <td>2020-01-01 03:00:00+01:00</td>\n",
       "    </tr>\n",
       "    <tr>\n",
       "      <th>4</th>\n",
       "      <td>97.0</td>\n",
       "      <td>168.0</td>\n",
       "      <td>596.0</td>\n",
       "      <td>2718.0</td>\n",
       "      <td>0.0</td>\n",
       "      <td>12.0</td>\n",
       "      <td>2020-01-01 04:00:00+01:00</td>\n",
       "    </tr>\n",
       "  </tbody>\n",
       "</table>\n",
       "</div>"
      ],
      "text/plain": [
       "   Hydro Pumped Storage  Hydro Run-of-river and poundage  \\\n",
       "0                 149.0                            176.0   \n",
       "1                 179.0                            170.0   \n",
       "2                 180.0                            176.0   \n",
       "3                  81.0                            170.0   \n",
       "4                  97.0                            168.0   \n",
       "\n",
       "   Hydro Water Reservoir  Nuclear  Solar  Wind Onshore  \\\n",
       "0                  737.0   2713.0    0.0          22.0   \n",
       "1                  668.0   2713.0    0.0          23.0   \n",
       "2                  689.0   2713.0    0.0          19.0   \n",
       "3                  642.0   2711.0    0.0          18.0   \n",
       "4                  596.0   2718.0    0.0          12.0   \n",
       "\n",
       "                       time  \n",
       "0 2020-01-01 00:00:00+01:00  \n",
       "1 2020-01-01 01:00:00+01:00  \n",
       "2 2020-01-01 02:00:00+01:00  \n",
       "3 2020-01-01 03:00:00+01:00  \n",
       "4 2020-01-01 04:00:00+01:00  "
      ]
     },
     "execution_count": 18,
     "metadata": {},
     "output_type": "execute_result"
    }
   ],
   "source": [
    "df_generation.head()"
   ]
  },
  {
   "cell_type": "markdown",
   "metadata": {},
   "source": [
    "With pandas you can quickly plot and have an high level view of the data in this manner."
   ]
  },
  {
   "cell_type": "code",
   "execution_count": 102,
   "metadata": {},
   "outputs": [
    {
     "data": {
      "image/png": "[encoded data removed]",
      "text/plain": [
       "<Figure size 432x288 with 1 Axes>"
      ]
     },
     "metadata": {
      "needs_background": "light"
     },
     "output_type": "display_data"
    }
   ],
   "source": [
    "ax=df_crossborder_flows.plot(x='time', y='crossborder_flows')"
   ]
  },
  {
   "cell_type": "code",
   "execution_count": 19,
   "metadata": {},
   "outputs": [
    {
     "data": {
      "image/png": "[encoded data removed]",
      "text/plain": [
       "<Figure size 432x288 with 1 Axes>"
      ]
     },
     "metadata": {
      "needs_background": "light"
     },
     "output_type": "display_data"
    }
   ],
   "source": [
    "ax=df_generation.plot(x='time', y='Hydro Pumped Storage')"
   ]
  },
  {
   "cell_type": "code",
   "execution_count": 100,
   "metadata": {},
   "outputs": [
    {
     "data": {
      "image/png": "[encoded data removed]",
      "text/plain": [
       "<Figure size 432x288 with 1 Axes>"
      ]
     },
     "metadata": {
      "needs_background": "light"
     },
     "output_type": "display_data"
    }
   ],
   "source": [
    "#filter time series indices by creating a mask of the necessary indices\n",
    "mask=(df_generation['time']> datetime.datetime(2020,3,1, tzinfo=pytz.utc)) & (df_generation['time'] <= datetime.datetime(2020,4,25, tzinfo=pytz.utc))\n",
    "\n",
    "#plot them\n",
    "ax=df_generation[mask].plot(x='time', y='Hydro Pumped Storage')"
   ]
  },
  {
   "cell_type": "markdown",
   "metadata": {},
   "source": [
    "### Exploration of Downloadable data"
   ]
  },
  {
   "cell_type": "code",
   "execution_count": 11,
   "metadata": {},
   "outputs": [],
   "source": [
    "start_date='20200101'\n",
    "end_date='20201025'\n",
    "start, end, country_code_1, country_code_2= store_geographical_time_variables(start_date, \n",
    "                                                                              end_date,\n",
    "                                                                              'Switzerland',\n",
    "                                                                              'Germany')"
   ]
  },
  {
   "cell_type": "markdown",
   "metadata": {},
   "source": [
    "##### CH DE cross border flows and Scheduled Exchanges"
   ]
  },
  {
   "cell_type": "code",
   "execution_count": 131,
   "metadata": {},
   "outputs": [],
   "source": [
    "df_flow_CH_DE=store_data(client.query_crossborder_flows(country_code_1, country_code_2, start=start, end=end), 'crossborder_flow_CH_DE')\n",
    "df_scheduled_exchanges_CH_DE=store_data(client.query_scheduled_exchanges(country_code_1, country_code_2, start=start, end=end), 'scheduled_exchanges_CH_DE')"
   ]
  },
  {
   "cell_type": "code",
   "execution_count": 132,
   "metadata": {},
   "outputs": [],
   "source": [
    "df_flow_DE_CH=store_data(client.query_crossborder_flows(country_code_2, country_code_1, start=start, end=end), 'crossborder_flow_DE_CH')\n",
    "df_scheduled_exchanges_DE_CH=store_data(client.query_scheduled_exchanges(country_code_2, country_code_1, start=start, end=end), 'scheduled_exchanges_DE_CH')"
   ]
  },
  {
   "cell_type": "markdown",
   "metadata": {},
   "source": [
    "Join the dataframes"
   ]
  },
  {
   "cell_type": "code",
   "execution_count": 133,
   "metadata": {},
   "outputs": [],
   "source": [
    "df_flows=pd.merge(pd.merge(df_flow_DE_CH,df_flow_CH_DE,on='time'),\n",
    "                  pd.merge(df_scheduled_exchanges_CH_DE,df_scheduled_exchanges_DE_CH,on='time'),\n",
    "                  on='time')"
   ]
  },
  {
   "cell_type": "markdown",
   "metadata": {},
   "source": [
    "Comparison of the flos coming from Germany to Switzerland and vice versa"
   ]
  },
  {
   "cell_type": "code",
   "execution_count": 134,
   "metadata": {},
   "outputs": [
    {
     "data": {
      "image/png": "[encoded data removed]",
      "text/plain": [
       "<Figure size 432x288 with 1 Axes>"
      ]
     },
     "metadata": {
      "needs_background": "light"
     },
     "output_type": "display_data"
    }
   ],
   "source": [
    "ax=df_flows.plot(x='time', y=['crossborder_flow_DE_CH',\n",
    "                              'crossborder_flow_CH_DE'])"
   ]
  },
  {
   "cell_type": "markdown",
   "metadata": {},
   "source": [
    "Comparison of scheduled exchanges with actual cross border flows"
   ]
  },
  {
   "cell_type": "code",
   "execution_count": 136,
   "metadata": {},
   "outputs": [
    {
     "data": {
      "image/png": "[encoded data removed]",
      "text/plain": [
       "<Figure size 432x288 with 1 Axes>"
      ]
     },
     "metadata": {
      "needs_background": "light"
     },
     "output_type": "display_data"
    }
   ],
   "source": [
    "mask=(df_flows['time']> datetime.datetime(2020,10,10, tzinfo=pytz.utc)) & (df_flows['time'] <= datetime.datetime(2020,10,25, tzinfo=pytz.utc))\n",
    "\n",
    "ax=df_flows[mask].plot(x='time', y=['crossborder_flow_CH_DE',\n",
    "                              'scheduled_exchanges_CH_DE'])"
   ]
  },
  {
   "cell_type": "markdown",
   "metadata": {},
   "source": [
    "##### Generation, Imports and Consumption and Hydro Capacity per Unit"
   ]
  },
  {
   "cell_type": "code",
   "execution_count": 132,
   "metadata": {},
   "outputs": [
    {
     "name": "stdout",
     "output_type": "stream",
     "text": [
      "NoMatchingDataError: between 2020-01-01 00:00:00+01:00 and 2020-03-03 00:00:00+01:00\n",
      "NoMatchingDataError: between 2020-01-01 00:00:00+01:00 and 2020-03-03 00:00:00+01:00\n"
     ]
    }
   ],
   "source": [
    "df_generation_import=store_data(client.query_generation_import(country_code_1, start=start, end=end), 'generation_import')"
   ]
  },
  {
   "cell_type": "code",
   "execution_count": 133,
   "metadata": {},
   "outputs": [
    {
     "data": {
      "text/html": [
       "<div>\n",
       "<style scoped>\n",
       "    .dataframe tbody tr th:only-of-type {\n",
       "        vertical-align: middle;\n",
       "    }\n",
       "\n",
       "    .dataframe tbody tr th {\n",
       "        vertical-align: top;\n",
       "    }\n",
       "\n",
       "    .dataframe thead tr th {\n",
       "        text-align: left;\n",
       "    }\n",
       "</style>\n",
       "<table border=\"1\" class=\"dataframe\">\n",
       "  <thead>\n",
       "    <tr>\n",
       "      <th></th>\n",
       "      <th colspan=\"6\" halign=\"left\">Generation</th>\n",
       "      <th colspan=\"4\" halign=\"left\">Import</th>\n",
       "      <th>time</th>\n",
       "    </tr>\n",
       "    <tr>\n",
       "      <th></th>\n",
       "      <th>Hydro Pumped Storage</th>\n",
       "      <th>Hydro Run-of-river and poundage</th>\n",
       "      <th>Hydro Water Reservoir</th>\n",
       "      <th>Nuclear</th>\n",
       "      <th>Solar</th>\n",
       "      <th>Wind Onshore</th>\n",
       "      <th>AT</th>\n",
       "      <th>DE-LU</th>\n",
       "      <th>FR</th>\n",
       "      <th>IT-NORD</th>\n",
       "      <th></th>\n",
       "    </tr>\n",
       "  </thead>\n",
       "  <tbody>\n",
       "    <tr>\n",
       "      <th>0</th>\n",
       "      <td>149.0</td>\n",
       "      <td>176.0</td>\n",
       "      <td>737.0</td>\n",
       "      <td>2713.0</td>\n",
       "      <td>0.0</td>\n",
       "      <td>22.0</td>\n",
       "      <td>724.0</td>\n",
       "      <td>1982.0</td>\n",
       "      <td>389.0</td>\n",
       "      <td>0.0</td>\n",
       "      <td>2020-01-01 00:00:00+01:00</td>\n",
       "    </tr>\n",
       "    <tr>\n",
       "      <th>1</th>\n",
       "      <td>179.0</td>\n",
       "      <td>170.0</td>\n",
       "      <td>668.0</td>\n",
       "      <td>2713.0</td>\n",
       "      <td>0.0</td>\n",
       "      <td>23.0</td>\n",
       "      <td>492.0</td>\n",
       "      <td>1589.0</td>\n",
       "      <td>727.0</td>\n",
       "      <td>0.0</td>\n",
       "      <td>2020-01-01 01:00:00+01:00</td>\n",
       "    </tr>\n",
       "    <tr>\n",
       "      <th>2</th>\n",
       "      <td>180.0</td>\n",
       "      <td>176.0</td>\n",
       "      <td>689.0</td>\n",
       "      <td>2713.0</td>\n",
       "      <td>0.0</td>\n",
       "      <td>19.0</td>\n",
       "      <td>437.0</td>\n",
       "      <td>1507.0</td>\n",
       "      <td>416.0</td>\n",
       "      <td>0.0</td>\n",
       "      <td>2020-01-01 02:00:00+01:00</td>\n",
       "    </tr>\n",
       "    <tr>\n",
       "      <th>3</th>\n",
       "      <td>81.0</td>\n",
       "      <td>170.0</td>\n",
       "      <td>642.0</td>\n",
       "      <td>2711.0</td>\n",
       "      <td>0.0</td>\n",
       "      <td>18.0</td>\n",
       "      <td>323.0</td>\n",
       "      <td>1591.0</td>\n",
       "      <td>714.0</td>\n",
       "      <td>183.0</td>\n",
       "      <td>2020-01-01 03:00:00+01:00</td>\n",
       "    </tr>\n",
       "    <tr>\n",
       "      <th>4</th>\n",
       "      <td>97.0</td>\n",
       "      <td>168.0</td>\n",
       "      <td>596.0</td>\n",
       "      <td>2718.0</td>\n",
       "      <td>0.0</td>\n",
       "      <td>12.0</td>\n",
       "      <td>139.0</td>\n",
       "      <td>1284.0</td>\n",
       "      <td>739.0</td>\n",
       "      <td>378.0</td>\n",
       "      <td>2020-01-01 04:00:00+01:00</td>\n",
       "    </tr>\n",
       "  </tbody>\n",
       "</table>\n",
       "</div>"
      ],
      "text/plain": [
       "            Generation                                                        \\\n",
       "  Hydro Pumped Storage Hydro Run-of-river and poundage Hydro Water Reservoir   \n",
       "0                149.0                           176.0                 737.0   \n",
       "1                179.0                           170.0                 668.0   \n",
       "2                180.0                           176.0                 689.0   \n",
       "3                 81.0                           170.0                 642.0   \n",
       "4                 97.0                           168.0                 596.0   \n",
       "\n",
       "                             Import                         \\\n",
       "  Nuclear Solar Wind Onshore     AT   DE-LU     FR IT-NORD   \n",
       "0  2713.0   0.0         22.0  724.0  1982.0  389.0     0.0   \n",
       "1  2713.0   0.0         23.0  492.0  1589.0  727.0     0.0   \n",
       "2  2713.0   0.0         19.0  437.0  1507.0  416.0     0.0   \n",
       "3  2711.0   0.0         18.0  323.0  1591.0  714.0   183.0   \n",
       "4  2718.0   0.0         12.0  139.0  1284.0  739.0   378.0   \n",
       "\n",
       "                       time  \n",
       "                             \n",
       "0 2020-01-01 00:00:00+01:00  \n",
       "1 2020-01-01 01:00:00+01:00  \n",
       "2 2020-01-01 02:00:00+01:00  \n",
       "3 2020-01-01 03:00:00+01:00  \n",
       "4 2020-01-01 04:00:00+01:00  "
      ]
     },
     "execution_count": 133,
     "metadata": {},
     "output_type": "execute_result"
    }
   ],
   "source": [
    "df_generation_import.head()"
   ]
  },
  {
   "cell_type": "code",
   "execution_count": 12,
   "metadata": {},
   "outputs": [
    {
     "name": "stdout",
     "output_type": "stream",
     "text": [
      "Connection Error, retrying in 0 seconds\n"
     ]
    },
    {
     "ename": "ConnectionError",
     "evalue": "('Connection aborted.', RemoteDisconnected('Remote end closed connection without response'))",
     "output_type": "error",
     "traceback": [
      "\u001b[0;31m---------------------------------------------------------------------------\u001b[0m",
      "\u001b[0;31mRemoteDisconnected\u001b[0m                        Traceback (most recent call last)",
      "\u001b[0;32m~/Documents/eth_codes/case_study/case_study_2_alpiq/env/lib/python3.8/site-packages/urllib3/connectionpool.py\u001b[0m in \u001b[0;36murlopen\u001b[0;34m(self, method, url, body, headers, retries, redirect, assert_same_host, timeout, pool_timeout, release_conn, chunked, body_pos, **response_kw)\u001b[0m\n\u001b[1;32m    669\u001b[0m             \u001b[0;31m# Make the request on the httplib connection object.\u001b[0m\u001b[0;34m\u001b[0m\u001b[0;34m\u001b[0m\u001b[0;34m\u001b[0m\u001b[0m\n\u001b[0;32m--> 670\u001b[0;31m             httplib_response = self._make_request(\n\u001b[0m\u001b[1;32m    671\u001b[0m                 \u001b[0mconn\u001b[0m\u001b[0;34m,\u001b[0m\u001b[0;34m\u001b[0m\u001b[0;34m\u001b[0m\u001b[0m\n",
      "\u001b[0;32m~/Documents/eth_codes/case_study/case_study_2_alpiq/env/lib/python3.8/site-packages/urllib3/connectionpool.py\u001b[0m in \u001b[0;36m_make_request\u001b[0;34m(self, conn, method, url, timeout, chunked, **httplib_request_kw)\u001b[0m\n\u001b[1;32m    425\u001b[0m                     \u001b[0;31m# Otherwise it looks like a bug in the code.\u001b[0m\u001b[0;34m\u001b[0m\u001b[0;34m\u001b[0m\u001b[0;34m\u001b[0m\u001b[0m\n\u001b[0;32m--> 426\u001b[0;31m                     \u001b[0msix\u001b[0m\u001b[0;34m.\u001b[0m\u001b[0mraise_from\u001b[0m\u001b[0;34m(\u001b[0m\u001b[0me\u001b[0m\u001b[0;34m,\u001b[0m \u001b[0;32mNone\u001b[0m\u001b[0;34m)\u001b[0m\u001b[0;34m\u001b[0m\u001b[0;34m\u001b[0m\u001b[0m\n\u001b[0m\u001b[1;32m    427\u001b[0m         \u001b[0;32mexcept\u001b[0m \u001b[0;34m(\u001b[0m\u001b[0mSocketTimeout\u001b[0m\u001b[0;34m,\u001b[0m \u001b[0mBaseSSLError\u001b[0m\u001b[0;34m,\u001b[0m \u001b[0mSocketError\u001b[0m\u001b[0;34m)\u001b[0m \u001b[0;32mas\u001b[0m \u001b[0me\u001b[0m\u001b[0;34m:\u001b[0m\u001b[0;34m\u001b[0m\u001b[0;34m\u001b[0m\u001b[0m\n",
      "\u001b[0;32m~/Documents/eth_codes/case_study/case_study_2_alpiq/env/lib/python3.8/site-packages/urllib3/packages/six.py\u001b[0m in \u001b[0;36mraise_from\u001b[0;34m(value, from_value)\u001b[0m\n",
      "\u001b[0;32m~/Documents/eth_codes/case_study/case_study_2_alpiq/env/lib/python3.8/site-packages/urllib3/connectionpool.py\u001b[0m in \u001b[0;36m_make_request\u001b[0;34m(self, conn, method, url, timeout, chunked, **httplib_request_kw)\u001b[0m\n\u001b[1;32m    420\u001b[0m                 \u001b[0;32mtry\u001b[0m\u001b[0;34m:\u001b[0m\u001b[0;34m\u001b[0m\u001b[0;34m\u001b[0m\u001b[0m\n\u001b[0;32m--> 421\u001b[0;31m                     \u001b[0mhttplib_response\u001b[0m \u001b[0;34m=\u001b[0m \u001b[0mconn\u001b[0m\u001b[0;34m.\u001b[0m\u001b[0mgetresponse\u001b[0m\u001b[0;34m(\u001b[0m\u001b[0;34m)\u001b[0m\u001b[0;34m\u001b[0m\u001b[0;34m\u001b[0m\u001b[0m\n\u001b[0m\u001b[1;32m    422\u001b[0m                 \u001b[0;32mexcept\u001b[0m \u001b[0mBaseException\u001b[0m \u001b[0;32mas\u001b[0m \u001b[0me\u001b[0m\u001b[0;34m:\u001b[0m\u001b[0;34m\u001b[0m\u001b[0;34m\u001b[0m\u001b[0m\n",
      "\u001b[0;32m/Library/Developer/CommandLineTools/Library/Frameworks/Python3.framework/Versions/3.8/lib/python3.8/http/client.py\u001b[0m in \u001b[0;36mgetresponse\u001b[0;34m(self)\u001b[0m\n\u001b[1;32m   1321\u001b[0m             \u001b[0;32mtry\u001b[0m\u001b[0;34m:\u001b[0m\u001b[0;34m\u001b[0m\u001b[0;34m\u001b[0m\u001b[0m\n\u001b[0;32m-> 1322\u001b[0;31m                 \u001b[0mresponse\u001b[0m\u001b[0;34m.\u001b[0m\u001b[0mbegin\u001b[0m\u001b[0;34m(\u001b[0m\u001b[0;34m)\u001b[0m\u001b[0;34m\u001b[0m\u001b[0;34m\u001b[0m\u001b[0m\n\u001b[0m\u001b[1;32m   1323\u001b[0m             \u001b[0;32mexcept\u001b[0m \u001b[0mConnectionError\u001b[0m\u001b[0;34m:\u001b[0m\u001b[0;34m\u001b[0m\u001b[0;34m\u001b[0m\u001b[0m\n",
      "\u001b[0;32m/Library/Developer/CommandLineTools/Library/Frameworks/Python3.framework/Versions/3.8/lib/python3.8/http/client.py\u001b[0m in \u001b[0;36mbegin\u001b[0;34m(self)\u001b[0m\n\u001b[1;32m    302\u001b[0m         \u001b[0;32mwhile\u001b[0m \u001b[0;32mTrue\u001b[0m\u001b[0;34m:\u001b[0m\u001b[0;34m\u001b[0m\u001b[0;34m\u001b[0m\u001b[0m\n\u001b[0;32m--> 303\u001b[0;31m             \u001b[0mversion\u001b[0m\u001b[0;34m,\u001b[0m \u001b[0mstatus\u001b[0m\u001b[0;34m,\u001b[0m \u001b[0mreason\u001b[0m \u001b[0;34m=\u001b[0m \u001b[0mself\u001b[0m\u001b[0;34m.\u001b[0m\u001b[0m_read_status\u001b[0m\u001b[0;34m(\u001b[0m\u001b[0;34m)\u001b[0m\u001b[0;34m\u001b[0m\u001b[0;34m\u001b[0m\u001b[0m\n\u001b[0m\u001b[1;32m    304\u001b[0m             \u001b[0;32mif\u001b[0m \u001b[0mstatus\u001b[0m \u001b[0;34m!=\u001b[0m \u001b[0mCONTINUE\u001b[0m\u001b[0;34m:\u001b[0m\u001b[0;34m\u001b[0m\u001b[0;34m\u001b[0m\u001b[0m\n",
      "\u001b[0;32m/Library/Developer/CommandLineTools/Library/Frameworks/Python3.framework/Versions/3.8/lib/python3.8/http/client.py\u001b[0m in \u001b[0;36m_read_status\u001b[0;34m(self)\u001b[0m\n\u001b[1;32m    271\u001b[0m             \u001b[0;31m# sending a valid response.\u001b[0m\u001b[0;34m\u001b[0m\u001b[0;34m\u001b[0m\u001b[0;34m\u001b[0m\u001b[0m\n\u001b[0;32m--> 272\u001b[0;31m             raise RemoteDisconnected(\"Remote end closed connection without\"\n\u001b[0m\u001b[1;32m    273\u001b[0m                                      \" response\")\n",
      "\u001b[0;31mRemoteDisconnected\u001b[0m: Remote end closed connection without response",
      "\nDuring handling of the above exception, another exception occurred:\n",
      "\u001b[0;31mProtocolError\u001b[0m                             Traceback (most recent call last)",
      "\u001b[0;32m~/Documents/eth_codes/case_study/case_study_2_alpiq/env/lib/python3.8/site-packages/requests/adapters.py\u001b[0m in \u001b[0;36msend\u001b[0;34m(self, request, stream, timeout, verify, cert, proxies)\u001b[0m\n\u001b[1;32m    438\u001b[0m             \u001b[0;32mif\u001b[0m \u001b[0;32mnot\u001b[0m \u001b[0mchunked\u001b[0m\u001b[0;34m:\u001b[0m\u001b[0;34m\u001b[0m\u001b[0;34m\u001b[0m\u001b[0m\n\u001b[0;32m--> 439\u001b[0;31m                 resp = conn.urlopen(\n\u001b[0m\u001b[1;32m    440\u001b[0m                     \u001b[0mmethod\u001b[0m\u001b[0;34m=\u001b[0m\u001b[0mrequest\u001b[0m\u001b[0;34m.\u001b[0m\u001b[0mmethod\u001b[0m\u001b[0;34m,\u001b[0m\u001b[0;34m\u001b[0m\u001b[0;34m\u001b[0m\u001b[0m\n",
      "\u001b[0;32m~/Documents/eth_codes/case_study/case_study_2_alpiq/env/lib/python3.8/site-packages/urllib3/connectionpool.py\u001b[0m in \u001b[0;36murlopen\u001b[0;34m(self, method, url, body, headers, retries, redirect, assert_same_host, timeout, pool_timeout, release_conn, chunked, body_pos, **response_kw)\u001b[0m\n\u001b[1;32m    725\u001b[0m \u001b[0;34m\u001b[0m\u001b[0m\n\u001b[0;32m--> 726\u001b[0;31m             retries = retries.increment(\n\u001b[0m\u001b[1;32m    727\u001b[0m                 \u001b[0mmethod\u001b[0m\u001b[0;34m,\u001b[0m \u001b[0murl\u001b[0m\u001b[0;34m,\u001b[0m \u001b[0merror\u001b[0m\u001b[0;34m=\u001b[0m\u001b[0me\u001b[0m\u001b[0;34m,\u001b[0m \u001b[0m_pool\u001b[0m\u001b[0;34m=\u001b[0m\u001b[0mself\u001b[0m\u001b[0;34m,\u001b[0m \u001b[0m_stacktrace\u001b[0m\u001b[0;34m=\u001b[0m\u001b[0msys\u001b[0m\u001b[0;34m.\u001b[0m\u001b[0mexc_info\u001b[0m\u001b[0;34m(\u001b[0m\u001b[0;34m)\u001b[0m\u001b[0;34m[\u001b[0m\u001b[0;36m2\u001b[0m\u001b[0;34m]\u001b[0m\u001b[0;34m\u001b[0m\u001b[0;34m\u001b[0m\u001b[0m\n",
      "\u001b[0;32m~/Documents/eth_codes/case_study/case_study_2_alpiq/env/lib/python3.8/site-packages/urllib3/util/retry.py\u001b[0m in \u001b[0;36mincrement\u001b[0;34m(self, method, url, response, error, _pool, _stacktrace)\u001b[0m\n\u001b[1;32m    409\u001b[0m             \u001b[0;32mif\u001b[0m \u001b[0mread\u001b[0m \u001b[0;32mis\u001b[0m \u001b[0;32mFalse\u001b[0m \u001b[0;32mor\u001b[0m \u001b[0;32mnot\u001b[0m \u001b[0mself\u001b[0m\u001b[0;34m.\u001b[0m\u001b[0m_is_method_retryable\u001b[0m\u001b[0;34m(\u001b[0m\u001b[0mmethod\u001b[0m\u001b[0;34m)\u001b[0m\u001b[0;34m:\u001b[0m\u001b[0;34m\u001b[0m\u001b[0;34m\u001b[0m\u001b[0m\n\u001b[0;32m--> 410\u001b[0;31m                 \u001b[0;32mraise\u001b[0m \u001b[0msix\u001b[0m\u001b[0;34m.\u001b[0m\u001b[0mreraise\u001b[0m\u001b[0;34m(\u001b[0m\u001b[0mtype\u001b[0m\u001b[0;34m(\u001b[0m\u001b[0merror\u001b[0m\u001b[0;34m)\u001b[0m\u001b[0;34m,\u001b[0m \u001b[0merror\u001b[0m\u001b[0;34m,\u001b[0m \u001b[0m_stacktrace\u001b[0m\u001b[0;34m)\u001b[0m\u001b[0;34m\u001b[0m\u001b[0;34m\u001b[0m\u001b[0m\n\u001b[0m\u001b[1;32m    411\u001b[0m             \u001b[0;32melif\u001b[0m \u001b[0mread\u001b[0m \u001b[0;32mis\u001b[0m \u001b[0;32mnot\u001b[0m \u001b[0;32mNone\u001b[0m\u001b[0;34m:\u001b[0m\u001b[0;34m\u001b[0m\u001b[0;34m\u001b[0m\u001b[0m\n",
      "\u001b[0;32m~/Documents/eth_codes/case_study/case_study_2_alpiq/env/lib/python3.8/site-packages/urllib3/packages/six.py\u001b[0m in \u001b[0;36mreraise\u001b[0;34m(tp, value, tb)\u001b[0m\n\u001b[1;32m    733\u001b[0m             \u001b[0;32mif\u001b[0m \u001b[0mvalue\u001b[0m\u001b[0;34m.\u001b[0m\u001b[0m__traceback__\u001b[0m \u001b[0;32mis\u001b[0m \u001b[0;32mnot\u001b[0m \u001b[0mtb\u001b[0m\u001b[0;34m:\u001b[0m\u001b[0;34m\u001b[0m\u001b[0;34m\u001b[0m\u001b[0m\n\u001b[0;32m--> 734\u001b[0;31m                 \u001b[0;32mraise\u001b[0m \u001b[0mvalue\u001b[0m\u001b[0;34m.\u001b[0m\u001b[0mwith_traceback\u001b[0m\u001b[0;34m(\u001b[0m\u001b[0mtb\u001b[0m\u001b[0;34m)\u001b[0m\u001b[0;34m\u001b[0m\u001b[0;34m\u001b[0m\u001b[0m\n\u001b[0m\u001b[1;32m    735\u001b[0m             \u001b[0;32mraise\u001b[0m \u001b[0mvalue\u001b[0m\u001b[0;34m\u001b[0m\u001b[0;34m\u001b[0m\u001b[0m\n",
      "\u001b[0;32m~/Documents/eth_codes/case_study/case_study_2_alpiq/env/lib/python3.8/site-packages/urllib3/connectionpool.py\u001b[0m in \u001b[0;36murlopen\u001b[0;34m(self, method, url, body, headers, retries, redirect, assert_same_host, timeout, pool_timeout, release_conn, chunked, body_pos, **response_kw)\u001b[0m\n\u001b[1;32m    669\u001b[0m             \u001b[0;31m# Make the request on the httplib connection object.\u001b[0m\u001b[0;34m\u001b[0m\u001b[0;34m\u001b[0m\u001b[0;34m\u001b[0m\u001b[0m\n\u001b[0;32m--> 670\u001b[0;31m             httplib_response = self._make_request(\n\u001b[0m\u001b[1;32m    671\u001b[0m                 \u001b[0mconn\u001b[0m\u001b[0;34m,\u001b[0m\u001b[0;34m\u001b[0m\u001b[0;34m\u001b[0m\u001b[0m\n",
      "\u001b[0;32m~/Documents/eth_codes/case_study/case_study_2_alpiq/env/lib/python3.8/site-packages/urllib3/connectionpool.py\u001b[0m in \u001b[0;36m_make_request\u001b[0;34m(self, conn, method, url, timeout, chunked, **httplib_request_kw)\u001b[0m\n\u001b[1;32m    425\u001b[0m                     \u001b[0;31m# Otherwise it looks like a bug in the code.\u001b[0m\u001b[0;34m\u001b[0m\u001b[0;34m\u001b[0m\u001b[0;34m\u001b[0m\u001b[0m\n\u001b[0;32m--> 426\u001b[0;31m                     \u001b[0msix\u001b[0m\u001b[0;34m.\u001b[0m\u001b[0mraise_from\u001b[0m\u001b[0;34m(\u001b[0m\u001b[0me\u001b[0m\u001b[0;34m,\u001b[0m \u001b[0;32mNone\u001b[0m\u001b[0;34m)\u001b[0m\u001b[0;34m\u001b[0m\u001b[0;34m\u001b[0m\u001b[0m\n\u001b[0m\u001b[1;32m    427\u001b[0m         \u001b[0;32mexcept\u001b[0m \u001b[0;34m(\u001b[0m\u001b[0mSocketTimeout\u001b[0m\u001b[0;34m,\u001b[0m \u001b[0mBaseSSLError\u001b[0m\u001b[0;34m,\u001b[0m \u001b[0mSocketError\u001b[0m\u001b[0;34m)\u001b[0m \u001b[0;32mas\u001b[0m \u001b[0me\u001b[0m\u001b[0;34m:\u001b[0m\u001b[0;34m\u001b[0m\u001b[0;34m\u001b[0m\u001b[0m\n",
      "\u001b[0;32m~/Documents/eth_codes/case_study/case_study_2_alpiq/env/lib/python3.8/site-packages/urllib3/packages/six.py\u001b[0m in \u001b[0;36mraise_from\u001b[0;34m(value, from_value)\u001b[0m\n",
      "\u001b[0;32m~/Documents/eth_codes/case_study/case_study_2_alpiq/env/lib/python3.8/site-packages/urllib3/connectionpool.py\u001b[0m in \u001b[0;36m_make_request\u001b[0;34m(self, conn, method, url, timeout, chunked, **httplib_request_kw)\u001b[0m\n\u001b[1;32m    420\u001b[0m                 \u001b[0;32mtry\u001b[0m\u001b[0;34m:\u001b[0m\u001b[0;34m\u001b[0m\u001b[0;34m\u001b[0m\u001b[0m\n\u001b[0;32m--> 421\u001b[0;31m                     \u001b[0mhttplib_response\u001b[0m \u001b[0;34m=\u001b[0m \u001b[0mconn\u001b[0m\u001b[0;34m.\u001b[0m\u001b[0mgetresponse\u001b[0m\u001b[0;34m(\u001b[0m\u001b[0;34m)\u001b[0m\u001b[0;34m\u001b[0m\u001b[0;34m\u001b[0m\u001b[0m\n\u001b[0m\u001b[1;32m    422\u001b[0m                 \u001b[0;32mexcept\u001b[0m \u001b[0mBaseException\u001b[0m \u001b[0;32mas\u001b[0m \u001b[0me\u001b[0m\u001b[0;34m:\u001b[0m\u001b[0;34m\u001b[0m\u001b[0;34m\u001b[0m\u001b[0m\n",
      "\u001b[0;32m/Library/Developer/CommandLineTools/Library/Frameworks/Python3.framework/Versions/3.8/lib/python3.8/http/client.py\u001b[0m in \u001b[0;36mgetresponse\u001b[0;34m(self)\u001b[0m\n\u001b[1;32m   1321\u001b[0m             \u001b[0;32mtry\u001b[0m\u001b[0;34m:\u001b[0m\u001b[0;34m\u001b[0m\u001b[0;34m\u001b[0m\u001b[0m\n\u001b[0;32m-> 1322\u001b[0;31m                 \u001b[0mresponse\u001b[0m\u001b[0;34m.\u001b[0m\u001b[0mbegin\u001b[0m\u001b[0;34m(\u001b[0m\u001b[0;34m)\u001b[0m\u001b[0;34m\u001b[0m\u001b[0;34m\u001b[0m\u001b[0m\n\u001b[0m\u001b[1;32m   1323\u001b[0m             \u001b[0;32mexcept\u001b[0m \u001b[0mConnectionError\u001b[0m\u001b[0;34m:\u001b[0m\u001b[0;34m\u001b[0m\u001b[0;34m\u001b[0m\u001b[0m\n",
      "\u001b[0;32m/Library/Developer/CommandLineTools/Library/Frameworks/Python3.framework/Versions/3.8/lib/python3.8/http/client.py\u001b[0m in \u001b[0;36mbegin\u001b[0;34m(self)\u001b[0m\n\u001b[1;32m    302\u001b[0m         \u001b[0;32mwhile\u001b[0m \u001b[0;32mTrue\u001b[0m\u001b[0;34m:\u001b[0m\u001b[0;34m\u001b[0m\u001b[0;34m\u001b[0m\u001b[0m\n\u001b[0;32m--> 303\u001b[0;31m             \u001b[0mversion\u001b[0m\u001b[0;34m,\u001b[0m \u001b[0mstatus\u001b[0m\u001b[0;34m,\u001b[0m \u001b[0mreason\u001b[0m \u001b[0;34m=\u001b[0m \u001b[0mself\u001b[0m\u001b[0;34m.\u001b[0m\u001b[0m_read_status\u001b[0m\u001b[0;34m(\u001b[0m\u001b[0;34m)\u001b[0m\u001b[0;34m\u001b[0m\u001b[0;34m\u001b[0m\u001b[0m\n\u001b[0m\u001b[1;32m    304\u001b[0m             \u001b[0;32mif\u001b[0m \u001b[0mstatus\u001b[0m \u001b[0;34m!=\u001b[0m \u001b[0mCONTINUE\u001b[0m\u001b[0;34m:\u001b[0m\u001b[0;34m\u001b[0m\u001b[0;34m\u001b[0m\u001b[0m\n",
      "\u001b[0;32m/Library/Developer/CommandLineTools/Library/Frameworks/Python3.framework/Versions/3.8/lib/python3.8/http/client.py\u001b[0m in \u001b[0;36m_read_status\u001b[0;34m(self)\u001b[0m\n\u001b[1;32m    271\u001b[0m             \u001b[0;31m# sending a valid response.\u001b[0m\u001b[0;34m\u001b[0m\u001b[0;34m\u001b[0m\u001b[0;34m\u001b[0m\u001b[0m\n\u001b[0;32m--> 272\u001b[0;31m             raise RemoteDisconnected(\"Remote end closed connection without\"\n\u001b[0m\u001b[1;32m    273\u001b[0m                                      \" response\")\n",
      "\u001b[0;31mProtocolError\u001b[0m: ('Connection aborted.', RemoteDisconnected('Remote end closed connection without response'))",
      "\nDuring handling of the above exception, another exception occurred:\n",
      "\u001b[0;31mConnectionError\u001b[0m                           Traceback (most recent call last)",
      "\u001b[0;32m<ipython-input-12-0658978e017d>\u001b[0m in \u001b[0;36m<module>\u001b[0;34m\u001b[0m\n\u001b[0;32m----> 1\u001b[0;31m \u001b[0mdf_generation_per_plant\u001b[0m\u001b[0;34m=\u001b[0m\u001b[0mstore_data\u001b[0m\u001b[0;34m(\u001b[0m\u001b[0mclient\u001b[0m\u001b[0;34m.\u001b[0m\u001b[0mquery_generation_per_plant\u001b[0m\u001b[0;34m(\u001b[0m\u001b[0mcountry_code_1\u001b[0m\u001b[0;34m,\u001b[0m \u001b[0mstart\u001b[0m\u001b[0;34m=\u001b[0m\u001b[0mstart\u001b[0m\u001b[0;34m,\u001b[0m \u001b[0mend\u001b[0m\u001b[0;34m=\u001b[0m\u001b[0mend\u001b[0m\u001b[0;34m)\u001b[0m\u001b[0;34m,\u001b[0m \u001b[0;34m'generation_per_plant'\u001b[0m\u001b[0;34m)\u001b[0m\u001b[0;34m\u001b[0m\u001b[0;34m\u001b[0m\u001b[0m\n\u001b[0m",
      "\u001b[0;32m~/Documents/eth_codes/case_study/case_study_2_alpiq/env/lib/python3.8/site-packages/entsoe/entsoe.py\u001b[0m in \u001b[0;36mday_wrapper\u001b[0;34m(start, end, *args, **kwargs)\u001b[0m\n\u001b[1;32m    861\u001b[0m         \u001b[0;32mfor\u001b[0m \u001b[0m_start\u001b[0m\u001b[0;34m,\u001b[0m \u001b[0m_end\u001b[0m \u001b[0;32min\u001b[0m \u001b[0mblocks\u001b[0m\u001b[0;34m:\u001b[0m\u001b[0;34m\u001b[0m\u001b[0;34m\u001b[0m\u001b[0m\n\u001b[1;32m    862\u001b[0m             \u001b[0;32mtry\u001b[0m\u001b[0;34m:\u001b[0m\u001b[0;34m\u001b[0m\u001b[0;34m\u001b[0m\u001b[0m\n\u001b[0;32m--> 863\u001b[0;31m                 \u001b[0mframe\u001b[0m \u001b[0;34m=\u001b[0m \u001b[0mfunc\u001b[0m\u001b[0;34m(\u001b[0m\u001b[0;34m*\u001b[0m\u001b[0margs\u001b[0m\u001b[0;34m,\u001b[0m \u001b[0mstart\u001b[0m\u001b[0;34m=\u001b[0m\u001b[0m_start\u001b[0m\u001b[0;34m,\u001b[0m \u001b[0mend\u001b[0m\u001b[0;34m=\u001b[0m\u001b[0m_end\u001b[0m\u001b[0;34m,\u001b[0m \u001b[0;34m**\u001b[0m\u001b[0mkwargs\u001b[0m\u001b[0;34m)\u001b[0m\u001b[0;34m\u001b[0m\u001b[0;34m\u001b[0m\u001b[0m\n\u001b[0m\u001b[1;32m    864\u001b[0m             \u001b[0;32mexcept\u001b[0m \u001b[0mNoMatchingDataError\u001b[0m\u001b[0;34m:\u001b[0m\u001b[0;34m\u001b[0m\u001b[0;34m\u001b[0m\u001b[0m\n\u001b[1;32m    865\u001b[0m                 \u001b[0mprint\u001b[0m\u001b[0;34m(\u001b[0m\u001b[0;34mf\"NoMatchingDataError: between {_start} and {_end}\"\u001b[0m\u001b[0;34m)\u001b[0m\u001b[0;34m\u001b[0m\u001b[0;34m\u001b[0m\u001b[0m\n",
      "\u001b[0;32m~/Documents/eth_codes/case_study/case_study_2_alpiq/env/lib/python3.8/site-packages/entsoe/entsoe.py\u001b[0m in \u001b[0;36mquery_generation_per_plant\u001b[0;34m(self, country_code, start, end, psr_type, lookup_bzones)\u001b[0m\n\u001b[1;32m   1329\u001b[0m         \u001b[0mpd\u001b[0m\u001b[0;34m.\u001b[0m\u001b[0mDataFrame\u001b[0m\u001b[0;34m\u001b[0m\u001b[0;34m\u001b[0m\u001b[0m\n\u001b[1;32m   1330\u001b[0m         \"\"\"\n\u001b[0;32m-> 1331\u001b[0;31m         text = super(EntsoePandasClient, self).query_generation_per_plant(\n\u001b[0m\u001b[1;32m   1332\u001b[0m             \u001b[0mcountry_code\u001b[0m\u001b[0;34m=\u001b[0m\u001b[0mcountry_code\u001b[0m\u001b[0;34m,\u001b[0m \u001b[0mstart\u001b[0m\u001b[0;34m=\u001b[0m\u001b[0mstart\u001b[0m\u001b[0;34m,\u001b[0m \u001b[0mend\u001b[0m\u001b[0;34m=\u001b[0m\u001b[0mend\u001b[0m\u001b[0;34m,\u001b[0m \u001b[0mpsr_type\u001b[0m\u001b[0;34m=\u001b[0m\u001b[0mpsr_type\u001b[0m\u001b[0;34m,\u001b[0m\u001b[0;34m\u001b[0m\u001b[0;34m\u001b[0m\u001b[0m\n\u001b[1;32m   1333\u001b[0m             lookup_bzones=lookup_bzones)\n",
      "\u001b[0;32m~/Documents/eth_codes/case_study/case_study_2_alpiq/env/lib/python3.8/site-packages/entsoe/entsoe.py\u001b[0m in \u001b[0;36mquery_generation_per_plant\u001b[0;34m(self, country_code, start, end, psr_type, lookup_bzones)\u001b[0m\n\u001b[1;32m    329\u001b[0m             \u001b[0mparams\u001b[0m\u001b[0;34m.\u001b[0m\u001b[0mupdate\u001b[0m\u001b[0;34m(\u001b[0m\u001b[0;34m{\u001b[0m\u001b[0;34m'psrType'\u001b[0m\u001b[0;34m:\u001b[0m \u001b[0mpsr_type\u001b[0m\u001b[0;34m}\u001b[0m\u001b[0;34m)\u001b[0m\u001b[0;34m\u001b[0m\u001b[0;34m\u001b[0m\u001b[0m\n\u001b[1;32m    330\u001b[0m \u001b[0;34m\u001b[0m\u001b[0m\n\u001b[0;32m--> 331\u001b[0;31m         \u001b[0mresponse\u001b[0m \u001b[0;34m=\u001b[0m \u001b[0mself\u001b[0m\u001b[0;34m.\u001b[0m\u001b[0mbase_request\u001b[0m\u001b[0;34m(\u001b[0m\u001b[0mparams\u001b[0m\u001b[0;34m=\u001b[0m\u001b[0mparams\u001b[0m\u001b[0;34m,\u001b[0m \u001b[0mstart\u001b[0m\u001b[0;34m=\u001b[0m\u001b[0mstart\u001b[0m\u001b[0;34m,\u001b[0m \u001b[0mend\u001b[0m\u001b[0;34m=\u001b[0m\u001b[0mend\u001b[0m\u001b[0;34m)\u001b[0m\u001b[0;34m\u001b[0m\u001b[0;34m\u001b[0m\u001b[0m\n\u001b[0m\u001b[1;32m    332\u001b[0m         \u001b[0;32mreturn\u001b[0m \u001b[0mresponse\u001b[0m\u001b[0;34m.\u001b[0m\u001b[0mtext\u001b[0m\u001b[0;34m\u001b[0m\u001b[0;34m\u001b[0m\u001b[0m\n\u001b[1;32m    333\u001b[0m \u001b[0;34m\u001b[0m\u001b[0m\n",
      "\u001b[0;32m~/Documents/eth_codes/case_study/case_study_2_alpiq/env/lib/python3.8/site-packages/entsoe/entsoe.py\u001b[0m in \u001b[0;36mretry_wrapper\u001b[0;34m(*args, **kwargs)\u001b[0m\n\u001b[1;32m     42\u001b[0m                 \u001b[0;32mreturn\u001b[0m \u001b[0mresult\u001b[0m\u001b[0;34m\u001b[0m\u001b[0;34m\u001b[0m\u001b[0m\n\u001b[1;32m     43\u001b[0m         \u001b[0;32melse\u001b[0m\u001b[0;34m:\u001b[0m\u001b[0;34m\u001b[0m\u001b[0;34m\u001b[0m\u001b[0m\n\u001b[0;32m---> 44\u001b[0;31m             \u001b[0;32mraise\u001b[0m \u001b[0merror\u001b[0m\u001b[0;34m\u001b[0m\u001b[0;34m\u001b[0m\u001b[0m\n\u001b[0m\u001b[1;32m     45\u001b[0m     \u001b[0;32mreturn\u001b[0m \u001b[0mretry_wrapper\u001b[0m\u001b[0;34m\u001b[0m\u001b[0;34m\u001b[0m\u001b[0m\n\u001b[1;32m     46\u001b[0m \u001b[0;34m\u001b[0m\u001b[0m\n",
      "\u001b[0;32m~/Documents/eth_codes/case_study/case_study_2_alpiq/env/lib/python3.8/site-packages/entsoe/entsoe.py\u001b[0m in \u001b[0;36mretry_wrapper\u001b[0;34m(*args, **kwargs)\u001b[0m\n\u001b[1;32m     33\u001b[0m         \u001b[0;32mfor\u001b[0m \u001b[0m_\u001b[0m \u001b[0;32min\u001b[0m \u001b[0mrange\u001b[0m\u001b[0;34m(\u001b[0m\u001b[0mself\u001b[0m\u001b[0;34m.\u001b[0m\u001b[0mretry_count\u001b[0m\u001b[0;34m)\u001b[0m\u001b[0;34m:\u001b[0m\u001b[0;34m\u001b[0m\u001b[0;34m\u001b[0m\u001b[0m\n\u001b[1;32m     34\u001b[0m             \u001b[0;32mtry\u001b[0m\u001b[0;34m:\u001b[0m\u001b[0;34m\u001b[0m\u001b[0;34m\u001b[0m\u001b[0m\n\u001b[0;32m---> 35\u001b[0;31m                 \u001b[0mresult\u001b[0m \u001b[0;34m=\u001b[0m \u001b[0mfunc\u001b[0m\u001b[0;34m(\u001b[0m\u001b[0;34m*\u001b[0m\u001b[0margs\u001b[0m\u001b[0;34m,\u001b[0m \u001b[0;34m**\u001b[0m\u001b[0mkwargs\u001b[0m\u001b[0;34m)\u001b[0m\u001b[0;34m\u001b[0m\u001b[0;34m\u001b[0m\u001b[0m\n\u001b[0m\u001b[1;32m     36\u001b[0m             \u001b[0;32mexcept\u001b[0m \u001b[0;34m(\u001b[0m\u001b[0mrequests\u001b[0m\u001b[0;34m.\u001b[0m\u001b[0mConnectionError\u001b[0m\u001b[0;34m,\u001b[0m \u001b[0mgaierror\u001b[0m\u001b[0;34m)\u001b[0m \u001b[0;32mas\u001b[0m \u001b[0me\u001b[0m\u001b[0;34m:\u001b[0m\u001b[0;34m\u001b[0m\u001b[0;34m\u001b[0m\u001b[0m\n\u001b[1;32m     37\u001b[0m                 \u001b[0merror\u001b[0m \u001b[0;34m=\u001b[0m \u001b[0me\u001b[0m\u001b[0;34m\u001b[0m\u001b[0;34m\u001b[0m\u001b[0m\n",
      "\u001b[0;32m~/Documents/eth_codes/case_study/case_study_2_alpiq/env/lib/python3.8/site-packages/entsoe/entsoe.py\u001b[0m in \u001b[0;36mbase_request\u001b[0;34m(self, params, start, end)\u001b[0m\n\u001b[1;32m    103\u001b[0m \u001b[0;34m\u001b[0m\u001b[0m\n\u001b[1;32m    104\u001b[0m         \u001b[0mlogging\u001b[0m\u001b[0;34m.\u001b[0m\u001b[0mdebug\u001b[0m\u001b[0;34m(\u001b[0m\u001b[0;34mf'Performing request to {URL} with params {params}'\u001b[0m\u001b[0;34m)\u001b[0m\u001b[0;34m\u001b[0m\u001b[0;34m\u001b[0m\u001b[0m\n\u001b[0;32m--> 105\u001b[0;31m         response = self.session.get(url=URL, params=params,\n\u001b[0m\u001b[1;32m    106\u001b[0m                                     proxies=self.proxies)\n\u001b[1;32m    107\u001b[0m         \u001b[0;32mtry\u001b[0m\u001b[0;34m:\u001b[0m\u001b[0;34m\u001b[0m\u001b[0;34m\u001b[0m\u001b[0m\n",
      "\u001b[0;32m~/Documents/eth_codes/case_study/case_study_2_alpiq/env/lib/python3.8/site-packages/requests/sessions.py\u001b[0m in \u001b[0;36mget\u001b[0;34m(self, url, **kwargs)\u001b[0m\n\u001b[1;32m    541\u001b[0m \u001b[0;34m\u001b[0m\u001b[0m\n\u001b[1;32m    542\u001b[0m         \u001b[0mkwargs\u001b[0m\u001b[0;34m.\u001b[0m\u001b[0msetdefault\u001b[0m\u001b[0;34m(\u001b[0m\u001b[0;34m'allow_redirects'\u001b[0m\u001b[0;34m,\u001b[0m \u001b[0;32mTrue\u001b[0m\u001b[0;34m)\u001b[0m\u001b[0;34m\u001b[0m\u001b[0;34m\u001b[0m\u001b[0m\n\u001b[0;32m--> 543\u001b[0;31m         \u001b[0;32mreturn\u001b[0m \u001b[0mself\u001b[0m\u001b[0;34m.\u001b[0m\u001b[0mrequest\u001b[0m\u001b[0;34m(\u001b[0m\u001b[0;34m'GET'\u001b[0m\u001b[0;34m,\u001b[0m \u001b[0murl\u001b[0m\u001b[0;34m,\u001b[0m \u001b[0;34m**\u001b[0m\u001b[0mkwargs\u001b[0m\u001b[0;34m)\u001b[0m\u001b[0;34m\u001b[0m\u001b[0;34m\u001b[0m\u001b[0m\n\u001b[0m\u001b[1;32m    544\u001b[0m \u001b[0;34m\u001b[0m\u001b[0m\n\u001b[1;32m    545\u001b[0m     \u001b[0;32mdef\u001b[0m \u001b[0moptions\u001b[0m\u001b[0;34m(\u001b[0m\u001b[0mself\u001b[0m\u001b[0;34m,\u001b[0m \u001b[0murl\u001b[0m\u001b[0;34m,\u001b[0m \u001b[0;34m**\u001b[0m\u001b[0mkwargs\u001b[0m\u001b[0;34m)\u001b[0m\u001b[0;34m:\u001b[0m\u001b[0;34m\u001b[0m\u001b[0;34m\u001b[0m\u001b[0m\n",
      "\u001b[0;32m~/Documents/eth_codes/case_study/case_study_2_alpiq/env/lib/python3.8/site-packages/requests/sessions.py\u001b[0m in \u001b[0;36mrequest\u001b[0;34m(self, method, url, params, data, headers, cookies, files, auth, timeout, allow_redirects, proxies, hooks, stream, verify, cert, json)\u001b[0m\n\u001b[1;32m    528\u001b[0m         }\n\u001b[1;32m    529\u001b[0m         \u001b[0msend_kwargs\u001b[0m\u001b[0;34m.\u001b[0m\u001b[0mupdate\u001b[0m\u001b[0;34m(\u001b[0m\u001b[0msettings\u001b[0m\u001b[0;34m)\u001b[0m\u001b[0;34m\u001b[0m\u001b[0;34m\u001b[0m\u001b[0m\n\u001b[0;32m--> 530\u001b[0;31m         \u001b[0mresp\u001b[0m \u001b[0;34m=\u001b[0m \u001b[0mself\u001b[0m\u001b[0;34m.\u001b[0m\u001b[0msend\u001b[0m\u001b[0;34m(\u001b[0m\u001b[0mprep\u001b[0m\u001b[0;34m,\u001b[0m \u001b[0;34m**\u001b[0m\u001b[0msend_kwargs\u001b[0m\u001b[0;34m)\u001b[0m\u001b[0;34m\u001b[0m\u001b[0;34m\u001b[0m\u001b[0m\n\u001b[0m\u001b[1;32m    531\u001b[0m \u001b[0;34m\u001b[0m\u001b[0m\n\u001b[1;32m    532\u001b[0m         \u001b[0;32mreturn\u001b[0m \u001b[0mresp\u001b[0m\u001b[0;34m\u001b[0m\u001b[0;34m\u001b[0m\u001b[0m\n",
      "\u001b[0;32m~/Documents/eth_codes/case_study/case_study_2_alpiq/env/lib/python3.8/site-packages/requests/sessions.py\u001b[0m in \u001b[0;36msend\u001b[0;34m(self, request, **kwargs)\u001b[0m\n\u001b[1;32m    641\u001b[0m \u001b[0;34m\u001b[0m\u001b[0m\n\u001b[1;32m    642\u001b[0m         \u001b[0;31m# Send the request\u001b[0m\u001b[0;34m\u001b[0m\u001b[0;34m\u001b[0m\u001b[0;34m\u001b[0m\u001b[0m\n\u001b[0;32m--> 643\u001b[0;31m         \u001b[0mr\u001b[0m \u001b[0;34m=\u001b[0m \u001b[0madapter\u001b[0m\u001b[0;34m.\u001b[0m\u001b[0msend\u001b[0m\u001b[0;34m(\u001b[0m\u001b[0mrequest\u001b[0m\u001b[0;34m,\u001b[0m \u001b[0;34m**\u001b[0m\u001b[0mkwargs\u001b[0m\u001b[0;34m)\u001b[0m\u001b[0;34m\u001b[0m\u001b[0;34m\u001b[0m\u001b[0m\n\u001b[0m\u001b[1;32m    644\u001b[0m \u001b[0;34m\u001b[0m\u001b[0m\n\u001b[1;32m    645\u001b[0m         \u001b[0;31m# Total elapsed time of the request (approximately)\u001b[0m\u001b[0;34m\u001b[0m\u001b[0;34m\u001b[0m\u001b[0;34m\u001b[0m\u001b[0m\n",
      "\u001b[0;32m~/Documents/eth_codes/case_study/case_study_2_alpiq/env/lib/python3.8/site-packages/requests/adapters.py\u001b[0m in \u001b[0;36msend\u001b[0;34m(self, request, stream, timeout, verify, cert, proxies)\u001b[0m\n\u001b[1;32m    496\u001b[0m \u001b[0;34m\u001b[0m\u001b[0m\n\u001b[1;32m    497\u001b[0m         \u001b[0;32mexcept\u001b[0m \u001b[0;34m(\u001b[0m\u001b[0mProtocolError\u001b[0m\u001b[0;34m,\u001b[0m \u001b[0msocket\u001b[0m\u001b[0;34m.\u001b[0m\u001b[0merror\u001b[0m\u001b[0;34m)\u001b[0m \u001b[0;32mas\u001b[0m \u001b[0merr\u001b[0m\u001b[0;34m:\u001b[0m\u001b[0;34m\u001b[0m\u001b[0;34m\u001b[0m\u001b[0m\n\u001b[0;32m--> 498\u001b[0;31m             \u001b[0;32mraise\u001b[0m \u001b[0mConnectionError\u001b[0m\u001b[0;34m(\u001b[0m\u001b[0merr\u001b[0m\u001b[0;34m,\u001b[0m \u001b[0mrequest\u001b[0m\u001b[0;34m=\u001b[0m\u001b[0mrequest\u001b[0m\u001b[0;34m)\u001b[0m\u001b[0;34m\u001b[0m\u001b[0;34m\u001b[0m\u001b[0m\n\u001b[0m\u001b[1;32m    499\u001b[0m \u001b[0;34m\u001b[0m\u001b[0m\n\u001b[1;32m    500\u001b[0m         \u001b[0;32mexcept\u001b[0m \u001b[0mMaxRetryError\u001b[0m \u001b[0;32mas\u001b[0m \u001b[0me\u001b[0m\u001b[0;34m:\u001b[0m\u001b[0;34m\u001b[0m\u001b[0;34m\u001b[0m\u001b[0m\n",
      "\u001b[0;31mConnectionError\u001b[0m: ('Connection aborted.', RemoteDisconnected('Remote end closed connection without response'))"
     ]
    }
   ],
   "source": [
    "df_generation_per_plant=store_data(client.query_generation_per_plant(country_code_1, start=start, end=end), 'generation_per_plant')"
   ]
  },
  {
   "cell_type": "code",
   "execution_count": null,
   "metadata": {},
   "outputs": [],
   "source": [
    "df_generation_per_plant.head()"
   ]
  },
  {
   "cell_type": "code",
   "execution_count": 54,
   "metadata": {},
   "outputs": [
    {
     "data": {
      "text/html": [
       "<div>\n",
       "<style scoped>\n",
       "    .dataframe tbody tr th:only-of-type {\n",
       "        vertical-align: middle;\n",
       "    }\n",
       "\n",
       "    .dataframe tbody tr th {\n",
       "        vertical-align: top;\n",
       "    }\n",
       "\n",
       "    .dataframe thead th {\n",
       "        text-align: right;\n",
       "    }\n",
       "</style>\n",
       "<table border=\"1\" class=\"dataframe\">\n",
       "  <thead>\n",
       "    <tr style=\"text-align: right;\">\n",
       "      <th></th>\n",
       "      <th>AET Leventina</th>\n",
       "      <th>Amsteg</th>\n",
       "      <th>Bergell Turbinen</th>\n",
       "      <th>Beznau 1</th>\n",
       "      <th>Beznau 2</th>\n",
       "      <th>Centrale di Bavona</th>\n",
       "      <th>Centrale di Biasca</th>\n",
       "      <th>Centrale di Cavergno</th>\n",
       "      <th>Centrale di Olivone</th>\n",
       "      <th>Centrale di Robiei</th>\n",
       "      <th>...</th>\n",
       "      <th>Usine de Bieudron</th>\n",
       "      <th>Usine de Fionnay</th>\n",
       "      <th>Usine de Nant de Drance</th>\n",
       "      <th>Usine de Nendaz</th>\n",
       "      <th>Usine de Vallorcine</th>\n",
       "      <th>Usine de Veytaux</th>\n",
       "      <th>Usine de la BÃ¢tiaz</th>\n",
       "      <th>Verzasca</th>\n",
       "      <th>WÃ¤gital Turbinen</th>\n",
       "      <th>time</th>\n",
       "    </tr>\n",
       "  </thead>\n",
       "  <tbody>\n",
       "    <tr>\n",
       "      <th>0</th>\n",
       "      <td>97.0</td>\n",
       "      <td>20.0</td>\n",
       "      <td>0.0</td>\n",
       "      <td>366.0</td>\n",
       "      <td>367.0</td>\n",
       "      <td>0.0</td>\n",
       "      <td>0.0</td>\n",
       "      <td>61.0</td>\n",
       "      <td>0.0</td>\n",
       "      <td>0.0</td>\n",
       "      <td>...</td>\n",
       "      <td>226.0</td>\n",
       "      <td>0.0</td>\n",
       "      <td>0.0</td>\n",
       "      <td>0.0</td>\n",
       "      <td>48.0</td>\n",
       "      <td>0.0</td>\n",
       "      <td>41.0</td>\n",
       "      <td>6.0</td>\n",
       "      <td>0.0</td>\n",
       "      <td>2020-01-01 00:00:00+01:00</td>\n",
       "    </tr>\n",
       "    <tr>\n",
       "      <th>1</th>\n",
       "      <td>101.0</td>\n",
       "      <td>15.0</td>\n",
       "      <td>0.0</td>\n",
       "      <td>365.0</td>\n",
       "      <td>367.0</td>\n",
       "      <td>0.0</td>\n",
       "      <td>0.0</td>\n",
       "      <td>7.0</td>\n",
       "      <td>0.0</td>\n",
       "      <td>0.0</td>\n",
       "      <td>...</td>\n",
       "      <td>261.0</td>\n",
       "      <td>0.0</td>\n",
       "      <td>0.0</td>\n",
       "      <td>0.0</td>\n",
       "      <td>49.0</td>\n",
       "      <td>0.0</td>\n",
       "      <td>41.0</td>\n",
       "      <td>0.0</td>\n",
       "      <td>0.0</td>\n",
       "      <td>2020-01-01 01:00:00+01:00</td>\n",
       "    </tr>\n",
       "    <tr>\n",
       "      <th>2</th>\n",
       "      <td>100.0</td>\n",
       "      <td>24.0</td>\n",
       "      <td>0.0</td>\n",
       "      <td>366.0</td>\n",
       "      <td>367.0</td>\n",
       "      <td>0.0</td>\n",
       "      <td>0.0</td>\n",
       "      <td>6.0</td>\n",
       "      <td>0.0</td>\n",
       "      <td>0.0</td>\n",
       "      <td>...</td>\n",
       "      <td>258.0</td>\n",
       "      <td>0.0</td>\n",
       "      <td>0.0</td>\n",
       "      <td>0.0</td>\n",
       "      <td>49.0</td>\n",
       "      <td>0.0</td>\n",
       "      <td>42.0</td>\n",
       "      <td>2.0</td>\n",
       "      <td>0.0</td>\n",
       "      <td>2020-01-01 02:00:00+01:00</td>\n",
       "    </tr>\n",
       "    <tr>\n",
       "      <th>3</th>\n",
       "      <td>87.0</td>\n",
       "      <td>22.0</td>\n",
       "      <td>0.0</td>\n",
       "      <td>365.0</td>\n",
       "      <td>367.0</td>\n",
       "      <td>0.0</td>\n",
       "      <td>0.0</td>\n",
       "      <td>8.0</td>\n",
       "      <td>0.0</td>\n",
       "      <td>0.0</td>\n",
       "      <td>...</td>\n",
       "      <td>236.0</td>\n",
       "      <td>0.0</td>\n",
       "      <td>0.0</td>\n",
       "      <td>0.0</td>\n",
       "      <td>49.0</td>\n",
       "      <td>0.0</td>\n",
       "      <td>41.0</td>\n",
       "      <td>15.0</td>\n",
       "      <td>0.0</td>\n",
       "      <td>2020-01-01 03:00:00+01:00</td>\n",
       "    </tr>\n",
       "    <tr>\n",
       "      <th>4</th>\n",
       "      <td>78.0</td>\n",
       "      <td>21.0</td>\n",
       "      <td>0.0</td>\n",
       "      <td>364.0</td>\n",
       "      <td>367.0</td>\n",
       "      <td>0.0</td>\n",
       "      <td>0.0</td>\n",
       "      <td>6.0</td>\n",
       "      <td>0.0</td>\n",
       "      <td>0.0</td>\n",
       "      <td>...</td>\n",
       "      <td>225.0</td>\n",
       "      <td>0.0</td>\n",
       "      <td>0.0</td>\n",
       "      <td>0.0</td>\n",
       "      <td>49.0</td>\n",
       "      <td>0.0</td>\n",
       "      <td>41.0</td>\n",
       "      <td>22.0</td>\n",
       "      <td>0.0</td>\n",
       "      <td>2020-01-01 04:00:00+01:00</td>\n",
       "    </tr>\n",
       "  </tbody>\n",
       "</table>\n",
       "<p>5 rows × 44 columns</p>\n",
       "</div>"
      ],
      "text/plain": [
       "   AET Leventina  Amsteg  Bergell Turbinen  Beznau 1  Beznau 2  \\\n",
       "0           97.0    20.0               0.0     366.0     367.0   \n",
       "1          101.0    15.0               0.0     365.0     367.0   \n",
       "2          100.0    24.0               0.0     366.0     367.0   \n",
       "3           87.0    22.0               0.0     365.0     367.0   \n",
       "4           78.0    21.0               0.0     364.0     367.0   \n",
       "\n",
       "   Centrale di Bavona  Centrale di Biasca  Centrale di Cavergno  \\\n",
       "0                 0.0                 0.0                  61.0   \n",
       "1                 0.0                 0.0                   7.0   \n",
       "2                 0.0                 0.0                   6.0   \n",
       "3                 0.0                 0.0                   8.0   \n",
       "4                 0.0                 0.0                   6.0   \n",
       "\n",
       "   Centrale di Olivone  Centrale di Robiei  ...  Usine de Bieudron  \\\n",
       "0                  0.0                 0.0  ...              226.0   \n",
       "1                  0.0                 0.0  ...              261.0   \n",
       "2                  0.0                 0.0  ...              258.0   \n",
       "3                  0.0                 0.0  ...              236.0   \n",
       "4                  0.0                 0.0  ...              225.0   \n",
       "\n",
       "   Usine de Fionnay  Usine de Nant de Drance  Usine de Nendaz  \\\n",
       "0               0.0                      0.0              0.0   \n",
       "1               0.0                      0.0              0.0   \n",
       "2               0.0                      0.0              0.0   \n",
       "3               0.0                      0.0              0.0   \n",
       "4               0.0                      0.0              0.0   \n",
       "\n",
       "   Usine de Vallorcine  Usine de Veytaux  Usine de la BÃ¢tiaz  Verzasca  \\\n",
       "0                 48.0               0.0                 41.0       6.0   \n",
       "1                 49.0               0.0                 41.0       0.0   \n",
       "2                 49.0               0.0                 42.0       2.0   \n",
       "3                 49.0               0.0                 41.0      15.0   \n",
       "4                 49.0               0.0                 41.0      22.0   \n",
       "\n",
       "   WÃ¤gital Turbinen                      time  \n",
       "0                0.0 2020-01-01 00:00:00+01:00  \n",
       "1                0.0 2020-01-01 01:00:00+01:00  \n",
       "2                0.0 2020-01-01 02:00:00+01:00  \n",
       "3                0.0 2020-01-01 03:00:00+01:00  \n",
       "4                0.0 2020-01-01 04:00:00+01:00  \n",
       "\n",
       "[5 rows x 44 columns]"
      ]
     },
     "execution_count": 54,
     "metadata": {},
     "output_type": "execute_result"
    }
   ],
   "source": [
    "df_generation_per_plant.head()"
   ]
  },
  {
   "cell_type": "markdown",
   "metadata": {},
   "source": [
    "The unused capacity per palnt at every hour can be computed by knowing the capacity per unit of the plants."
   ]
  },
  {
   "cell_type": "code",
   "execution_count": 60,
   "metadata": {},
   "outputs": [],
   "source": [
    "df_capacity_per_plant=client.query_installed_generation_capacity_per_unit(country_code=country_code_1, start=start, end=end)"
   ]
  },
  {
   "cell_type": "code",
   "execution_count": 61,
   "metadata": {},
   "outputs": [
    {
     "data": {
      "text/html": [
       "<div>\n",
       "<style scoped>\n",
       "    .dataframe tbody tr th:only-of-type {\n",
       "        vertical-align: middle;\n",
       "    }\n",
       "\n",
       "    .dataframe tbody tr th {\n",
       "        vertical-align: top;\n",
       "    }\n",
       "\n",
       "    .dataframe thead th {\n",
       "        text-align: right;\n",
       "    }\n",
       "</style>\n",
       "<table border=\"1\" class=\"dataframe\">\n",
       "  <thead>\n",
       "    <tr style=\"text-align: right;\">\n",
       "      <th></th>\n",
       "      <th>Bidding Zone</th>\n",
       "      <th>Installed Capacity [MW]</th>\n",
       "      <th>Name</th>\n",
       "      <th>Production Type</th>\n",
       "      <th>Voltage Connection Level [kV]</th>\n",
       "    </tr>\n",
       "  </thead>\n",
       "  <tbody>\n",
       "    <tr>\n",
       "      <th>12W-0000000797-L</th>\n",
       "      <td>10YCH-SWISSGRIDZ</td>\n",
       "      <td>126</td>\n",
       "      <td>Kraftwerk LÃ¶tschen</td>\n",
       "      <td>Hydro Run-of-river and poundage</td>\n",
       "      <td>65</td>\n",
       "    </tr>\n",
       "    <tr>\n",
       "      <th>12W-0000000018-B</th>\n",
       "      <td>10YCH-SWISSGRIDZ</td>\n",
       "      <td>1524</td>\n",
       "      <td>KLL - KW Linth-Limmern AG</td>\n",
       "      <td>Hydro Pumped Storage</td>\n",
       "      <td>380</td>\n",
       "    </tr>\n",
       "    <tr>\n",
       "      <th>12W-0000000011-W</th>\n",
       "      <td>10YCH-SWISSGRIDZ</td>\n",
       "      <td>258</td>\n",
       "      <td>KWZ - KW Zervreila AG</td>\n",
       "      <td>Hydro Water Reservoir</td>\n",
       "      <td>220</td>\n",
       "    </tr>\n",
       "    <tr>\n",
       "      <th>12W-0000000021-S</th>\n",
       "      <td>10YCH-SWISSGRIDZ</td>\n",
       "      <td>336</td>\n",
       "      <td>KVR - KW Vorderrhein AG</td>\n",
       "      <td>Hydro Water Reservoir</td>\n",
       "      <td>220</td>\n",
       "    </tr>\n",
       "    <tr>\n",
       "      <th>12W-0000000065-0</th>\n",
       "      <td>10YCH-SWISSGRIDZ</td>\n",
       "      <td>114</td>\n",
       "      <td>Verzasca</td>\n",
       "      <td>Hydro Water Reservoir</td>\n",
       "      <td>150</td>\n",
       "    </tr>\n",
       "    <tr>\n",
       "      <th>12W-0000000052-D</th>\n",
       "      <td>10YCH-SWISSGRIDZ</td>\n",
       "      <td>1220</td>\n",
       "      <td>KKL - KernKW Leibstadt AG</td>\n",
       "      <td>Nuclear</td>\n",
       "      <td>380</td>\n",
       "    </tr>\n",
       "    <tr>\n",
       "      <th>12W-0000000105-J</th>\n",
       "      <td>10YCH-SWISSGRIDZ</td>\n",
       "      <td>340</td>\n",
       "      <td>Electra-Massa (EM)</td>\n",
       "      <td>Hydro Water Reservoir</td>\n",
       "      <td>220</td>\n",
       "    </tr>\n",
       "    <tr>\n",
       "      <th>12W-0000000016-H</th>\n",
       "      <td>10YCH-SWISSGRIDZ</td>\n",
       "      <td>640</td>\n",
       "      <td>KHR - KW Hinterrhein AG</td>\n",
       "      <td>Hydro Pumped Storage</td>\n",
       "      <td>220</td>\n",
       "    </tr>\n",
       "    <tr>\n",
       "      <th>12W-0000000034-F</th>\n",
       "      <td>10YCH-SWISSGRIDZ</td>\n",
       "      <td>421</td>\n",
       "      <td>Kraftwerke Mauvoisin AG</td>\n",
       "      <td>Hydro Water Reservoir</td>\n",
       "      <td>220</td>\n",
       "    </tr>\n",
       "    <tr>\n",
       "      <th>12W-0000000017-E</th>\n",
       "      <td>10YCH-SWISSGRIDZ</td>\n",
       "      <td>730</td>\n",
       "      <td>KKB - KernKW Beznau</td>\n",
       "      <td>Nuclear</td>\n",
       "      <td>380</td>\n",
       "    </tr>\n",
       "    <tr>\n",
       "      <th>12W-0000000925-8</th>\n",
       "      <td>10YCH-SWISSGRIDZ</td>\n",
       "      <td>547</td>\n",
       "      <td>Maggia (OFIMA)</td>\n",
       "      <td>Hydro Water Reservoir</td>\n",
       "      <td>220</td>\n",
       "    </tr>\n",
       "    <tr>\n",
       "      <th>12W-0000000849-U</th>\n",
       "      <td>10YCH-SWISSGRIDZ</td>\n",
       "      <td>120</td>\n",
       "      <td>Kraftwerk Amsteg</td>\n",
       "      <td>Hydro Run-of-river and poundage</td>\n",
       "      <td>132</td>\n",
       "    </tr>\n",
       "    <tr>\n",
       "      <th>12W-0000000035-C</th>\n",
       "      <td>10YCH-SWISSGRIDZ</td>\n",
       "      <td>416</td>\n",
       "      <td>EKW - Engadiner KW AG</td>\n",
       "      <td>Hydro Pumped Storage</td>\n",
       "      <td>380</td>\n",
       "    </tr>\n",
       "    <tr>\n",
       "      <th>12W-0000000241-A</th>\n",
       "      <td>10YCH-SWISSGRIDZ</td>\n",
       "      <td>914</td>\n",
       "      <td>Nant de Drance (NDD)</td>\n",
       "      <td>Hydro Pumped Storage</td>\n",
       "      <td>380</td>\n",
       "    </tr>\n",
       "    <tr>\n",
       "      <th>12W-0000000851-D</th>\n",
       "      <td>10YCH-SWISSGRIDZ</td>\n",
       "      <td>107</td>\n",
       "      <td>Kraftwerk CB-VE</td>\n",
       "      <td>Hydro Pumped Storage</td>\n",
       "      <td>132</td>\n",
       "    </tr>\n",
       "    <tr>\n",
       "      <th>12W-0000000116-C</th>\n",
       "      <td>10YCH-SWISSGRIDZ</td>\n",
       "      <td>484</td>\n",
       "      <td>Hongrin-LÃ©man (FMHL)</td>\n",
       "      <td>Hydro Pumped Storage</td>\n",
       "      <td>220</td>\n",
       "    </tr>\n",
       "    <tr>\n",
       "      <th>12W-0000000080-7</th>\n",
       "      <td>10YCH-SWISSGRIDZ</td>\n",
       "      <td>100</td>\n",
       "      <td>KW Rheinfelden CH</td>\n",
       "      <td>Hydro Run-of-river and poundage</td>\n",
       "      <td>220</td>\n",
       "    </tr>\n",
       "    <tr>\n",
       "      <th>12W-0000001614-O</th>\n",
       "      <td>10YCH-SWISSGRIDZ</td>\n",
       "      <td>108</td>\n",
       "      <td>WÃ¤gital</td>\n",
       "      <td>Hydro Pumped Storage</td>\n",
       "      <td>220</td>\n",
       "    </tr>\n",
       "    <tr>\n",
       "      <th>12W-0000001567-0</th>\n",
       "      <td>10YCH-SWISSGRIDZ</td>\n",
       "      <td>198</td>\n",
       "      <td>Kraftwerk MittelbÃ¼nden</td>\n",
       "      <td>Hydro Water Reservoir</td>\n",
       "      <td>220</td>\n",
       "    </tr>\n",
       "    <tr>\n",
       "      <th>12W-0000000846-2</th>\n",
       "      <td>10YCH-SWISSGRIDZ</td>\n",
       "      <td>102</td>\n",
       "      <td>Kraftwerk GÃ¶schenen</td>\n",
       "      <td>Hydro Water Reservoir</td>\n",
       "      <td>132</td>\n",
       "    </tr>\n",
       "    <tr>\n",
       "      <th>12W-0000000033-I</th>\n",
       "      <td>10YCH-SWISSGRIDZ</td>\n",
       "      <td>263</td>\n",
       "      <td>KWM - KW Mattmark AG</td>\n",
       "      <td>Hydro Pumped Storage</td>\n",
       "      <td>220</td>\n",
       "    </tr>\n",
       "    <tr>\n",
       "      <th>12W-0000000064-3</th>\n",
       "      <td>10YCH-SWISSGRIDZ</td>\n",
       "      <td>226</td>\n",
       "      <td>AET Leventina</td>\n",
       "      <td>Hydro Water Reservoir</td>\n",
       "      <td>150</td>\n",
       "    </tr>\n",
       "    <tr>\n",
       "      <th>12W-0000000056-1</th>\n",
       "      <td>10YCH-SWISSGRIDZ</td>\n",
       "      <td>1020</td>\n",
       "      <td>Kernkraftwerk GÃ¶sgen</td>\n",
       "      <td>Nuclear</td>\n",
       "      <td>380</td>\n",
       "    </tr>\n",
       "    <tr>\n",
       "      <th>12W-0000000060-F</th>\n",
       "      <td>10YCH-SWISSGRIDZ</td>\n",
       "      <td>420</td>\n",
       "      <td>Emosson (ESA)</td>\n",
       "      <td>Hydro Water Reservoir</td>\n",
       "      <td>220</td>\n",
       "    </tr>\n",
       "    <tr>\n",
       "      <th>12W-0000000902-P</th>\n",
       "      <td>10YCH-SWISSGRIDZ</td>\n",
       "      <td>1926</td>\n",
       "      <td>Gde-Dixence (GD)</td>\n",
       "      <td>Hydro Water Reservoir</td>\n",
       "      <td>380</td>\n",
       "    </tr>\n",
       "    <tr>\n",
       "      <th>12W-0000001565-6</th>\n",
       "      <td>10YCH-SWISSGRIDZ</td>\n",
       "      <td>192.7</td>\n",
       "      <td>Kraftwerk Bergell</td>\n",
       "      <td>Hydro Pumped Storage</td>\n",
       "      <td>220</td>\n",
       "    </tr>\n",
       "    <tr>\n",
       "      <th>12W-0000000031-O</th>\n",
       "      <td>10YCH-SWISSGRIDZ</td>\n",
       "      <td>1307</td>\n",
       "      <td>KW Oberhasli AG (KWO)</td>\n",
       "      <td>Hydro Pumped Storage</td>\n",
       "      <td>220</td>\n",
       "    </tr>\n",
       "    <tr>\n",
       "      <th>12W-0000000917-6</th>\n",
       "      <td>10YCH-SWISSGRIDZ</td>\n",
       "      <td>415</td>\n",
       "      <td>KSL - KW Sarganserland AG</td>\n",
       "      <td>Hydro Pumped Storage</td>\n",
       "      <td>380</td>\n",
       "    </tr>\n",
       "    <tr>\n",
       "      <th>12W-0000000850-G</th>\n",
       "      <td>10YCH-SWISSGRIDZ</td>\n",
       "      <td>125</td>\n",
       "      <td>Kraftwerk Etzelwerk</td>\n",
       "      <td>Hydro Pumped Storage</td>\n",
       "      <td>132</td>\n",
       "    </tr>\n",
       "    <tr>\n",
       "      <th>12W-0000001690-4</th>\n",
       "      <td>10YCH-SWISSGRIDZ</td>\n",
       "      <td>106</td>\n",
       "      <td>KW Laufenburg CH</td>\n",
       "      <td>Hydro Run-of-river and poundage</td>\n",
       "      <td>110</td>\n",
       "    </tr>\n",
       "    <tr>\n",
       "      <th>12W-0000000026-D</th>\n",
       "      <td>10YCH-SWISSGRIDZ</td>\n",
       "      <td>416</td>\n",
       "      <td>Blenio (OFIBLE)</td>\n",
       "      <td>Hydro Water Reservoir</td>\n",
       "      <td>220</td>\n",
       "    </tr>\n",
       "  </tbody>\n",
       "</table>\n",
       "</div>"
      ],
      "text/plain": [
       "                      Bidding Zone Installed Capacity [MW]  \\\n",
       "12W-0000000797-L  10YCH-SWISSGRIDZ                     126   \n",
       "12W-0000000018-B  10YCH-SWISSGRIDZ                    1524   \n",
       "12W-0000000011-W  10YCH-SWISSGRIDZ                     258   \n",
       "12W-0000000021-S  10YCH-SWISSGRIDZ                     336   \n",
       "12W-0000000065-0  10YCH-SWISSGRIDZ                     114   \n",
       "12W-0000000052-D  10YCH-SWISSGRIDZ                    1220   \n",
       "12W-0000000105-J  10YCH-SWISSGRIDZ                     340   \n",
       "12W-0000000016-H  10YCH-SWISSGRIDZ                     640   \n",
       "12W-0000000034-F  10YCH-SWISSGRIDZ                     421   \n",
       "12W-0000000017-E  10YCH-SWISSGRIDZ                     730   \n",
       "12W-0000000925-8  10YCH-SWISSGRIDZ                     547   \n",
       "12W-0000000849-U  10YCH-SWISSGRIDZ                     120   \n",
       "12W-0000000035-C  10YCH-SWISSGRIDZ                     416   \n",
       "12W-0000000241-A  10YCH-SWISSGRIDZ                     914   \n",
       "12W-0000000851-D  10YCH-SWISSGRIDZ                     107   \n",
       "12W-0000000116-C  10YCH-SWISSGRIDZ                     484   \n",
       "12W-0000000080-7  10YCH-SWISSGRIDZ                     100   \n",
       "12W-0000001614-O  10YCH-SWISSGRIDZ                     108   \n",
       "12W-0000001567-0  10YCH-SWISSGRIDZ                     198   \n",
       "12W-0000000846-2  10YCH-SWISSGRIDZ                     102   \n",
       "12W-0000000033-I  10YCH-SWISSGRIDZ                     263   \n",
       "12W-0000000064-3  10YCH-SWISSGRIDZ                     226   \n",
       "12W-0000000056-1  10YCH-SWISSGRIDZ                    1020   \n",
       "12W-0000000060-F  10YCH-SWISSGRIDZ                     420   \n",
       "12W-0000000902-P  10YCH-SWISSGRIDZ                    1926   \n",
       "12W-0000001565-6  10YCH-SWISSGRIDZ                   192.7   \n",
       "12W-0000000031-O  10YCH-SWISSGRIDZ                    1307   \n",
       "12W-0000000917-6  10YCH-SWISSGRIDZ                     415   \n",
       "12W-0000000850-G  10YCH-SWISSGRIDZ                     125   \n",
       "12W-0000001690-4  10YCH-SWISSGRIDZ                     106   \n",
       "12W-0000000026-D  10YCH-SWISSGRIDZ                     416   \n",
       "\n",
       "                                       Name                  Production Type  \\\n",
       "12W-0000000797-L        Kraftwerk LÃ¶tschen  Hydro Run-of-river and poundage   \n",
       "12W-0000000018-B  KLL - KW Linth-Limmern AG             Hydro Pumped Storage   \n",
       "12W-0000000011-W      KWZ - KW Zervreila AG            Hydro Water Reservoir   \n",
       "12W-0000000021-S    KVR - KW Vorderrhein AG            Hydro Water Reservoir   \n",
       "12W-0000000065-0                   Verzasca            Hydro Water Reservoir   \n",
       "12W-0000000052-D  KKL - KernKW Leibstadt AG                          Nuclear   \n",
       "12W-0000000105-J         Electra-Massa (EM)            Hydro Water Reservoir   \n",
       "12W-0000000016-H    KHR - KW Hinterrhein AG             Hydro Pumped Storage   \n",
       "12W-0000000034-F    Kraftwerke Mauvoisin AG            Hydro Water Reservoir   \n",
       "12W-0000000017-E        KKB - KernKW Beznau                          Nuclear   \n",
       "12W-0000000925-8             Maggia (OFIMA)            Hydro Water Reservoir   \n",
       "12W-0000000849-U           Kraftwerk Amsteg  Hydro Run-of-river and poundage   \n",
       "12W-0000000035-C      EKW - Engadiner KW AG             Hydro Pumped Storage   \n",
       "12W-0000000241-A       Nant de Drance (NDD)             Hydro Pumped Storage   \n",
       "12W-0000000851-D            Kraftwerk CB-VE             Hydro Pumped Storage   \n",
       "12W-0000000116-C      Hongrin-LÃ©man (FMHL)             Hydro Pumped Storage   \n",
       "12W-0000000080-7          KW Rheinfelden CH  Hydro Run-of-river and poundage   \n",
       "12W-0000001614-O                   WÃ¤gital             Hydro Pumped Storage   \n",
       "12W-0000001567-0    Kraftwerk MittelbÃ¼nden            Hydro Water Reservoir   \n",
       "12W-0000000846-2       Kraftwerk GÃ¶schenen            Hydro Water Reservoir   \n",
       "12W-0000000033-I       KWM - KW Mattmark AG             Hydro Pumped Storage   \n",
       "12W-0000000064-3              AET Leventina            Hydro Water Reservoir   \n",
       "12W-0000000056-1      Kernkraftwerk GÃ¶sgen                          Nuclear   \n",
       "12W-0000000060-F              Emosson (ESA)            Hydro Water Reservoir   \n",
       "12W-0000000902-P           Gde-Dixence (GD)            Hydro Water Reservoir   \n",
       "12W-0000001565-6          Kraftwerk Bergell             Hydro Pumped Storage   \n",
       "12W-0000000031-O      KW Oberhasli AG (KWO)             Hydro Pumped Storage   \n",
       "12W-0000000917-6  KSL - KW Sarganserland AG             Hydro Pumped Storage   \n",
       "12W-0000000850-G        Kraftwerk Etzelwerk             Hydro Pumped Storage   \n",
       "12W-0000001690-4           KW Laufenburg CH  Hydro Run-of-river and poundage   \n",
       "12W-0000000026-D            Blenio (OFIBLE)            Hydro Water Reservoir   \n",
       "\n",
       "                 Voltage Connection Level [kV]  \n",
       "12W-0000000797-L                            65  \n",
       "12W-0000000018-B                           380  \n",
       "12W-0000000011-W                           220  \n",
       "12W-0000000021-S                           220  \n",
       "12W-0000000065-0                           150  \n",
       "12W-0000000052-D                           380  \n",
       "12W-0000000105-J                           220  \n",
       "12W-0000000016-H                           220  \n",
       "12W-0000000034-F                           220  \n",
       "12W-0000000017-E                           380  \n",
       "12W-0000000925-8                           220  \n",
       "12W-0000000849-U                           132  \n",
       "12W-0000000035-C                           380  \n",
       "12W-0000000241-A                           380  \n",
       "12W-0000000851-D                           132  \n",
       "12W-0000000116-C                           220  \n",
       "12W-0000000080-7                           220  \n",
       "12W-0000001614-O                           220  \n",
       "12W-0000001567-0                           220  \n",
       "12W-0000000846-2                           132  \n",
       "12W-0000000033-I                           220  \n",
       "12W-0000000064-3                           150  \n",
       "12W-0000000056-1                           380  \n",
       "12W-0000000060-F                           220  \n",
       "12W-0000000902-P                           380  \n",
       "12W-0000001565-6                           220  \n",
       "12W-0000000031-O                           220  \n",
       "12W-0000000917-6                           380  \n",
       "12W-0000000850-G                           132  \n",
       "12W-0000001690-4                           110  \n",
       "12W-0000000026-D                           220  "
      ]
     },
     "execution_count": 61,
     "metadata": {},
     "output_type": "execute_result"
    }
   ],
   "source": [
    "df_capacity_per_plant"
   ]
  },
  {
   "cell_type": "markdown",
   "metadata": {},
   "source": [
    "##### Transfer capacity"
   ]
  },
  {
   "cell_type": "markdown",
   "metadata": {},
   "source": [
    "Problems in identifying the explicit capacity allocation (transfer capacity): \n",
    "\n",
    "1) It is not possible to look back in time more than 2 months with the API\n",
    "\n",
    "2) The explicit auction for the intraday cross-border capacity between Germany and Switzerland are not loaded through API. It seems like Germany doesn't load both with python API and with the direct API request.\n",
    "\n",
    "3) What is the difference between Control Zone, Bidding Zone and Bidding Zone Aggregation in [here](https://transparency.entsoe.eu/transmission/r2/explicitAllocationsIntraday/show?name=&defaultValue=false&viewType=TABLE&areaType=BORDER_CTA&atch=false&dateTime.dateTime=08.10.2020+00:00|UTC|DAY&dateTime.endDateTime=14.10.2020+00:00|UTC|DAY&border.values=CTY|10YCH-SWISSGRIDZ!CTA_CTA|10YCH-SWISSGRIDZ_CTA_CTA|10YIT-GRTN-----B&direction.values=Export&direction.values=Import&category.values=A01&category.values=A04&category.values=A03&category.values=A02&sequence.values=1&sequence.values=2&sequence.values=3&sequence.values=4&sequence.values=5&sequence.values=6&dv-datatable_length=10)?\n",
    "\n",
    "4) For the intraday capacity allocation, those of Transnet and Amprion are seperated so we should sum them up right?\n",
    "\n",
    "5) OC, RC and AC different categories: what is the meaning?"
   ]
  },
  {
   "cell_type": "code",
   "execution_count": 40,
   "metadata": {},
   "outputs": [],
   "source": [
    "start_date='20200901'\n",
    "end_date='20201015'\n",
    "start, end, country_code_1, country_code_2= store_geographical_time_variables(start_date, \n",
    "                                                                              end_date,\n",
    "                                                                              'Switzerland',\n",
    "                                                                              'Austria')"
   ]
  },
  {
   "cell_type": "code",
   "execution_count": 43,
   "metadata": {},
   "outputs": [],
   "source": [
    "df_net_transfer_capacity_dayahead_CH_AT=process_xml_net_capacity(client.query_net_transfer_capacity_dayahead(country_code_from=country_code_1,\n",
    "                                                                     country_code_to=country_code_2,\n",
    "                                                                     start=start, end=end), \n",
    "                         start, \n",
    "                         end,\n",
    "                         name='net_transfer_capacity_dayahead_CH_AT')"
   ]
  },
  {
   "cell_type": "code",
   "execution_count": 44,
   "metadata": {},
   "outputs": [
    {
     "data": {
      "text/html": [
       "<div>\n",
       "<style scoped>\n",
       "    .dataframe tbody tr th:only-of-type {\n",
       "        vertical-align: middle;\n",
       "    }\n",
       "\n",
       "    .dataframe tbody tr th {\n",
       "        vertical-align: top;\n",
       "    }\n",
       "\n",
       "    .dataframe thead th {\n",
       "        text-align: right;\n",
       "    }\n",
       "</style>\n",
       "<table border=\"1\" class=\"dataframe\">\n",
       "  <thead>\n",
       "    <tr style=\"text-align: right;\">\n",
       "      <th></th>\n",
       "      <th>time</th>\n",
       "      <th>net_transfer_capacity_dayahead_CH_AT</th>\n",
       "    </tr>\n",
       "  </thead>\n",
       "  <tbody>\n",
       "    <tr>\n",
       "      <th>0</th>\n",
       "      <td>2020-09-01 00:00</td>\n",
       "      <td>1200</td>\n",
       "    </tr>\n",
       "    <tr>\n",
       "      <th>1</th>\n",
       "      <td>2020-09-01 01:00</td>\n",
       "      <td>1200</td>\n",
       "    </tr>\n",
       "    <tr>\n",
       "      <th>2</th>\n",
       "      <td>2020-09-01 02:00</td>\n",
       "      <td>1200</td>\n",
       "    </tr>\n",
       "    <tr>\n",
       "      <th>3</th>\n",
       "      <td>2020-09-01 03:00</td>\n",
       "      <td>1200</td>\n",
       "    </tr>\n",
       "    <tr>\n",
       "      <th>4</th>\n",
       "      <td>2020-09-01 04:00</td>\n",
       "      <td>1200</td>\n",
       "    </tr>\n",
       "    <tr>\n",
       "      <th>...</th>\n",
       "      <td>...</td>\n",
       "      <td>...</td>\n",
       "    </tr>\n",
       "    <tr>\n",
       "      <th>1051</th>\n",
       "      <td>2020-10-14 19:00</td>\n",
       "      <td>1200</td>\n",
       "    </tr>\n",
       "    <tr>\n",
       "      <th>1052</th>\n",
       "      <td>2020-10-14 20:00</td>\n",
       "      <td>1200</td>\n",
       "    </tr>\n",
       "    <tr>\n",
       "      <th>1053</th>\n",
       "      <td>2020-10-14 21:00</td>\n",
       "      <td>1200</td>\n",
       "    </tr>\n",
       "    <tr>\n",
       "      <th>1054</th>\n",
       "      <td>2020-10-14 22:00</td>\n",
       "      <td>1200</td>\n",
       "    </tr>\n",
       "    <tr>\n",
       "      <th>1055</th>\n",
       "      <td>2020-10-14 23:00</td>\n",
       "      <td>1200</td>\n",
       "    </tr>\n",
       "  </tbody>\n",
       "</table>\n",
       "<p>1056 rows × 2 columns</p>\n",
       "</div>"
      ],
      "text/plain": [
       "                  time net_transfer_capacity_dayahead_CH_AT\n",
       "0     2020-09-01 00:00                                 1200\n",
       "1     2020-09-01 01:00                                 1200\n",
       "2     2020-09-01 02:00                                 1200\n",
       "3     2020-09-01 03:00                                 1200\n",
       "4     2020-09-01 04:00                                 1200\n",
       "...                ...                                  ...\n",
       "1051  2020-10-14 19:00                                 1200\n",
       "1052  2020-10-14 20:00                                 1200\n",
       "1053  2020-10-14 21:00                                 1200\n",
       "1054  2020-10-14 22:00                                 1200\n",
       "1055  2020-10-14 23:00                                 1200\n",
       "\n",
       "[1056 rows x 2 columns]"
      ]
     },
     "execution_count": 44,
     "metadata": {},
     "output_type": "execute_result"
    }
   ],
   "source": [
    "df_net_transfer_capacity_dayahead_CH_AT"
   ]
  },
  {
   "cell_type": "markdown",
   "metadata": {},
   "source": [
    "As it can be seen the results of this query method return the same results which can be found on the ENTSOE website with a [search](https://transparency.entsoe.eu/transmission/r2/explicitAllocationsIntraday/show?name=&defaultValue=false&viewType=TABLE&areaType=BORDER_CTA&atch=false&dateTime.dateTime=08.10.2020+00:00|UTC|DAY&dateTime.endDateTime=14.10.2020+00:00|UTC|DAY&border.values=CTY|10YCH-SWISSGRIDZ!CTA_CTA|10YCH-SWISSGRIDZ_CTA_CTA|10YAT-APG------L&direction.values=Export&direction.values=Import&category.values=A01&category.values=A04&category.values=A03&category.values=A02&sequence.values=1&sequence.values=2&sequence.values=3&sequence.values=4&sequence.values=5&sequence.values=6&dv-datatable_length=10) and the results obtained directly the API with the following GET method call: \n",
    "\n",
    "[GET CALL](https://transparency.entsoe.eu/api?securityToken=df864219-29a3-4e62-977a-f94967ea1ec4&documentType=A25&businessType=B05&contract_MarketAgreement.Type=A01&in_Domain=10YCH-SWISSGRIDZ&out_Domain=10YAT-APG------L&auction.Category=A01&classificationSequence_AttributeInstanceComponent.Position=1&periodStart=202009012300&periodEnd=202010152300)\n",
    "\n",
    "It should be noticed that using the raw API get method call also the prices of the capacities are shown."
   ]
  },
  {
   "cell_type": "code",
   "execution_count": null,
   "metadata": {},
   "outputs": [],
   "source": []
  },
  {
   "cell_type": "markdown",
   "metadata": {},
   "source": [
    "Unable to get German data automatically"
   ]
  },
  {
   "cell_type": "code",
   "execution_count": 9,
   "metadata": {},
   "outputs": [],
   "source": [
    "start_date='20201029'\n",
    "end_date='20201031'\n",
    "start, end, country_code_1, country_code_2= store_geographical_time_variables(start_date, \n",
    "                                                                              end_date,\n",
    "                                                                              'Germany',\n",
    "                                                                              'Switzerland')"
   ]
  },
  {
   "cell_type": "code",
   "execution_count": 11,
   "metadata": {},
   "outputs": [
    {
     "ename": "HTTPError",
     "evalue": "400 Client Error: Bad Request for url: https://transparency.entsoe.eu/api?documentType=A61&in_Domain=10YCH-SWISSGRIDZ&out_Domain=10Y1001A1001A83F&contract_MarketAgreement.Type=A01&securityToken=df864219-29a3-4e62-977a-f94967ea1ec4&periodStart=202010282300&periodEnd=202010302300",
     "output_type": "error",
     "traceback": [
      "\u001b[0;31m---------------------------------------------------------------------------\u001b[0m",
      "\u001b[0;31mHTTPError\u001b[0m                                 Traceback (most recent call last)",
      "\u001b[0;32m<ipython-input-11-be97f1963211>\u001b[0m in \u001b[0;36m<module>\u001b[0;34m\u001b[0m\n\u001b[0;32m----> 1\u001b[0;31m df_net_transfer_capacity_dayahead_CH_DE=process_xml_net_capacity(client.query_net_transfer_capacity_dayahead(country_code_from=country_code_1,\n\u001b[0m\u001b[1;32m      2\u001b[0m                                                                      \u001b[0mcountry_code_to\u001b[0m\u001b[0;34m=\u001b[0m\u001b[0mcountry_code_2\u001b[0m\u001b[0;34m,\u001b[0m\u001b[0;34m\u001b[0m\u001b[0;34m\u001b[0m\u001b[0m\n\u001b[1;32m      3\u001b[0m                                                                      start=start, end=end), \n\u001b[1;32m      4\u001b[0m                          \u001b[0mstart\u001b[0m\u001b[0;34m,\u001b[0m\u001b[0;34m\u001b[0m\u001b[0;34m\u001b[0m\u001b[0m\n\u001b[1;32m      5\u001b[0m                          \u001b[0mend\u001b[0m\u001b[0;34m,\u001b[0m\u001b[0;34m\u001b[0m\u001b[0;34m\u001b[0m\u001b[0m\n",
      "\u001b[0;32m~/Documents/eth_codes/case_study/case_study_2_alpiq/env/lib/python3.8/site-packages/entsoe/entsoe.py\u001b[0m in \u001b[0;36mquery_net_transfer_capacity_dayahead\u001b[0;34m(self, country_code_from, country_code_to, start, end, lookup_bzones)\u001b[0m\n\u001b[1;32m    449\u001b[0m         \u001b[0mstr\u001b[0m\u001b[0;34m\u001b[0m\u001b[0;34m\u001b[0m\u001b[0m\n\u001b[1;32m    450\u001b[0m         \"\"\"\n\u001b[0;32m--> 451\u001b[0;31m         return self.query_crossborder(country_code_from = country_code_from,\n\u001b[0m\u001b[1;32m    452\u001b[0m                                       \u001b[0mcountry_code_to\u001b[0m \u001b[0;34m=\u001b[0m \u001b[0mcountry_code_to\u001b[0m\u001b[0;34m,\u001b[0m\u001b[0;34m\u001b[0m\u001b[0;34m\u001b[0m\u001b[0m\n\u001b[1;32m    453\u001b[0m                                       \u001b[0mstart\u001b[0m \u001b[0;34m=\u001b[0m \u001b[0mstart\u001b[0m\u001b[0;34m,\u001b[0m\u001b[0;34m\u001b[0m\u001b[0;34m\u001b[0m\u001b[0m\n",
      "\u001b[0;32m~/Documents/eth_codes/case_study/case_study_2_alpiq/env/lib/python3.8/site-packages/entsoe/entsoe.py\u001b[0m in \u001b[0;36mquery_crossborder\u001b[0;34m(self, country_code_from, country_code_to, start, end, doctype, contract_marketagreement_type, lookup_bzones)\u001b[0m\n\u001b[1;32m    566\u001b[0m             \u001b[0mparams\u001b[0m\u001b[0;34m[\u001b[0m\u001b[0;34m'contract_MarketAgreement.Type'\u001b[0m\u001b[0;34m]\u001b[0m \u001b[0;34m=\u001b[0m \u001b[0mcontract_marketagreement_type\u001b[0m\u001b[0;34m,\u001b[0m\u001b[0;34m\u001b[0m\u001b[0;34m\u001b[0m\u001b[0m\n\u001b[1;32m    567\u001b[0m \u001b[0;34m\u001b[0m\u001b[0m\n\u001b[0;32m--> 568\u001b[0;31m         \u001b[0mresponse\u001b[0m \u001b[0;34m=\u001b[0m \u001b[0mself\u001b[0m\u001b[0;34m.\u001b[0m\u001b[0mbase_request\u001b[0m\u001b[0;34m(\u001b[0m\u001b[0mparams\u001b[0m\u001b[0;34m=\u001b[0m\u001b[0mparams\u001b[0m\u001b[0;34m,\u001b[0m \u001b[0mstart\u001b[0m\u001b[0;34m=\u001b[0m\u001b[0mstart\u001b[0m\u001b[0;34m,\u001b[0m \u001b[0mend\u001b[0m\u001b[0;34m=\u001b[0m\u001b[0mend\u001b[0m\u001b[0;34m)\u001b[0m\u001b[0;34m\u001b[0m\u001b[0;34m\u001b[0m\u001b[0m\n\u001b[0m\u001b[1;32m    569\u001b[0m         \u001b[0;32mreturn\u001b[0m \u001b[0mresponse\u001b[0m\u001b[0;34m.\u001b[0m\u001b[0mtext\u001b[0m\u001b[0;34m\u001b[0m\u001b[0;34m\u001b[0m\u001b[0m\n\u001b[1;32m    570\u001b[0m \u001b[0;34m\u001b[0m\u001b[0m\n",
      "\u001b[0;32m~/Documents/eth_codes/case_study/case_study_2_alpiq/env/lib/python3.8/site-packages/entsoe/entsoe.py\u001b[0m in \u001b[0;36mretry_wrapper\u001b[0;34m(*args, **kwargs)\u001b[0m\n\u001b[1;32m     33\u001b[0m         \u001b[0;32mfor\u001b[0m \u001b[0m_\u001b[0m \u001b[0;32min\u001b[0m \u001b[0mrange\u001b[0m\u001b[0;34m(\u001b[0m\u001b[0mself\u001b[0m\u001b[0;34m.\u001b[0m\u001b[0mretry_count\u001b[0m\u001b[0;34m)\u001b[0m\u001b[0;34m:\u001b[0m\u001b[0;34m\u001b[0m\u001b[0;34m\u001b[0m\u001b[0m\n\u001b[1;32m     34\u001b[0m             \u001b[0;32mtry\u001b[0m\u001b[0;34m:\u001b[0m\u001b[0;34m\u001b[0m\u001b[0;34m\u001b[0m\u001b[0m\n\u001b[0;32m---> 35\u001b[0;31m                 \u001b[0mresult\u001b[0m \u001b[0;34m=\u001b[0m \u001b[0mfunc\u001b[0m\u001b[0;34m(\u001b[0m\u001b[0;34m*\u001b[0m\u001b[0margs\u001b[0m\u001b[0;34m,\u001b[0m \u001b[0;34m**\u001b[0m\u001b[0mkwargs\u001b[0m\u001b[0;34m)\u001b[0m\u001b[0;34m\u001b[0m\u001b[0;34m\u001b[0m\u001b[0m\n\u001b[0m\u001b[1;32m     36\u001b[0m             \u001b[0;32mexcept\u001b[0m \u001b[0;34m(\u001b[0m\u001b[0mrequests\u001b[0m\u001b[0;34m.\u001b[0m\u001b[0mConnectionError\u001b[0m\u001b[0;34m,\u001b[0m \u001b[0mgaierror\u001b[0m\u001b[0;34m)\u001b[0m \u001b[0;32mas\u001b[0m \u001b[0me\u001b[0m\u001b[0;34m:\u001b[0m\u001b[0;34m\u001b[0m\u001b[0;34m\u001b[0m\u001b[0m\n\u001b[1;32m     37\u001b[0m                 \u001b[0merror\u001b[0m \u001b[0;34m=\u001b[0m \u001b[0me\u001b[0m\u001b[0;34m\u001b[0m\u001b[0;34m\u001b[0m\u001b[0m\n",
      "\u001b[0;32m~/Documents/eth_codes/case_study/case_study_2_alpiq/env/lib/python3.8/site-packages/entsoe/entsoe.py\u001b[0m in \u001b[0;36mbase_request\u001b[0;34m(self, params, start, end)\u001b[0m\n\u001b[1;32m    123\u001b[0m                     raise PaginationError(\n\u001b[1;32m    124\u001b[0m                         f\"The API is limited to {allowed} elements per request. This query requested for {requested} documents and cannot be fulfilled as is.\")\n\u001b[0;32m--> 125\u001b[0;31m             \u001b[0;32mraise\u001b[0m \u001b[0me\u001b[0m\u001b[0;34m\u001b[0m\u001b[0;34m\u001b[0m\u001b[0m\n\u001b[0m\u001b[1;32m    126\u001b[0m         \u001b[0;32melse\u001b[0m\u001b[0;34m:\u001b[0m\u001b[0;34m\u001b[0m\u001b[0;34m\u001b[0m\u001b[0m\n\u001b[1;32m    127\u001b[0m             \u001b[0;32mreturn\u001b[0m \u001b[0mresponse\u001b[0m\u001b[0;34m\u001b[0m\u001b[0;34m\u001b[0m\u001b[0m\n",
      "\u001b[0;32m~/Documents/eth_codes/case_study/case_study_2_alpiq/env/lib/python3.8/site-packages/entsoe/entsoe.py\u001b[0m in \u001b[0;36mbase_request\u001b[0;34m(self, params, start, end)\u001b[0m\n\u001b[1;32m    106\u001b[0m                                     proxies=self.proxies)\n\u001b[1;32m    107\u001b[0m         \u001b[0;32mtry\u001b[0m\u001b[0;34m:\u001b[0m\u001b[0;34m\u001b[0m\u001b[0;34m\u001b[0m\u001b[0m\n\u001b[0;32m--> 108\u001b[0;31m             \u001b[0mresponse\u001b[0m\u001b[0;34m.\u001b[0m\u001b[0mraise_for_status\u001b[0m\u001b[0;34m(\u001b[0m\u001b[0;34m)\u001b[0m\u001b[0;34m\u001b[0m\u001b[0;34m\u001b[0m\u001b[0m\n\u001b[0m\u001b[1;32m    109\u001b[0m         \u001b[0;32mexcept\u001b[0m \u001b[0mrequests\u001b[0m\u001b[0;34m.\u001b[0m\u001b[0mHTTPError\u001b[0m \u001b[0;32mas\u001b[0m \u001b[0me\u001b[0m\u001b[0;34m:\u001b[0m\u001b[0;34m\u001b[0m\u001b[0;34m\u001b[0m\u001b[0m\n\u001b[1;32m    110\u001b[0m             \u001b[0msoup\u001b[0m \u001b[0;34m=\u001b[0m \u001b[0mBeautifulSoup\u001b[0m\u001b[0;34m(\u001b[0m\u001b[0mresponse\u001b[0m\u001b[0;34m.\u001b[0m\u001b[0mtext\u001b[0m\u001b[0;34m,\u001b[0m \u001b[0;34m'html.parser'\u001b[0m\u001b[0;34m)\u001b[0m\u001b[0;34m\u001b[0m\u001b[0;34m\u001b[0m\u001b[0m\n",
      "\u001b[0;32m~/Documents/eth_codes/case_study/case_study_2_alpiq/env/lib/python3.8/site-packages/requests/models.py\u001b[0m in \u001b[0;36mraise_for_status\u001b[0;34m(self)\u001b[0m\n\u001b[1;32m    939\u001b[0m \u001b[0;34m\u001b[0m\u001b[0m\n\u001b[1;32m    940\u001b[0m         \u001b[0;32mif\u001b[0m \u001b[0mhttp_error_msg\u001b[0m\u001b[0;34m:\u001b[0m\u001b[0;34m\u001b[0m\u001b[0;34m\u001b[0m\u001b[0m\n\u001b[0;32m--> 941\u001b[0;31m             \u001b[0;32mraise\u001b[0m \u001b[0mHTTPError\u001b[0m\u001b[0;34m(\u001b[0m\u001b[0mhttp_error_msg\u001b[0m\u001b[0;34m,\u001b[0m \u001b[0mresponse\u001b[0m\u001b[0;34m=\u001b[0m\u001b[0mself\u001b[0m\u001b[0;34m)\u001b[0m\u001b[0;34m\u001b[0m\u001b[0;34m\u001b[0m\u001b[0m\n\u001b[0m\u001b[1;32m    942\u001b[0m \u001b[0;34m\u001b[0m\u001b[0m\n\u001b[1;32m    943\u001b[0m     \u001b[0;32mdef\u001b[0m \u001b[0mclose\u001b[0m\u001b[0;34m(\u001b[0m\u001b[0mself\u001b[0m\u001b[0;34m)\u001b[0m\u001b[0;34m:\u001b[0m\u001b[0;34m\u001b[0m\u001b[0;34m\u001b[0m\u001b[0m\n",
      "\u001b[0;31mHTTPError\u001b[0m: 400 Client Error: Bad Request for url: https://transparency.entsoe.eu/api?documentType=A61&in_Domain=10YCH-SWISSGRIDZ&out_Domain=10Y1001A1001A83F&contract_MarketAgreement.Type=A01&securityToken=df864219-29a3-4e62-977a-f94967ea1ec4&periodStart=202010282300&periodEnd=202010302300"
     ]
    }
   ],
   "source": [
    "df_net_transfer_capacity_dayahead_CH_DE=process_xml_net_capacity(client.query_net_transfer_capacity_dayahead(country_code_from=country_code_1,\n",
    "                                                                     country_code_to=country_code_2,\n",
    "                                                                     start=start, end=end), \n",
    "                         start, \n",
    "                         end,\n",
    "                         name='net_transfer_capacity_dayahead_CH_DE')"
   ]
  },
  {
   "cell_type": "code",
   "execution_count": null,
   "metadata": {},
   "outputs": [],
   "source": []
  },
  {
   "cell_type": "code",
   "execution_count": null,
   "metadata": {},
   "outputs": [],
   "source": []
  },
  {
   "cell_type": "code",
   "execution_count": null,
   "metadata": {},
   "outputs": [],
   "source": []
  },
  {
   "cell_type": "code",
   "execution_count": null,
   "metadata": {},
   "outputs": [],
   "source": []
  },
  {
   "cell_type": "code",
   "execution_count": null,
   "metadata": {},
   "outputs": [],
   "source": []
  },
  {
   "cell_type": "code",
   "execution_count": null,
   "metadata": {},
   "outputs": [],
   "source": []
  },
  {
   "cell_type": "code",
   "execution_count": null,
   "metadata": {},
   "outputs": [],
   "source": []
  },
  {
   "cell_type": "code",
   "execution_count": null,
   "metadata": {},
   "outputs": [],
   "source": []
  },
  {
   "cell_type": "code",
   "execution_count": null,
   "metadata": {},
   "outputs": [],
   "source": []
  },
  {
   "cell_type": "markdown",
   "metadata": {},
   "source": [
    "## Draft Work"
   ]
  },
  {
   "cell_type": "markdown",
   "metadata": {},
   "source": [
    "With methods that return series some more work is required."
   ]
  },
  {
   "cell_type": "code",
   "execution_count": null,
   "metadata": {},
   "outputs": [],
   "source": [
    "# methods that return Pandas Series\n",
    "day_ahead_prices=client.query_day_ahead_prices(country_code, start=start,end=end)\n",
    "load=client.query_load(country_code, start=start,end=end)\n",
    "load_forecast=client.query_load_forecast(country_code, start=start,end=end)\n",
    "generation_forecast=client.query_generation_forecast(country_code, start=start,end=end)"
   ]
  },
  {
   "cell_type": "code",
   "execution_count": 30,
   "metadata": {},
   "outputs": [],
   "source": [
    "day_ahead_prices=client.query_day_ahead_prices(country_code, start=start,end=end)"
   ]
  },
  {
   "cell_type": "code",
   "execution_count": 31,
   "metadata": {},
   "outputs": [],
   "source": [
    "day_ahead_prices_df=pd.DataFrame({'day_ahead_price':day_ahead_prices})"
   ]
  },
  {
   "cell_type": "code",
   "execution_count": 32,
   "metadata": {},
   "outputs": [
    {
     "data": {
      "text/plain": [
       "<AxesSubplot:>"
      ]
     },
     "execution_count": 32,
     "metadata": {},
     "output_type": "execute_result"
    },
    {
     "data": {
      "image/png": "[encoded data removed]",
      "text/plain": [
       "<Figure size 432x288 with 1 Axes>"
      ]
     },
     "metadata": {
      "needs_background": "light"
     },
     "output_type": "display_data"
    }
   ],
   "source": [
    "day_ahead_prices_df.plot()"
   ]
  },
  {
   "cell_type": "code",
   "execution_count": 56,
   "metadata": {},
   "outputs": [],
   "source": [
    "crossborder_flows=client.query_crossborder_flows('CH', 'DE', start=start,end=end)"
   ]
  },
  {
   "cell_type": "code",
   "execution_count": 60,
   "metadata": {},
   "outputs": [
    {
     "data": {
      "text/plain": [
       "True"
      ]
     },
     "execution_count": 60,
     "metadata": {},
     "output_type": "execute_result"
    }
   ],
   "source": [
    "type(crossborder_flows)==pd.core.series.Series"
   ]
  },
  {
   "cell_type": "code",
   "execution_count": 38,
   "metadata": {},
   "outputs": [],
   "source": [
    "crossborder_flows_df=pd.DataFrame({'crossborder_flows':crossborder_flows})"
   ]
  },
  {
   "cell_type": "code",
   "execution_count": 39,
   "metadata": {},
   "outputs": [
    {
     "data": {
      "text/plain": [
       "<AxesSubplot:>"
      ]
     },
     "execution_count": 39,
     "metadata": {},
     "output_type": "execute_result"
    },
    {
     "data": {
      "image/png": "[encoded data removed]",
      "text/plain": [
       "<Figure size 432x288 with 1 Axes>"
      ]
     },
     "metadata": {
      "needs_background": "light"
     },
     "output_type": "display_data"
    }
   ],
   "source": [
    "crossborder_flows_df.plot()"
   ]
  },
  {
   "cell_type": "markdown",
   "metadata": {},
   "source": [
    "Methods returning dataframe can be easily used. The only problem is the units. More research needed to find what are the standard units when the query is done."
   ]
  },
  {
   "cell_type": "code",
   "execution_count": 52,
   "metadata": {},
   "outputs": [],
   "source": [
    "start_date='20200901'\n",
    "end_date='20201001'"
   ]
  },
  {
   "cell_type": "code",
   "execution_count": 54,
   "metadata": {},
   "outputs": [],
   "source": [
    "start = pd.Timestamp(start_date, tz='Europe/Brussels')\n",
    "end = pd.Timestamp(end_date, tz='Europe/Brussels')\n",
    "country_code = 'CH'  # Switzerland"
   ]
  },
  {
   "cell_type": "code",
   "execution_count": 55,
   "metadata": {},
   "outputs": [],
   "source": [
    "wind_and_solar_forecast_df=client.query_wind_and_solar_forecast(country_code=country_code, start=start, end=end)"
   ]
  },
  {
   "cell_type": "code",
   "execution_count": 57,
   "metadata": {},
   "outputs": [
    {
     "data": {
      "text/plain": [
       "<AxesSubplot:>"
      ]
     },
     "execution_count": 57,
     "metadata": {},
     "output_type": "execute_result"
    },
    {
     "data": {
      "image/png": "[encoded data removed]",
      "text/plain": [
       "<Figure size 432x288 with 1 Axes>"
      ]
     },
     "metadata": {
      "needs_background": "light"
     },
     "output_type": "display_data"
    }
   ],
   "source": [
    "wind_and_solar_forecast_df.plot()"
   ]
  },
  {
   "cell_type": "code",
   "execution_count": null,
   "metadata": {},
   "outputs": [],
   "source": [
    "generation_df=client.query_generation(country_code='GB', start=start, end=end)"
   ]
  },
  {
   "cell_type": "code",
   "execution_count": 59,
   "metadata": {},
   "outputs": [
    {
     "data": {
      "text/html": [
       "<div>\n",
       "<style scoped>\n",
       "    .dataframe tbody tr th:only-of-type {\n",
       "        vertical-align: middle;\n",
       "    }\n",
       "\n",
       "    .dataframe tbody tr th {\n",
       "        vertical-align: top;\n",
       "    }\n",
       "\n",
       "    .dataframe thead th {\n",
       "        text-align: right;\n",
       "    }\n",
       "</style>\n",
       "<table border=\"1\" class=\"dataframe\">\n",
       "  <thead>\n",
       "    <tr style=\"text-align: right;\">\n",
       "      <th></th>\n",
       "      <th>Hydro Pumped Storage</th>\n",
       "      <th>Hydro Run-of-river and poundage</th>\n",
       "      <th>Hydro Water Reservoir</th>\n",
       "      <th>Nuclear</th>\n",
       "      <th>Solar</th>\n",
       "      <th>Wind Onshore</th>\n",
       "    </tr>\n",
       "  </thead>\n",
       "  <tbody>\n",
       "    <tr>\n",
       "      <th>2020-09-01 00:00:00+02:00</th>\n",
       "      <td>426.0</td>\n",
       "      <td>232.0</td>\n",
       "      <td>1300.0</td>\n",
       "      <td>2954.0</td>\n",
       "      <td>0.0</td>\n",
       "      <td>3.0</td>\n",
       "    </tr>\n",
       "    <tr>\n",
       "      <th>2020-09-01 01:00:00+02:00</th>\n",
       "      <td>306.0</td>\n",
       "      <td>202.0</td>\n",
       "      <td>1030.0</td>\n",
       "      <td>2957.0</td>\n",
       "      <td>0.0</td>\n",
       "      <td>0.0</td>\n",
       "    </tr>\n",
       "    <tr>\n",
       "      <th>2020-09-01 02:00:00+02:00</th>\n",
       "      <td>227.0</td>\n",
       "      <td>194.0</td>\n",
       "      <td>869.0</td>\n",
       "      <td>2958.0</td>\n",
       "      <td>0.0</td>\n",
       "      <td>0.0</td>\n",
       "    </tr>\n",
       "    <tr>\n",
       "      <th>2020-09-01 03:00:00+02:00</th>\n",
       "      <td>93.0</td>\n",
       "      <td>208.0</td>\n",
       "      <td>957.0</td>\n",
       "      <td>2958.0</td>\n",
       "      <td>0.0</td>\n",
       "      <td>0.0</td>\n",
       "    </tr>\n",
       "    <tr>\n",
       "      <th>2020-09-01 04:00:00+02:00</th>\n",
       "      <td>139.0</td>\n",
       "      <td>216.0</td>\n",
       "      <td>869.0</td>\n",
       "      <td>2959.0</td>\n",
       "      <td>0.0</td>\n",
       "      <td>0.0</td>\n",
       "    </tr>\n",
       "  </tbody>\n",
       "</table>\n",
       "</div>"
      ],
      "text/plain": [
       "                           Hydro Pumped Storage  \\\n",
       "2020-09-01 00:00:00+02:00                 426.0   \n",
       "2020-09-01 01:00:00+02:00                 306.0   \n",
       "2020-09-01 02:00:00+02:00                 227.0   \n",
       "2020-09-01 03:00:00+02:00                  93.0   \n",
       "2020-09-01 04:00:00+02:00                 139.0   \n",
       "\n",
       "                           Hydro Run-of-river and poundage  \\\n",
       "2020-09-01 00:00:00+02:00                            232.0   \n",
       "2020-09-01 01:00:00+02:00                            202.0   \n",
       "2020-09-01 02:00:00+02:00                            194.0   \n",
       "2020-09-01 03:00:00+02:00                            208.0   \n",
       "2020-09-01 04:00:00+02:00                            216.0   \n",
       "\n",
       "                           Hydro Water Reservoir  Nuclear  Solar  Wind Onshore  \n",
       "2020-09-01 00:00:00+02:00                 1300.0   2954.0    0.0           3.0  \n",
       "2020-09-01 01:00:00+02:00                 1030.0   2957.0    0.0           0.0  \n",
       "2020-09-01 02:00:00+02:00                  869.0   2958.0    0.0           0.0  \n",
       "2020-09-01 03:00:00+02:00                  957.0   2958.0    0.0           0.0  \n",
       "2020-09-01 04:00:00+02:00                  869.0   2959.0    0.0           0.0  "
      ]
     },
     "execution_count": 59,
     "metadata": {},
     "output_type": "execute_result"
    }
   ],
   "source": [
    "generation_df.head()"
   ]
  },
  {
   "cell_type": "code",
   "execution_count": 42,
   "metadata": {},
   "outputs": [
    {
     "ename": "KeyError",
     "evalue": "'IT_SACO_AC'",
     "output_type": "error",
     "traceback": [
      "\u001b[0;31m---------------------------------------------------------------------------\u001b[0m",
      "\u001b[0;31mKeyError\u001b[0m                                  Traceback (most recent call last)",
      "\u001b[0;32m<ipython-input-42-9fdbb153d6e9>\u001b[0m in \u001b[0;36m<module>\u001b[0;34m\u001b[0m\n\u001b[0;32m----> 1\u001b[0;31m installed_generation_capacity_df=client.query_installed_generation_capacity(country_code='IT_SACO_AC', \n\u001b[0m\u001b[1;32m      2\u001b[0m                                                                             \u001b[0mstart\u001b[0m\u001b[0;34m=\u001b[0m\u001b[0mpd\u001b[0m\u001b[0;34m.\u001b[0m\u001b[0mTimestamp\u001b[0m\u001b[0;34m(\u001b[0m\u001b[0;34m'20190901'\u001b[0m\u001b[0;34m,\u001b[0m \u001b[0mtz\u001b[0m\u001b[0;34m=\u001b[0m\u001b[0;34m'Europe/Brussels'\u001b[0m\u001b[0;34m)\u001b[0m\u001b[0;34m,\u001b[0m\u001b[0;34m\u001b[0m\u001b[0;34m\u001b[0m\u001b[0m\n\u001b[1;32m      3\u001b[0m                                                                             end=pd.Timestamp('20200901', tz='Europe/Brussels'))\n",
      "\u001b[0;32m~/Documents/eth_edu/case_study/case_study_2_alpiq/env/lib/python3.8/site-packages/entsoe/entsoe.py\u001b[0m in \u001b[0;36myear_wrapper\u001b[0;34m(start, end, *args, **kwargs)\u001b[0m\n\u001b[1;32m    834\u001b[0m         \u001b[0;32mfor\u001b[0m \u001b[0m_start\u001b[0m\u001b[0;34m,\u001b[0m \u001b[0m_end\u001b[0m \u001b[0;32min\u001b[0m \u001b[0mblocks\u001b[0m\u001b[0;34m:\u001b[0m\u001b[0;34m\u001b[0m\u001b[0;34m\u001b[0m\u001b[0m\n\u001b[1;32m    835\u001b[0m             \u001b[0;32mtry\u001b[0m\u001b[0;34m:\u001b[0m\u001b[0;34m\u001b[0m\u001b[0;34m\u001b[0m\u001b[0m\n\u001b[0;32m--> 836\u001b[0;31m                 \u001b[0mframe\u001b[0m \u001b[0;34m=\u001b[0m \u001b[0mfunc\u001b[0m\u001b[0;34m(\u001b[0m\u001b[0;34m*\u001b[0m\u001b[0margs\u001b[0m\u001b[0;34m,\u001b[0m \u001b[0mstart\u001b[0m\u001b[0;34m=\u001b[0m\u001b[0m_start\u001b[0m\u001b[0;34m,\u001b[0m \u001b[0mend\u001b[0m\u001b[0;34m=\u001b[0m\u001b[0m_end\u001b[0m\u001b[0;34m,\u001b[0m \u001b[0;34m**\u001b[0m\u001b[0mkwargs\u001b[0m\u001b[0;34m)\u001b[0m\u001b[0;34m\u001b[0m\u001b[0;34m\u001b[0m\u001b[0m\n\u001b[0m\u001b[1;32m    837\u001b[0m             \u001b[0;32mexcept\u001b[0m \u001b[0mNoMatchingDataError\u001b[0m\u001b[0;34m:\u001b[0m\u001b[0;34m\u001b[0m\u001b[0;34m\u001b[0m\u001b[0m\n\u001b[1;32m    838\u001b[0m                 \u001b[0mprint\u001b[0m\u001b[0;34m(\u001b[0m\u001b[0;34mf\"NoMatchingDataError: between {_start} and {_end}\"\u001b[0m\u001b[0;34m)\u001b[0m\u001b[0;34m\u001b[0m\u001b[0;34m\u001b[0m\u001b[0m\n",
      "\u001b[0;32m~/Documents/eth_edu/case_study/case_study_2_alpiq/env/lib/python3.8/site-packages/entsoe/entsoe.py\u001b[0m in \u001b[0;36mquery_installed_generation_capacity\u001b[0;34m(self, country_code, start, end, psr_type)\u001b[0m\n\u001b[1;32m   1023\u001b[0m         \u001b[0mpd\u001b[0m\u001b[0;34m.\u001b[0m\u001b[0mDataFrame\u001b[0m\u001b[0;34m\u001b[0m\u001b[0;34m\u001b[0m\u001b[0m\n\u001b[1;32m   1024\u001b[0m         \"\"\"\n\u001b[0;32m-> 1025\u001b[0;31m         text = super(\n\u001b[0m\u001b[1;32m   1026\u001b[0m             \u001b[0mEntsoePandasClient\u001b[0m\u001b[0;34m,\u001b[0m \u001b[0mself\u001b[0m\u001b[0;34m)\u001b[0m\u001b[0;34m.\u001b[0m\u001b[0mquery_installed_generation_capacity\u001b[0m\u001b[0;34m(\u001b[0m\u001b[0;34m\u001b[0m\u001b[0;34m\u001b[0m\u001b[0m\n\u001b[1;32m   1027\u001b[0m             country_code=country_code, start=start, end=end, psr_type=psr_type)\n",
      "\u001b[0;32m~/Documents/eth_edu/case_study/case_study_2_alpiq/env/lib/python3.8/site-packages/entsoe/entsoe.py\u001b[0m in \u001b[0;36mquery_installed_generation_capacity\u001b[0;34m(self, country_code, start, end, psr_type)\u001b[0m\n\u001b[1;32m    346\u001b[0m         \u001b[0mstr\u001b[0m\u001b[0;34m\u001b[0m\u001b[0;34m\u001b[0m\u001b[0m\n\u001b[1;32m    347\u001b[0m         \"\"\"\n\u001b[0;32m--> 348\u001b[0;31m         \u001b[0mdomain\u001b[0m \u001b[0;34m=\u001b[0m \u001b[0mBIDDING_ZONES\u001b[0m\u001b[0;34m[\u001b[0m\u001b[0mcountry_code\u001b[0m\u001b[0;34m]\u001b[0m\u001b[0;34m\u001b[0m\u001b[0;34m\u001b[0m\u001b[0m\n\u001b[0m\u001b[1;32m    349\u001b[0m         params = {\n\u001b[1;32m    350\u001b[0m             \u001b[0;34m'documentType'\u001b[0m\u001b[0;34m:\u001b[0m \u001b[0;34m'A68'\u001b[0m\u001b[0;34m,\u001b[0m\u001b[0;34m\u001b[0m\u001b[0;34m\u001b[0m\u001b[0m\n",
      "\u001b[0;31mKeyError\u001b[0m: 'IT_SACO_AC'"
     ]
    }
   ],
   "source": [
    "installed_generation_capacity_df=client.query_installed_generation_capacity(country_code='IT_SACO_AC', \n",
    "                                                                            start=pd.Timestamp('20190901', tz='Europe/Brussels'),\n",
    "                                                                            end=pd.Timestamp('20200901', tz='Europe/Brussels'))"
   ]
  },
  {
   "cell_type": "code",
   "execution_count": 41,
   "metadata": {},
   "outputs": [
    {
     "data": {
      "text/html": [
       "<div>\n",
       "<style scoped>\n",
       "    .dataframe tbody tr th:only-of-type {\n",
       "        vertical-align: middle;\n",
       "    }\n",
       "\n",
       "    .dataframe tbody tr th {\n",
       "        vertical-align: top;\n",
       "    }\n",
       "\n",
       "    .dataframe thead th {\n",
       "        text-align: right;\n",
       "    }\n",
       "</style>\n",
       "<table border=\"1\" class=\"dataframe\">\n",
       "  <thead>\n",
       "    <tr style=\"text-align: right;\">\n",
       "      <th></th>\n",
       "      <th>Biomass</th>\n",
       "      <th>Fossil Brown coal/Lignite</th>\n",
       "      <th>Fossil Coal-derived gas</th>\n",
       "      <th>Fossil Gas</th>\n",
       "      <th>Fossil Hard coal</th>\n",
       "      <th>Fossil Oil</th>\n",
       "      <th>Geothermal</th>\n",
       "      <th>Hydro Pumped Storage</th>\n",
       "      <th>Hydro Run-of-river and poundage</th>\n",
       "      <th>Hydro Water Reservoir</th>\n",
       "      <th>Nuclear</th>\n",
       "      <th>Other</th>\n",
       "      <th>Other renewable</th>\n",
       "      <th>Solar</th>\n",
       "      <th>Waste</th>\n",
       "      <th>Wind Offshore</th>\n",
       "      <th>Wind Onshore</th>\n",
       "    </tr>\n",
       "  </thead>\n",
       "  <tbody>\n",
       "    <tr>\n",
       "      <th>2020-01-01 00:00:00+01:00</th>\n",
       "      <td>7987.0</td>\n",
       "      <td>21067.0</td>\n",
       "      <td>0.0</td>\n",
       "      <td>31712.0</td>\n",
       "      <td>22458.0</td>\n",
       "      <td>4373.0</td>\n",
       "      <td>47.0</td>\n",
       "      <td>9422.0</td>\n",
       "      <td>3970.0</td>\n",
       "      <td>1298.0</td>\n",
       "      <td>8114.0</td>\n",
       "      <td>1558.0</td>\n",
       "      <td>407.0</td>\n",
       "      <td>48206.0</td>\n",
       "      <td>1661.0</td>\n",
       "      <td>7504.0</td>\n",
       "      <td>53184.0</td>\n",
       "    </tr>\n",
       "  </tbody>\n",
       "</table>\n",
       "</div>"
      ],
      "text/plain": [
       "                           Biomass  Fossil Brown coal/Lignite  \\\n",
       "2020-01-01 00:00:00+01:00   7987.0                    21067.0   \n",
       "\n",
       "                           Fossil Coal-derived gas  Fossil Gas  \\\n",
       "2020-01-01 00:00:00+01:00                      0.0     31712.0   \n",
       "\n",
       "                           Fossil Hard coal  Fossil Oil  Geothermal  \\\n",
       "2020-01-01 00:00:00+01:00           22458.0      4373.0        47.0   \n",
       "\n",
       "                           Hydro Pumped Storage  \\\n",
       "2020-01-01 00:00:00+01:00                9422.0   \n",
       "\n",
       "                           Hydro Run-of-river and poundage  \\\n",
       "2020-01-01 00:00:00+01:00                           3970.0   \n",
       "\n",
       "                           Hydro Water Reservoir  Nuclear   Other  \\\n",
       "2020-01-01 00:00:00+01:00                 1298.0   8114.0  1558.0   \n",
       "\n",
       "                           Other renewable    Solar   Waste  Wind Offshore  \\\n",
       "2020-01-01 00:00:00+01:00            407.0  48206.0  1661.0         7504.0   \n",
       "\n",
       "                           Wind Onshore  \n",
       "2020-01-01 00:00:00+01:00       53184.0  "
      ]
     },
     "execution_count": 41,
     "metadata": {},
     "output_type": "execute_result"
    }
   ],
   "source": [
    "installed_generation_capacity_df.head()"
   ]
  },
  {
   "cell_type": "code",
   "execution_count": 76,
   "metadata": {},
   "outputs": [],
   "source": [
    "installed_generation_capacity_per_unit_df=client.query_installed_generation_capacity_per_unit(country_code='CH', \n",
    "                                                                                             start=pd.Timestamp('20190901', tz='Europe/Brussels'),\n",
    "                                                                                             end=pd.Timestamp('20200901', tz='Europe/Brussels'))"
   ]
  },
  {
   "cell_type": "code",
   "execution_count": 77,
   "metadata": {},
   "outputs": [
    {
     "data": {
      "text/html": [
       "<div>\n",
       "<style scoped>\n",
       "    .dataframe tbody tr th:only-of-type {\n",
       "        vertical-align: middle;\n",
       "    }\n",
       "\n",
       "    .dataframe tbody tr th {\n",
       "        vertical-align: top;\n",
       "    }\n",
       "\n",
       "    .dataframe thead th {\n",
       "        text-align: right;\n",
       "    }\n",
       "</style>\n",
       "<table border=\"1\" class=\"dataframe\">\n",
       "  <thead>\n",
       "    <tr style=\"text-align: right;\">\n",
       "      <th></th>\n",
       "      <th>Bidding Zone</th>\n",
       "      <th>Installed Capacity [MW]</th>\n",
       "      <th>Name</th>\n",
       "      <th>Production Type</th>\n",
       "      <th>Voltage Connection Level [kV]</th>\n",
       "    </tr>\n",
       "  </thead>\n",
       "  <tbody>\n",
       "    <tr>\n",
       "      <th>12W-0000000797-L</th>\n",
       "      <td>10YCH-SWISSGRIDZ</td>\n",
       "      <td>126</td>\n",
       "      <td>Kraftwerk LÃ¶tschen</td>\n",
       "      <td>Hydro Run-of-river and poundage</td>\n",
       "      <td>65</td>\n",
       "    </tr>\n",
       "    <tr>\n",
       "      <th>12W-0000000018-B</th>\n",
       "      <td>10YCH-SWISSGRIDZ</td>\n",
       "      <td>1524</td>\n",
       "      <td>KLL - KW Linth-Limmern AG</td>\n",
       "      <td>Hydro Pumped Storage</td>\n",
       "      <td>380</td>\n",
       "    </tr>\n",
       "    <tr>\n",
       "      <th>12W-0000000011-W</th>\n",
       "      <td>10YCH-SWISSGRIDZ</td>\n",
       "      <td>258</td>\n",
       "      <td>KWZ - KW Zervreila AG</td>\n",
       "      <td>Hydro Water Reservoir</td>\n",
       "      <td>220</td>\n",
       "    </tr>\n",
       "    <tr>\n",
       "      <th>12W-0000000021-S</th>\n",
       "      <td>10YCH-SWISSGRIDZ</td>\n",
       "      <td>336</td>\n",
       "      <td>KVR - KW Vorderrhein AG</td>\n",
       "      <td>Hydro Water Reservoir</td>\n",
       "      <td>220</td>\n",
       "    </tr>\n",
       "    <tr>\n",
       "      <th>12W-0000000065-0</th>\n",
       "      <td>10YCH-SWISSGRIDZ</td>\n",
       "      <td>114</td>\n",
       "      <td>Verzasca</td>\n",
       "      <td>Hydro Water Reservoir</td>\n",
       "      <td>150</td>\n",
       "    </tr>\n",
       "    <tr>\n",
       "      <th>12W-0000000052-D</th>\n",
       "      <td>10YCH-SWISSGRIDZ</td>\n",
       "      <td>1220</td>\n",
       "      <td>KKL - KernKW Leibstadt AG</td>\n",
       "      <td>Nuclear</td>\n",
       "      <td>380</td>\n",
       "    </tr>\n",
       "    <tr>\n",
       "      <th>12W-0000000105-J</th>\n",
       "      <td>10YCH-SWISSGRIDZ</td>\n",
       "      <td>340</td>\n",
       "      <td>Electra-Massa (EM)</td>\n",
       "      <td>Hydro Water Reservoir</td>\n",
       "      <td>220</td>\n",
       "    </tr>\n",
       "    <tr>\n",
       "      <th>12W-0000000016-H</th>\n",
       "      <td>10YCH-SWISSGRIDZ</td>\n",
       "      <td>640</td>\n",
       "      <td>KHR - KW Hinterrhein AG</td>\n",
       "      <td>Hydro Pumped Storage</td>\n",
       "      <td>220</td>\n",
       "    </tr>\n",
       "    <tr>\n",
       "      <th>12W-0000000034-F</th>\n",
       "      <td>10YCH-SWISSGRIDZ</td>\n",
       "      <td>421</td>\n",
       "      <td>Kraftwerke Mauvoisin AG</td>\n",
       "      <td>Hydro Water Reservoir</td>\n",
       "      <td>220</td>\n",
       "    </tr>\n",
       "    <tr>\n",
       "      <th>12W-0000000017-E</th>\n",
       "      <td>10YCH-SWISSGRIDZ</td>\n",
       "      <td>730</td>\n",
       "      <td>KKB - KernKW Beznau</td>\n",
       "      <td>Nuclear</td>\n",
       "      <td>380</td>\n",
       "    </tr>\n",
       "    <tr>\n",
       "      <th>12W-0000000925-8</th>\n",
       "      <td>10YCH-SWISSGRIDZ</td>\n",
       "      <td>547</td>\n",
       "      <td>Maggia (OFIMA)</td>\n",
       "      <td>Hydro Water Reservoir</td>\n",
       "      <td>220</td>\n",
       "    </tr>\n",
       "    <tr>\n",
       "      <th>12W-0000000849-U</th>\n",
       "      <td>10YCH-SWISSGRIDZ</td>\n",
       "      <td>120</td>\n",
       "      <td>Kraftwerk Amsteg</td>\n",
       "      <td>Hydro Run-of-river and poundage</td>\n",
       "      <td>132</td>\n",
       "    </tr>\n",
       "    <tr>\n",
       "      <th>12W-0000000035-C</th>\n",
       "      <td>10YCH-SWISSGRIDZ</td>\n",
       "      <td>416</td>\n",
       "      <td>EKW - Engadiner KW AG</td>\n",
       "      <td>Hydro Pumped Storage</td>\n",
       "      <td>380</td>\n",
       "    </tr>\n",
       "    <tr>\n",
       "      <th>12W-0000000241-A</th>\n",
       "      <td>10YCH-SWISSGRIDZ</td>\n",
       "      <td>914</td>\n",
       "      <td>Nant de Drance (NDD)</td>\n",
       "      <td>Hydro Pumped Storage</td>\n",
       "      <td>380</td>\n",
       "    </tr>\n",
       "    <tr>\n",
       "      <th>12W-0000000851-D</th>\n",
       "      <td>10YCH-SWISSGRIDZ</td>\n",
       "      <td>107</td>\n",
       "      <td>Kraftwerk CB-VE</td>\n",
       "      <td>Hydro Pumped Storage</td>\n",
       "      <td>132</td>\n",
       "    </tr>\n",
       "    <tr>\n",
       "      <th>12W-0000000116-C</th>\n",
       "      <td>10YCH-SWISSGRIDZ</td>\n",
       "      <td>484</td>\n",
       "      <td>Hongrin-LÃ©man (FMHL)</td>\n",
       "      <td>Hydro Pumped Storage</td>\n",
       "      <td>220</td>\n",
       "    </tr>\n",
       "    <tr>\n",
       "      <th>12W-0000000080-7</th>\n",
       "      <td>10YCH-SWISSGRIDZ</td>\n",
       "      <td>100</td>\n",
       "      <td>KW Rheinfelden CH</td>\n",
       "      <td>Hydro Run-of-river and poundage</td>\n",
       "      <td>220</td>\n",
       "    </tr>\n",
       "    <tr>\n",
       "      <th>12W-0000001614-O</th>\n",
       "      <td>10YCH-SWISSGRIDZ</td>\n",
       "      <td>108</td>\n",
       "      <td>WÃ¤gital</td>\n",
       "      <td>Hydro Pumped Storage</td>\n",
       "      <td>220</td>\n",
       "    </tr>\n",
       "    <tr>\n",
       "      <th>12W-0000001567-0</th>\n",
       "      <td>10YCH-SWISSGRIDZ</td>\n",
       "      <td>198</td>\n",
       "      <td>Kraftwerk MittelbÃ¼nden</td>\n",
       "      <td>Hydro Water Reservoir</td>\n",
       "      <td>220</td>\n",
       "    </tr>\n",
       "    <tr>\n",
       "      <th>12W-0000000846-2</th>\n",
       "      <td>10YCH-SWISSGRIDZ</td>\n",
       "      <td>102</td>\n",
       "      <td>Kraftwerk GÃ¶schenen</td>\n",
       "      <td>Hydro Water Reservoir</td>\n",
       "      <td>132</td>\n",
       "    </tr>\n",
       "    <tr>\n",
       "      <th>12W-0000000033-I</th>\n",
       "      <td>10YCH-SWISSGRIDZ</td>\n",
       "      <td>263</td>\n",
       "      <td>KWM - KW Mattmark AG</td>\n",
       "      <td>Hydro Pumped Storage</td>\n",
       "      <td>220</td>\n",
       "    </tr>\n",
       "    <tr>\n",
       "      <th>12W-0000000064-3</th>\n",
       "      <td>10YCH-SWISSGRIDZ</td>\n",
       "      <td>226</td>\n",
       "      <td>AET Leventina</td>\n",
       "      <td>Hydro Water Reservoir</td>\n",
       "      <td>150</td>\n",
       "    </tr>\n",
       "    <tr>\n",
       "      <th>12W-0000000056-1</th>\n",
       "      <td>10YCH-SWISSGRIDZ</td>\n",
       "      <td>1020</td>\n",
       "      <td>Kernkraftwerk GÃ¶sgen</td>\n",
       "      <td>Nuclear</td>\n",
       "      <td>380</td>\n",
       "    </tr>\n",
       "    <tr>\n",
       "      <th>12W-0000000060-F</th>\n",
       "      <td>10YCH-SWISSGRIDZ</td>\n",
       "      <td>420</td>\n",
       "      <td>Emosson (ESA)</td>\n",
       "      <td>Hydro Water Reservoir</td>\n",
       "      <td>220</td>\n",
       "    </tr>\n",
       "    <tr>\n",
       "      <th>12W-0000000902-P</th>\n",
       "      <td>10YCH-SWISSGRIDZ</td>\n",
       "      <td>1926</td>\n",
       "      <td>Gde-Dixence (GD)</td>\n",
       "      <td>Hydro Water Reservoir</td>\n",
       "      <td>380</td>\n",
       "    </tr>\n",
       "    <tr>\n",
       "      <th>12W-0000001565-6</th>\n",
       "      <td>10YCH-SWISSGRIDZ</td>\n",
       "      <td>192.7</td>\n",
       "      <td>Kraftwerk Bergell</td>\n",
       "      <td>Hydro Pumped Storage</td>\n",
       "      <td>220</td>\n",
       "    </tr>\n",
       "    <tr>\n",
       "      <th>12W-0000000057-Z</th>\n",
       "      <td>10YCH-SWISSGRIDZ</td>\n",
       "      <td>378</td>\n",
       "      <td>KKW MÃ¼hleberg (KKM)</td>\n",
       "      <td>Nuclear</td>\n",
       "      <td>220</td>\n",
       "    </tr>\n",
       "    <tr>\n",
       "      <th>12W-0000000031-O</th>\n",
       "      <td>10YCH-SWISSGRIDZ</td>\n",
       "      <td>1307</td>\n",
       "      <td>KW Oberhasli AG (KWO)</td>\n",
       "      <td>Hydro Pumped Storage</td>\n",
       "      <td>220</td>\n",
       "    </tr>\n",
       "    <tr>\n",
       "      <th>12W-0000000917-6</th>\n",
       "      <td>10YCH-SWISSGRIDZ</td>\n",
       "      <td>415</td>\n",
       "      <td>KSL - KW Sarganserland AG</td>\n",
       "      <td>Hydro Pumped Storage</td>\n",
       "      <td>380</td>\n",
       "    </tr>\n",
       "    <tr>\n",
       "      <th>12W-0000000850-G</th>\n",
       "      <td>10YCH-SWISSGRIDZ</td>\n",
       "      <td>125</td>\n",
       "      <td>Kraftwerk Etzelwerk</td>\n",
       "      <td>Hydro Pumped Storage</td>\n",
       "      <td>132</td>\n",
       "    </tr>\n",
       "    <tr>\n",
       "      <th>12W-0000000026-D</th>\n",
       "      <td>10YCH-SWISSGRIDZ</td>\n",
       "      <td>416</td>\n",
       "      <td>Blenio (OFIBLE)</td>\n",
       "      <td>Hydro Water Reservoir</td>\n",
       "      <td>220</td>\n",
       "    </tr>\n",
       "  </tbody>\n",
       "</table>\n",
       "</div>"
      ],
      "text/plain": [
       "                      Bidding Zone Installed Capacity [MW]  \\\n",
       "12W-0000000797-L  10YCH-SWISSGRIDZ                     126   \n",
       "12W-0000000018-B  10YCH-SWISSGRIDZ                    1524   \n",
       "12W-0000000011-W  10YCH-SWISSGRIDZ                     258   \n",
       "12W-0000000021-S  10YCH-SWISSGRIDZ                     336   \n",
       "12W-0000000065-0  10YCH-SWISSGRIDZ                     114   \n",
       "12W-0000000052-D  10YCH-SWISSGRIDZ                    1220   \n",
       "12W-0000000105-J  10YCH-SWISSGRIDZ                     340   \n",
       "12W-0000000016-H  10YCH-SWISSGRIDZ                     640   \n",
       "12W-0000000034-F  10YCH-SWISSGRIDZ                     421   \n",
       "12W-0000000017-E  10YCH-SWISSGRIDZ                     730   \n",
       "12W-0000000925-8  10YCH-SWISSGRIDZ                     547   \n",
       "12W-0000000849-U  10YCH-SWISSGRIDZ                     120   \n",
       "12W-0000000035-C  10YCH-SWISSGRIDZ                     416   \n",
       "12W-0000000241-A  10YCH-SWISSGRIDZ                     914   \n",
       "12W-0000000851-D  10YCH-SWISSGRIDZ                     107   \n",
       "12W-0000000116-C  10YCH-SWISSGRIDZ                     484   \n",
       "12W-0000000080-7  10YCH-SWISSGRIDZ                     100   \n",
       "12W-0000001614-O  10YCH-SWISSGRIDZ                     108   \n",
       "12W-0000001567-0  10YCH-SWISSGRIDZ                     198   \n",
       "12W-0000000846-2  10YCH-SWISSGRIDZ                     102   \n",
       "12W-0000000033-I  10YCH-SWISSGRIDZ                     263   \n",
       "12W-0000000064-3  10YCH-SWISSGRIDZ                     226   \n",
       "12W-0000000056-1  10YCH-SWISSGRIDZ                    1020   \n",
       "12W-0000000060-F  10YCH-SWISSGRIDZ                     420   \n",
       "12W-0000000902-P  10YCH-SWISSGRIDZ                    1926   \n",
       "12W-0000001565-6  10YCH-SWISSGRIDZ                   192.7   \n",
       "12W-0000000057-Z  10YCH-SWISSGRIDZ                     378   \n",
       "12W-0000000031-O  10YCH-SWISSGRIDZ                    1307   \n",
       "12W-0000000917-6  10YCH-SWISSGRIDZ                     415   \n",
       "12W-0000000850-G  10YCH-SWISSGRIDZ                     125   \n",
       "12W-0000000026-D  10YCH-SWISSGRIDZ                     416   \n",
       "\n",
       "                                       Name                  Production Type  \\\n",
       "12W-0000000797-L        Kraftwerk LÃ¶tschen  Hydro Run-of-river and poundage   \n",
       "12W-0000000018-B  KLL - KW Linth-Limmern AG             Hydro Pumped Storage   \n",
       "12W-0000000011-W      KWZ - KW Zervreila AG            Hydro Water Reservoir   \n",
       "12W-0000000021-S    KVR - KW Vorderrhein AG            Hydro Water Reservoir   \n",
       "12W-0000000065-0                   Verzasca            Hydro Water Reservoir   \n",
       "12W-0000000052-D  KKL - KernKW Leibstadt AG                          Nuclear   \n",
       "12W-0000000105-J         Electra-Massa (EM)            Hydro Water Reservoir   \n",
       "12W-0000000016-H    KHR - KW Hinterrhein AG             Hydro Pumped Storage   \n",
       "12W-0000000034-F    Kraftwerke Mauvoisin AG            Hydro Water Reservoir   \n",
       "12W-0000000017-E        KKB - KernKW Beznau                          Nuclear   \n",
       "12W-0000000925-8             Maggia (OFIMA)            Hydro Water Reservoir   \n",
       "12W-0000000849-U           Kraftwerk Amsteg  Hydro Run-of-river and poundage   \n",
       "12W-0000000035-C      EKW - Engadiner KW AG             Hydro Pumped Storage   \n",
       "12W-0000000241-A       Nant de Drance (NDD)             Hydro Pumped Storage   \n",
       "12W-0000000851-D            Kraftwerk CB-VE             Hydro Pumped Storage   \n",
       "12W-0000000116-C      Hongrin-LÃ©man (FMHL)             Hydro Pumped Storage   \n",
       "12W-0000000080-7          KW Rheinfelden CH  Hydro Run-of-river and poundage   \n",
       "12W-0000001614-O                   WÃ¤gital             Hydro Pumped Storage   \n",
       "12W-0000001567-0    Kraftwerk MittelbÃ¼nden            Hydro Water Reservoir   \n",
       "12W-0000000846-2       Kraftwerk GÃ¶schenen            Hydro Water Reservoir   \n",
       "12W-0000000033-I       KWM - KW Mattmark AG             Hydro Pumped Storage   \n",
       "12W-0000000064-3              AET Leventina            Hydro Water Reservoir   \n",
       "12W-0000000056-1      Kernkraftwerk GÃ¶sgen                          Nuclear   \n",
       "12W-0000000060-F              Emosson (ESA)            Hydro Water Reservoir   \n",
       "12W-0000000902-P           Gde-Dixence (GD)            Hydro Water Reservoir   \n",
       "12W-0000001565-6          Kraftwerk Bergell             Hydro Pumped Storage   \n",
       "12W-0000000057-Z       KKW MÃ¼hleberg (KKM)                          Nuclear   \n",
       "12W-0000000031-O      KW Oberhasli AG (KWO)             Hydro Pumped Storage   \n",
       "12W-0000000917-6  KSL - KW Sarganserland AG             Hydro Pumped Storage   \n",
       "12W-0000000850-G        Kraftwerk Etzelwerk             Hydro Pumped Storage   \n",
       "12W-0000000026-D            Blenio (OFIBLE)            Hydro Water Reservoir   \n",
       "\n",
       "                 Voltage Connection Level [kV]  \n",
       "12W-0000000797-L                            65  \n",
       "12W-0000000018-B                           380  \n",
       "12W-0000000011-W                           220  \n",
       "12W-0000000021-S                           220  \n",
       "12W-0000000065-0                           150  \n",
       "12W-0000000052-D                           380  \n",
       "12W-0000000105-J                           220  \n",
       "12W-0000000016-H                           220  \n",
       "12W-0000000034-F                           220  \n",
       "12W-0000000017-E                           380  \n",
       "12W-0000000925-8                           220  \n",
       "12W-0000000849-U                           132  \n",
       "12W-0000000035-C                           380  \n",
       "12W-0000000241-A                           380  \n",
       "12W-0000000851-D                           132  \n",
       "12W-0000000116-C                           220  \n",
       "12W-0000000080-7                           220  \n",
       "12W-0000001614-O                           220  \n",
       "12W-0000001567-0                           220  \n",
       "12W-0000000846-2                           132  \n",
       "12W-0000000033-I                           220  \n",
       "12W-0000000064-3                           150  \n",
       "12W-0000000056-1                           380  \n",
       "12W-0000000060-F                           220  \n",
       "12W-0000000902-P                           380  \n",
       "12W-0000001565-6                           220  \n",
       "12W-0000000057-Z                           220  \n",
       "12W-0000000031-O                           220  \n",
       "12W-0000000917-6                           380  \n",
       "12W-0000000850-G                           132  \n",
       "12W-0000000026-D                           220  "
      ]
     },
     "execution_count": 77,
     "metadata": {},
     "output_type": "execute_result"
    }
   ],
   "source": [
    "installed_generation_capacity_per_unit_df"
   ]
  },
  {
   "cell_type": "markdown",
   "metadata": {},
   "source": [
    "For other implementable data download and visualizations possibilities look here: https://github.com/EnergieID/entsoe-py/blob/master/Demo.ipynb"
   ]
  },
  {
   "cell_type": "code",
   "execution_count": null,
   "metadata": {},
   "outputs": [],
   "source": [
    "\n",
    "\n",
    "# methods that return Pandas DataFrames\n",
    "wind_and_solar_forecast=client.query_wind_and_solar_forecast(country_code, start=start,end=end, psr_type=None)\n",
    "generation=client.query_generation(country_code, start=start,end=end, psr_type=None)\n",
    "installed_generation_capacity=client.query_installed_generation_capacity(country_code, start=start,end=end, psr_type=None)\n",
    "crossborder_flows=client.query_crossborder_flows('DE', 'SI', start=start,end=end)\n",
    "imbalance_prices=client.query_imbalance_prices(country_code, start=start,end=end, psr_type=None)\n",
    "unavailability_of_generation_units=client.query_unavailability_of_generation_units(country_code, start=start,end=end, docstatus=None)\n",
    "withdrawn_unavailability_of_generation_units=client.query_withdrawn_unavailability_of_generation_units('DE', start=start,end=end)"
   ]
  },
  {
   "cell_type": "markdown",
   "metadata": {},
   "source": [
    "Dumping files in data folder"
   ]
  },
  {
   "cell_type": "code",
   "execution_count": null,
   "metadata": {},
   "outputs": [],
   "source": [
    "dictionary_naming={'day_ahead_prices':day_ahead_prices,\n",
    "                  }\n",
    "#check if directory exists\n",
    "\n",
    "#make directory named with  start_date and end_date\n",
    "# folder=os.m\n",
    "\n",
    "#loop to dump the data\n",
    "for key, value in zip(dictionary_naming.keys(), dictionary_naming.values()):\n",
    "    \n",
    "    value.to_csv(RAW_DATA_FOLDER+key+'.csv')"
   ]
  }
 ],
 "metadata": {
  "kernelspec": {
   "display_name": "case_study_2_alpiq",
   "language": "python",
   "name": "case_study_2_alpiq"
  },
  "language_info": {
   "codemirror_mode": {
    "name": "ipython",
    "version": 3
   },
   "file_extension": ".py",
   "mimetype": "text/x-python",
   "name": "python",
   "nbconvert_exporter": "python",
   "pygments_lexer": "ipython3",
   "version": "3.8.2"
  }
 },
 "nbformat": 4,
 "nbformat_minor": 4
}
