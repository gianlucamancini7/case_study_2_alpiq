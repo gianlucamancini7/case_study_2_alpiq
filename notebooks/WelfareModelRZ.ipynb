{
 "cells": [
  {
   "cell_type": "code",
   "execution_count": 1,
   "metadata": {},
   "outputs": [],
   "source": [
    "%load_ext autoreload\n",
    "%autoreload 2\n",
    "\n",
    "#import sys\n",
    "#sys.path.append('../../')\n",
    "\n",
    "import pandas as pd\n",
    "import numpy as np\n",
    "from datetime import datetime\n",
    "from src.data.helper_closed_transactions import read_epex_file, filter_lead_time, extract_transactions\n",
    "import matplotlib.pyplot as plt\n",
    "\n",
    "#set maximum columns display pandas\n",
    "pd.options.display.max_columns = 50"
   ]
  },
  {
   "cell_type": "code",
   "execution_count": 23,
   "metadata": {},
   "outputs": [],
   "source": [
    "#Functions:::\n",
    "#Read from expex\n",
    "\n",
    "def clean_transactions(x):\n",
    "    df=x.drop(['Executed Volume_S','Execution Price_S', 'Delivery Start_S', 'Instrument Type_S'], 1)\n",
    "    df.rename(columns={'Delivery Start_B':'Delivery Start',\n",
    "                       'Executed Volume_B': 'Executed Volume',\n",
    "                       'Execution Price_B': 'Execution Price',\n",
    "                       'Instrument Type_B': 'Instrument Type'\n",
    "                      }, inplace=True)\n",
    "\n",
    "    return df\n",
    "\n",
    "#Read weekly prices\n",
    "\n",
    "def read_weekly_prices_file(path):\n",
    "    df = pd.read_csv(path,\n",
    "                         sep=';',\n",
    "                         decimal=\",\",\n",
    "                         parse_dates=['End Date'],\n",
    "                         date_parser=lambda col: pd.to_datetime(col,\n",
    "                                                                utc=True,\n",
    "                                                                format='%d/%m/%Y %H:%M',\n",
    "                                                                ),\n",
    "                         nrows=None\n",
    "                         )\n",
    "    return df\n",
    "#Read NTC \n",
    "\n",
    "def read_NTC_file(path):\n",
    "    df = pd.read_csv(path,\n",
    "                         sep=',',\n",
    "                         decimal=\".\",\n",
    "                         parse_dates=['Date from'],\n",
    "                         date_parser=lambda col: pd.to_datetime(col,\n",
    "                                                                utc=True,\n",
    "                                                                format='%d.%m.%Y',\n",
    "                                                                )\n",
    "                         )\n",
    "    return df"
   ]
  },
  {
   "cell_type": "markdown",
   "metadata": {},
   "source": [
    "### Read from EPEX"
   ]
  },
  {
   "cell_type": "code",
   "execution_count": 3,
   "metadata": {},
   "outputs": [],
   "source": [
    "df=read_epex_file(\n",
    "    \"../data/external/DE Continuous Orders 20191001.csv\",\n",
    "    fast_load=False)"
   ]
  },
  {
   "cell_type": "code",
   "execution_count": 4,
   "metadata": {},
   "outputs": [],
   "source": [
    "df_filtered=filter_lead_time(df)"
   ]
  },
  {
   "cell_type": "code",
   "execution_count": 17,
   "metadata": {},
   "outputs": [],
   "source": [
    "pivoted, pivoted_levels=extract_transactions(df_filtered, new_data_type=False)"
   ]
  },
  {
   "cell_type": "code",
   "execution_count": 18,
   "metadata": {},
   "outputs": [],
   "source": [
    "pivoted_levels.reset_index(inplace=True)"
   ]
  },
  {
   "cell_type": "code",
   "execution_count": 19,
   "metadata": {},
   "outputs": [
    {
     "data": {
      "text/html": [
       "<div>\n",
       "<style scoped>\n",
       "    .dataframe tbody tr th:only-of-type {\n",
       "        vertical-align: middle;\n",
       "    }\n",
       "\n",
       "    .dataframe tbody tr th {\n",
       "        vertical-align: top;\n",
       "    }\n",
       "\n",
       "    .dataframe thead th {\n",
       "        text-align: right;\n",
       "    }\n",
       "</style>\n",
       "<table border=\"1\" class=\"dataframe\">\n",
       "  <thead>\n",
       "    <tr style=\"text-align: right;\">\n",
       "      <th></th>\n",
       "      <th>End Validity Date</th>\n",
       "      <th>Executed Price &amp; Volume</th>\n",
       "      <th>Delivery Start_B</th>\n",
       "      <th>Executed Volume_B</th>\n",
       "      <th>Execution Price_B</th>\n",
       "      <th>Initial ID_B</th>\n",
       "      <th>Instrument Type_B</th>\n",
       "      <th>Is Executed_B</th>\n",
       "      <th>Is block_B</th>\n",
       "      <th>Order ID_B</th>\n",
       "      <th>Parent ID_B</th>\n",
       "      <th>Price_B</th>\n",
       "      <th>Volume_B</th>\n",
       "      <th>lead_time_B</th>\n",
       "      <th>Delivery Start_S</th>\n",
       "      <th>Executed Volume_S</th>\n",
       "      <th>Execution Price_S</th>\n",
       "      <th>Initial ID_S</th>\n",
       "      <th>Instrument Type_S</th>\n",
       "      <th>Is Executed_S</th>\n",
       "      <th>Is block_S</th>\n",
       "      <th>Order ID_S</th>\n",
       "      <th>Parent ID_S</th>\n",
       "      <th>Price_S</th>\n",
       "      <th>Volume_S</th>\n",
       "      <th>lead_time_S</th>\n",
       "    </tr>\n",
       "  </thead>\n",
       "  <tbody>\n",
       "    <tr>\n",
       "      <th>0</th>\n",
       "      <td>2019-09-30 23:16:56.314000+00:00</td>\n",
       "      <td>(34.4, 0.25)</td>\n",
       "      <td>2019-10-01 00:15:00+00:00</td>\n",
       "      <td>0.25</td>\n",
       "      <td>34.4</td>\n",
       "      <td>10524151567</td>\n",
       "      <td>Quarter Hour</td>\n",
       "      <td>2</td>\n",
       "      <td>N</td>\n",
       "      <td>10524153932</td>\n",
       "      <td>10524153547.0</td>\n",
       "      <td>35.4</td>\n",
       "      <td>0.5</td>\n",
       "      <td>0 days 00:58:03.686000</td>\n",
       "      <td>2019-10-01 00:15:00+00:00</td>\n",
       "      <td>0.25</td>\n",
       "      <td>34.4</td>\n",
       "      <td>10524153440</td>\n",
       "      <td>Quarter Hour</td>\n",
       "      <td>1</td>\n",
       "      <td>N</td>\n",
       "      <td>10524153480</td>\n",
       "      <td>10524153440.0</td>\n",
       "      <td>34.4</td>\n",
       "      <td>0.25</td>\n",
       "      <td>0 days 00:59:30.068000</td>\n",
       "    </tr>\n",
       "    <tr>\n",
       "      <th>1</th>\n",
       "      <td>2019-09-30 23:16:56.314000+00:00</td>\n",
       "      <td>(34.52, 0.2)</td>\n",
       "      <td>2019-10-01 00:15:00+00:00</td>\n",
       "      <td>0.2</td>\n",
       "      <td>34.52</td>\n",
       "      <td>10524151567</td>\n",
       "      <td>Quarter Hour</td>\n",
       "      <td>2</td>\n",
       "      <td>N</td>\n",
       "      <td>10524153932</td>\n",
       "      <td>10524153547.0</td>\n",
       "      <td>35.4</td>\n",
       "      <td>0.25</td>\n",
       "      <td>0 days 00:58:03.686000</td>\n",
       "      <td>2019-10-01 00:15:00+00:00</td>\n",
       "      <td>0.2</td>\n",
       "      <td>34.52</td>\n",
       "      <td>10524152127</td>\n",
       "      <td>Quarter Hour</td>\n",
       "      <td>1</td>\n",
       "      <td>N</td>\n",
       "      <td>10524153770</td>\n",
       "      <td>10524153474.0</td>\n",
       "      <td>34.52</td>\n",
       "      <td>0.2</td>\n",
       "      <td>0 days 00:58:30.896000</td>\n",
       "    </tr>\n",
       "    <tr>\n",
       "      <th>2</th>\n",
       "      <td>2019-09-30 23:16:56.314000+00:00</td>\n",
       "      <td>(34.6, 0.05)</td>\n",
       "      <td>2019-10-01 00:15:00+00:00</td>\n",
       "      <td>0.05</td>\n",
       "      <td>34.6</td>\n",
       "      <td>10524151567</td>\n",
       "      <td>Quarter Hour</td>\n",
       "      <td>1</td>\n",
       "      <td>N</td>\n",
       "      <td>10524153932</td>\n",
       "      <td>10524153547.0</td>\n",
       "      <td>35.4</td>\n",
       "      <td>0.05</td>\n",
       "      <td>0 days 00:58:03.686000</td>\n",
       "      <td>2019-10-01 00:15:00+00:00</td>\n",
       "      <td>0.05</td>\n",
       "      <td>34.6</td>\n",
       "      <td>10524152775</td>\n",
       "      <td>Quarter Hour</td>\n",
       "      <td>2</td>\n",
       "      <td>N</td>\n",
       "      <td>10524153548</td>\n",
       "      <td>10524153479.0</td>\n",
       "      <td>34.6</td>\n",
       "      <td>0.175</td>\n",
       "      <td>0 days 00:58:51.766000</td>\n",
       "    </tr>\n",
       "    <tr>\n",
       "      <th>3</th>\n",
       "      <td>2019-09-30 23:16:56.398000+00:00</td>\n",
       "      <td>(34.22, 0.25)</td>\n",
       "      <td>2019-10-01 00:15:00+00:00</td>\n",
       "      <td>0.25</td>\n",
       "      <td>34.22</td>\n",
       "      <td>10524153934</td>\n",
       "      <td>Quarter Hour</td>\n",
       "      <td>1</td>\n",
       "      <td>N</td>\n",
       "      <td>10524153934</td>\n",
       "      <td>NaN</td>\n",
       "      <td>35.4</td>\n",
       "      <td>0.25</td>\n",
       "      <td>0 days 00:58:03.602000</td>\n",
       "      <td>2019-10-01 00:15:00+00:00</td>\n",
       "      <td>0.25</td>\n",
       "      <td>34.22</td>\n",
       "      <td>10524153933</td>\n",
       "      <td>Quarter Hour</td>\n",
       "      <td>1</td>\n",
       "      <td>N</td>\n",
       "      <td>10524153933</td>\n",
       "      <td>NaN</td>\n",
       "      <td>34.22</td>\n",
       "      <td>0.25</td>\n",
       "      <td>0 days 00:58:03.609000</td>\n",
       "    </tr>\n",
       "    <tr>\n",
       "      <th>4</th>\n",
       "      <td>2019-09-30 23:17:20.690000+00:00</td>\n",
       "      <td>(34.6, 0.125)</td>\n",
       "      <td>2019-10-01 00:15:00+00:00</td>\n",
       "      <td>0.125</td>\n",
       "      <td>34.6</td>\n",
       "      <td>10524154088</td>\n",
       "      <td>Quarter Hour</td>\n",
       "      <td>2</td>\n",
       "      <td>N</td>\n",
       "      <td>10524154088</td>\n",
       "      <td>NaN</td>\n",
       "      <td>34.8</td>\n",
       "      <td>0.275</td>\n",
       "      <td>0 days 00:57:39.310000</td>\n",
       "      <td>2019-10-01 00:15:00+00:00</td>\n",
       "      <td>0.125</td>\n",
       "      <td>34.6</td>\n",
       "      <td>10524153936</td>\n",
       "      <td>Quarter Hour</td>\n",
       "      <td>1</td>\n",
       "      <td>N</td>\n",
       "      <td>10524153936</td>\n",
       "      <td>NaN</td>\n",
       "      <td>34.6</td>\n",
       "      <td>0.125</td>\n",
       "      <td>0 days 00:58:03.452000</td>\n",
       "    </tr>\n",
       "  </tbody>\n",
       "</table>\n",
       "</div>"
      ],
      "text/plain": [
       "                 End Validity Date Executed Price & Volume  \\\n",
       "0 2019-09-30 23:16:56.314000+00:00            (34.4, 0.25)   \n",
       "1 2019-09-30 23:16:56.314000+00:00            (34.52, 0.2)   \n",
       "2 2019-09-30 23:16:56.314000+00:00            (34.6, 0.05)   \n",
       "3 2019-09-30 23:16:56.398000+00:00           (34.22, 0.25)   \n",
       "4 2019-09-30 23:17:20.690000+00:00           (34.6, 0.125)   \n",
       "\n",
       "           Delivery Start_B Executed Volume_B Execution Price_B Initial ID_B  \\\n",
       "0 2019-10-01 00:15:00+00:00              0.25              34.4  10524151567   \n",
       "1 2019-10-01 00:15:00+00:00               0.2             34.52  10524151567   \n",
       "2 2019-10-01 00:15:00+00:00              0.05              34.6  10524151567   \n",
       "3 2019-10-01 00:15:00+00:00              0.25             34.22  10524153934   \n",
       "4 2019-10-01 00:15:00+00:00             0.125              34.6  10524154088   \n",
       "\n",
       "  Instrument Type_B Is Executed_B Is block_B   Order ID_B    Parent ID_B  \\\n",
       "0      Quarter Hour             2          N  10524153932  10524153547.0   \n",
       "1      Quarter Hour             2          N  10524153932  10524153547.0   \n",
       "2      Quarter Hour             1          N  10524153932  10524153547.0   \n",
       "3      Quarter Hour             1          N  10524153934            NaN   \n",
       "4      Quarter Hour             2          N  10524154088            NaN   \n",
       "\n",
       "  Price_B Volume_B            lead_time_B          Delivery Start_S  \\\n",
       "0    35.4      0.5 0 days 00:58:03.686000 2019-10-01 00:15:00+00:00   \n",
       "1    35.4     0.25 0 days 00:58:03.686000 2019-10-01 00:15:00+00:00   \n",
       "2    35.4     0.05 0 days 00:58:03.686000 2019-10-01 00:15:00+00:00   \n",
       "3    35.4     0.25 0 days 00:58:03.602000 2019-10-01 00:15:00+00:00   \n",
       "4    34.8    0.275 0 days 00:57:39.310000 2019-10-01 00:15:00+00:00   \n",
       "\n",
       "  Executed Volume_S Execution Price_S Initial ID_S Instrument Type_S  \\\n",
       "0              0.25              34.4  10524153440      Quarter Hour   \n",
       "1               0.2             34.52  10524152127      Quarter Hour   \n",
       "2              0.05              34.6  10524152775      Quarter Hour   \n",
       "3              0.25             34.22  10524153933      Quarter Hour   \n",
       "4             0.125              34.6  10524153936      Quarter Hour   \n",
       "\n",
       "  Is Executed_S Is block_S   Order ID_S    Parent ID_S Price_S Volume_S  \\\n",
       "0             1          N  10524153480  10524153440.0    34.4     0.25   \n",
       "1             1          N  10524153770  10524153474.0   34.52      0.2   \n",
       "2             2          N  10524153548  10524153479.0    34.6    0.175   \n",
       "3             1          N  10524153933            NaN   34.22     0.25   \n",
       "4             1          N  10524153936            NaN    34.6    0.125   \n",
       "\n",
       "             lead_time_S  \n",
       "0 0 days 00:59:30.068000  \n",
       "1 0 days 00:58:30.896000  \n",
       "2 0 days 00:58:51.766000  \n",
       "3 0 days 00:58:03.609000  \n",
       "4 0 days 00:58:03.452000  "
      ]
     },
     "execution_count": 19,
     "metadata": {},
     "output_type": "execute_result"
    }
   ],
   "source": [
    "pivoted_levels.head()\n"
   ]
  },
  {
   "cell_type": "code",
   "execution_count": null,
   "metadata": {},
   "outputs": [],
   "source": []
  },
  {
   "cell_type": "code",
   "execution_count": 24,
   "metadata": {},
   "outputs": [],
   "source": [
    "pivoted_levels=clean_transactions(pivoted_levels)"
   ]
  },
  {
   "cell_type": "code",
   "execution_count": 26,
   "metadata": {},
   "outputs": [
    {
     "data": {
      "text/plain": [
       "array(['Quarter Hour', 'Half Hour'], dtype=object)"
      ]
     },
     "execution_count": 26,
     "metadata": {},
     "output_type": "execute_result"
    }
   ],
   "source": [
    "pivoted_levels['Instrument Type'].unique()"
   ]
  },
  {
   "cell_type": "markdown",
   "metadata": {},
   "source": [
    "### Read from file - Weekly prices"
   ]
  },
  {
   "cell_type": "code",
   "execution_count": 8,
   "metadata": {},
   "outputs": [],
   "source": [
    "wp=read_weekly_prices_file(\"../data/external/Hydro Generation and Price_CH_2019.csv\")"
   ]
  },
  {
   "cell_type": "code",
   "execution_count": 9,
   "metadata": {},
   "outputs": [],
   "source": [
    "wp['start_date']=wp['End Date']-pd.Timedelta(7, unit='days')"
   ]
  },
  {
   "cell_type": "markdown",
   "metadata": {},
   "source": [
    "### Read from file - NTC"
   ]
  },
  {
   "cell_type": "code",
   "execution_count": 10,
   "metadata": {},
   "outputs": [],
   "source": [
    "NTC=read_NTC_file(\"../data/external/NTC_DEandCH_2019.csv\")"
   ]
  },
  {
   "cell_type": "code",
   "execution_count": 11,
   "metadata": {},
   "outputs": [
    {
     "name": "stderr",
     "output_type": "stream",
     "text": [
      "/opt/anaconda3/envs/envalpiq/lib/python3.7/site-packages/pandas/core/indexing.py:1637: SettingWithCopyWarning: \n",
      "A value is trying to be set on a copy of a slice from a DataFrame\n",
      "\n",
      "See the caveats in the documentation: https://pandas.pydata.org/pandas-docs/stable/user_guide/indexing.html#returning-a-view-versus-a-copy\n",
      "  self._setitem_single_block(indexer, value, name)\n"
     ]
    }
   ],
   "source": [
    "def NTC_preparation(NTC):\n",
    "\n",
    "    ###START TIME \n",
    "    NTC['Time from hour']=NTC['Time from'].apply(lambda x: int(x.split(':')[0]))\n",
    "    NTC['Time from min']=NTC['Time from'].apply(lambda x: int(x.split(':')[1]))\n",
    "    pd.to_timedelta(NTC['Time from hour'], unit='hours')+pd.to_timedelta(NTC['Time from min'], unit='minutes')\n",
    "    NTC['start_time']=NTC['Date from']+pd.to_timedelta(NTC['Time from hour'], unit='hours')+pd.to_timedelta(NTC['Time from min'], unit='minutes')\n",
    "\n",
    "    ###END TIME \n",
    "    NTC['Time to hour']=NTC['Time to'].apply(lambda x: int(x.split(':')[0]))\n",
    "    NTC['Time to min']=NTC['Time to'].apply(lambda x: int(x.split(':')[1]))\n",
    "    NTC['Time to hour'].loc[(NTC['Time to hour']==0)&\n",
    "        (NTC['Time to min']==0)]=24\n",
    "    pd.to_timedelta(NTC['Time to hour'], unit='hours')+pd.to_timedelta(NTC['Time to min'], unit='minutes')\n",
    "    NTC['end_time']=NTC['Date from']+pd.to_timedelta(NTC['Time to hour'], unit='hours')+pd.to_timedelta(NTC['Time to min'], unit='minutes')\n",
    "\n",
    "    #create a column to store update capacity\n",
    "    NTC['CH to DE_Actual value (MW) update']=NTC['CH to DE_Actual value (MW)'] \n",
    "    \n",
    "    return NTC"
   ]
  },
  {
   "cell_type": "markdown",
   "metadata": {},
   "source": [
    "### Weekly price and capacity - skimmer"
   ]
  },
  {
   "cell_type": "code",
   "execution_count": 12,
   "metadata": {},
   "outputs": [],
   "source": [
    "\n",
    "\n",
    "#sort the pivoted file \n",
    "pivoted_levels_sort=pivoted_levels.sort_values(by=['Execution Price'], ascending=False)\n",
    "\n",
    "#get the weekly price\n",
    "\n",
    "date=pivoted_levels['End Validity Date'].iloc[0] #this is the first date of the day, it is then used to find the week for the price\n",
    "weekly_price=[wp['Average Weekly Price [Euro/MWh]'][(wp['start_date']<date)&\n",
    "                                                  (wp['End Date']>=date)].item(),wp['Max Weekly Pumping Price [Euro/MWh]'][(wp['start_date']<date)&\n",
    "                                                  (wp['End Date']>=date)].item()] #weekly_price selling,pumping\n"
   ]
  },
  {
   "cell_type": "code",
   "execution_count": 16,
   "metadata": {},
   "outputs": [],
   "source": [
    "'''# get actual capacity _ we don't need this function\n",
    "def get_capacity(NTC, x):\n",
    "    \n",
    "    capacity=[]\n",
    "    #selling capacity CH->DE\n",
    "    capacity.append(NTC['CH to DE_Actual value (MW)'][(NTC['start_time']<x)&\n",
    "                                                      (NTC['end_time']>=x)].item())\n",
    "    #pumping capacity DE->CH\n",
    "    capacity.append(NTC['DE to CH_Actual value (MW)'][(NTC['start_time']<x)&\n",
    "                                     (NTC['end_time']>=x)].item())\n",
    "    \n",
    "        \n",
    "    \n",
    "    return capacity\n",
    "\n",
    "pivoted_levels_sort['Actual Nominal Capacity CH-DE']=pivoted_levels_sort['End Validity Date'].apply(lambda x: get_capacity(NTC, x)[0])'''"
   ]
  },
  {
   "cell_type": "code",
   "execution_count": 42,
   "metadata": {},
   "outputs": [
    {
     "data": {
      "text/plain": [
       "[0, 0]"
      ]
     },
     "execution_count": 42,
     "metadata": {},
     "output_type": "execute_result"
    }
   ],
   "source": [
    "\n",
    "[0]*2\n",
    "                                                                             "
   ]
  },
  {
   "cell_type": "code",
   "execution_count": 40,
   "metadata": {},
   "outputs": [
    {
     "data": {
      "text/plain": [
       "0"
      ]
     },
     "execution_count": 40,
     "metadata": {},
     "output_type": "execute_result"
    }
   ],
   "source": [
    "c=np.array([-1,1, 3])<0\n",
    "np.product(c)"
   ]
  },
  {
   "cell_type": "code",
   "execution_count": 43,
   "metadata": {},
   "outputs": [
    {
     "ename": "NameError",
     "evalue": "name 'pivoted_levels_sort' is not defined",
     "output_type": "error",
     "traceback": [
      "\u001b[0;31m---------------------------------------------------------------------------\u001b[0m",
      "\u001b[0;31mNameError\u001b[0m                                 Traceback (most recent call last)",
      "\u001b[0;32m<ipython-input-43-ea3d4da3ece8>\u001b[0m in \u001b[0;36m<module>\u001b[0;34m\u001b[0m\n\u001b[1;32m     20\u001b[0m \u001b[0;34m\u001b[0m\u001b[0m\n\u001b[1;32m     21\u001b[0m \u001b[0;31m#drop contracts lower thank weekly price an\u001b[0m\u001b[0;34m\u001b[0m\u001b[0;34m\u001b[0m\u001b[0;34m\u001b[0m\u001b[0m\n\u001b[0;32m---> 22\u001b[0;31m \u001b[0mpivoted_levels_sort_sel\u001b[0m\u001b[0;34m=\u001b[0m\u001b[0mpivoted_levels_sort\u001b[0m\u001b[0;34m[\u001b[0m\u001b[0mpivoted_levels_sort\u001b[0m\u001b[0;34m[\u001b[0m\u001b[0;34m'Execution Price'\u001b[0m\u001b[0;34m]\u001b[0m\u001b[0;34m>=\u001b[0m\u001b[0mweekly_price\u001b[0m\u001b[0;34m[\u001b[0m\u001b[0;36m0\u001b[0m\u001b[0;34m]\u001b[0m\u001b[0;34m]\u001b[0m\u001b[0;34m\u001b[0m\u001b[0;34m\u001b[0m\u001b[0m\n\u001b[0m\u001b[1;32m     23\u001b[0m pivoted_levels_sort_sel['binary_outcome']=pivoted_levels_sort_sel.apply(lambda x: optimize(NTC,\n\u001b[1;32m     24\u001b[0m                                                                                            \u001b[0mx\u001b[0m\u001b[0;34m[\u001b[0m\u001b[0;34m'Executed Volume'\u001b[0m\u001b[0;34m]\u001b[0m\u001b[0;34m,\u001b[0m\u001b[0;34m\u001b[0m\u001b[0;34m\u001b[0m\u001b[0m\n",
      "\u001b[0;31mNameError\u001b[0m: name 'pivoted_levels_sort' is not defined"
     ]
    }
   ],
   "source": [
    "def optimize (NTC, ex_vol, time, instru_type):\n",
    "    \n",
    "    multiplier_instr_type={'Hour':1, 'Half Hour':2, 'Quarter Hour':4}\n",
    "    \n",
    "    # get the corresponding index\n",
    "    index=NTC[(NTC['start_time']==time)&(NTC['end_time']==time+pd.Timedelta(60/multiplier_instr_type[instru_type], unit='mins'))].index\n",
    "    \n",
    "    # check the difference\n",
    "    diff=np.array([NTC['CH to DE_Actual value (MW) update'].iloc[i]-ex_vol*multiplier_instr_type[instru_type] for i in index])\n",
    "    \n",
    "    # update the value\n",
    "    if np.product(diff>=0):\n",
    "        NTC['CH to DE_Actual value (MW) update'].iloc[index]=diff\n",
    "        \n",
    "        return 1\n",
    "    else:\n",
    "        NTC['CH to DE_Actual value (MW) update'].iloc[index]=[0]*len(diff)\n",
    "        \n",
    "        return 0\n",
    "    \n",
    "#drop contracts lower thank weekly price an\n",
    "pivoted_levels_sort_sel=pivoted_levels_sort[pivoted_levels_sort['Execution Price']>=weekly_price[0]]\n",
    "pivoted_levels_sort_sel['binary_outcome']=pivoted_levels_sort_sel.apply(lambda x: optimize(NTC,\n",
    "                                                                                           x['Executed Volume'],\n",
    "                                                                                           x['Delivery Start'],\n",
    "                                                                                           x['Instrument Type']\n",
    "                                                                                          ), axis=1)\n"
   ]
  },
  {
   "cell_type": "code",
   "execution_count": null,
   "metadata": {
    "scrolled": false
   },
   "outputs": [],
   "source": [
    "#Check work in progress\n",
    "\n",
    "'''NTC[NTC['CH to DE_Actual value (MW)']>0]\n",
    "\n",
    "NTC[NTC['CH to DE_Actual value (MW)']!=NTC['CH to DE_Actual value (MW) update']]\n",
    "\n",
    "np.sum(pivoted_levels_sort_sel['Executed Volume_B'][(pivoted_levels_sort_sel['binary_outcome']==1)&\n",
    "                       (pivoted_levels_sort_sel['End Validity Date'].dt.tz_localize(None)>np.datetime64(datetime(2019, 10, 1, 17, 0)))&\n",
    "                       (pivoted_levels_sort_sel['End Validity Date'].dt.tz_localize(None)<=np.datetime64(datetime(2019, 10, 1, 17, 15)))]*4)'''"
   ]
  }
 ],
 "metadata": {
  "kernelspec": {
   "display_name": "envalpiq",
   "language": "python",
   "name": "envalpiq"
  },
  "language_info": {
   "codemirror_mode": {
    "name": "ipython",
    "version": 3
   },
   "file_extension": ".py",
   "mimetype": "text/x-python",
   "name": "python",
   "nbconvert_exporter": "python",
   "pygments_lexer": "ipython3",
   "version": "3.7.10"
  }
 },
 "nbformat": 4,
 "nbformat_minor": 4
}
