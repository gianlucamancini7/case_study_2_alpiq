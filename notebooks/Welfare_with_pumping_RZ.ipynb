{
 "cells": [
  {
   "cell_type": "code",
   "execution_count": 1,
   "id": "collaborative-smooth",
   "metadata": {},
   "outputs": [],
   "source": [
    "%load_ext autoreload\n",
    "%autoreload 2\n",
    "\n",
    "#import sys\n",
    "#sys.path.append('../../')\n",
    "\n",
    "import pandas as pd\n",
    "import numpy as np\n",
    "from datetime import datetime\n",
    "import matplotlib.pyplot as plt\n",
    "\n",
    "from src.data.helper_closed_transactions import read_epex_file, filter_lead_time, extract_transactions\n",
    "from src.data.welfare import clean_transactions, read_weekly_prices_file, read_NTC_file, NTC_preparation, match_transactions\n",
    "\n",
    "#set maximum columns display pandas\n",
    "pd.options.display.max_columns = 50"
   ]
  },
  {
   "cell_type": "markdown",
   "id": "dutch-switch",
   "metadata": {},
   "source": [
    "### Read EPEX file"
   ]
  },
  {
   "cell_type": "code",
   "execution_count": 2,
   "id": "military-subscription",
   "metadata": {},
   "outputs": [
    {
     "data": {
      "text/plain": [
       "(12067, 24)"
      ]
     },
     "execution_count": 2,
     "metadata": {},
     "output_type": "execute_result"
    }
   ],
   "source": [
    "df=read_epex_file(\"../data/external/DE Continuous Orders 20191001.csv\",\n",
    "    fast_load=False)\n",
    "\n",
    "df_filtered=filter_lead_time(df)\n",
    "pivoted, pivoted_levels=extract_transactions(df_filtered, new_data_type=False)\n",
    "pivoted_levels.reset_index(inplace=True)\n",
    "pivoted_levels=clean_transactions(pivoted_levels)\n",
    "pivoted_levels.shape    "
   ]
  },
  {
   "cell_type": "markdown",
   "id": "patent-fluid",
   "metadata": {},
   "source": [
    "### Read Hydro Price, NTC"
   ]
  },
  {
   "cell_type": "code",
   "execution_count": 3,
   "id": "charged-caribbean",
   "metadata": {},
   "outputs": [],
   "source": [
    "wp=read_weekly_prices_file(\"../data/external/Hydro Generation and Price_CH_2019.csv\")"
   ]
  },
  {
   "cell_type": "code",
   "execution_count": 4,
   "id": "tracked-communication",
   "metadata": {},
   "outputs": [
    {
     "name": "stderr",
     "output_type": "stream",
     "text": [
      "/opt/anaconda3/envs/envalpiq/lib/python3.7/site-packages/pandas/core/indexing.py:1637: SettingWithCopyWarning: \n",
      "A value is trying to be set on a copy of a slice from a DataFrame\n",
      "\n",
      "See the caveats in the documentation: https://pandas.pydata.org/pandas-docs/stable/user_guide/indexing.html#returning-a-view-versus-a-copy\n",
      "  self._setitem_single_block(indexer, value, name)\n"
     ]
    }
   ],
   "source": [
    "# load NTC\n",
    "NTC = read_NTC_file(\"../data/external/NTC_DEandCH_2019.csv\")\n",
    "NTC = NTC_preparation(NTC)"
   ]
  },
  {
   "cell_type": "markdown",
   "id": "spanish-border",
   "metadata": {},
   "source": [
    "### Read and prepare Power Limit"
   ]
  },
  {
   "cell_type": "code",
   "execution_count": 5,
   "id": "complimentary-projection",
   "metadata": {},
   "outputs": [],
   "source": [
    "def read_pw_file(path):\n",
    "    df = pd.read_csv(path,\n",
    "                     sep=';',\n",
    "                     decimal=\".\",\n",
    "                     parse_dates=['VALUE_TIME'],\n",
    "                     date_parser=lambda col: pd.to_datetime(col,\n",
    "                                                            utc=True,\n",
    "                                                            format='%d.%m.%Y %H:%M',\n",
    "                                                            )\n",
    "                     )\n",
    "    return df\n",
    "\n",
    "def pw_preparation(pw):\n",
    "    # manipulate \"Power Limit\" file to obtain the same structure of NTC\n",
    "    \n",
    "    # from hourly to 15 minutes time resolution\n",
    "    pw_pivoted = pd.pivot_table(pw,\n",
    "                                 values=['Max. von Generation [MWh]', 'Min. von Generation [MWh]',  'Upscale Potential [MWh]', 'Donwnscale Potential', ],\n",
    "                                 index=['VALUE_TIME'],\n",
    "                                 aggfunc=list,\n",
    "                                 ).apply(pd.Series.explode).sort_index()\n",
    "    \n",
    "    pw_resampled=pw_pivoted.resample('15T', convention='start').ffill()\n",
    "    \n",
    "    # restore normal range index\n",
    "    pw_resampled=pw_resampled.reset_index()\n",
    "    \n",
    "    # create column start_time and end_time for the optimizer \n",
    "\n",
    "    pw_resampled['start_time'] = pw_resampled['VALUE_TIME']\n",
    "    pw_resampled['end_time'] = pw_resampled['VALUE_TIME'] + pd.to_timedelta(15, unit='minutes')\n",
    "   \n",
    "    # create a column to store update capacity\n",
    "    pw_resampled['Selling Actual value update [MW]'] = pw_resampled['Upscale Potential [MWh]']\n",
    "    pw_resampled['Pumping Actual value update [MW]'] = pw_resampled['Donwnscale Potential']\n",
    "\n",
    "    \n",
    "\n",
    "    return pw_resampled"
   ]
  },
  {
   "cell_type": "code",
   "execution_count": 6,
   "id": "electrical-abortion",
   "metadata": {},
   "outputs": [],
   "source": [
    "power_lim=read_pw_file(\"../data/external/Hydro Generation up- downscale Potential_CH_2019.csv\")\n",
    "power_lim=pw_preparation(power_lim)"
   ]
  },
  {
   "cell_type": "markdown",
   "id": "standing-independence",
   "metadata": {},
   "source": [
    "### Optimization process"
   ]
  },
  {
   "cell_type": "code",
   "execution_count": 7,
   "id": "significant-error",
   "metadata": {},
   "outputs": [],
   "source": [
    "def optimize_selling(NTC, pw, ex_vol, time, instru_type, p_match):\n",
    "\n",
    "    # check in the first place whether the contract was matchable according to marginal price of hydro considerations\n",
    "    if p_match:\n",
    "\n",
    "        multiplier_instr_type = {'Hour': 1, 'Half Hour': 2, 'Quarter Hour': 4}\n",
    "\n",
    "        # get the corresponding index for NTC and Power DFs\n",
    "        index_NTC = NTC[(NTC['start_time'] == time) & (NTC['end_time'] == time +\n",
    "                                                   pd.Timedelta(60/multiplier_instr_type[instru_type], unit='min'))].index\n",
    "        index_pw = pw[(pw['start_time'] == time)& (pw['end_time'] == time +\n",
    "                                                   pd.Timedelta(60/multiplier_instr_type[instru_type], unit='min'))].index\n",
    "    \n",
    "        # check the difference_selling\n",
    "        diff_NTC = np.array([NTC['CH to DE_Actual value (MW) update'].iloc[i] -\n",
    "                         ex_vol*multiplier_instr_type[instru_type] for i in index_NTC])\n",
    "        diff_pw = np.array([pw['Selling Actual value update [MW]'].iloc[i] -\n",
    "                         ex_vol*multiplier_instr_type[instru_type] for i in index_pw])\n",
    "        \n",
    "        \n",
    "        # update the value\n",
    "        if np.product(diff_NTC >= 0) and np.product(diff_pw >= 0):\n",
    "            NTC['CH to DE_Actual value (MW) update'].iloc[index_NTC] = diff_NTC\n",
    "            pw['Selling Actual value update [MW]'].iloc[index_pw] = diff_pw\n",
    "\n",
    "            return 1\n",
    "        if np.product(diff_NTC < 0) and np.product(diff_pw >= 0):\n",
    "            NTC['CH to DE_Actual value (MW) update'].iloc[index_NTC] = [\n",
    "                0]*len(diff_NTC)\n",
    "            pw['Selling Actual value update [MW]'].iloc[index_pw] = diff_pw\n",
    "            return 0\n",
    "        if np.product(diff_NTC >= 0) and np.product(diff_pw < 0):\n",
    "            NTC['CH to DE_Actual value (MW) update'].iloc[index_NTC] = diff_NTC\n",
    "            pw['Selling Actual value update [MW]'].iloc[index_pw] = [\n",
    "                0]*len(diff_pw)\n",
    "            return 0\n",
    "        else :\n",
    "            NTC['CH to DE_Actual value (MW) update'].iloc[index_NTC] = [\n",
    "                0]*len(diff_NTC)\n",
    "            pw['Selling Actual value update [MW]'].iloc[index_pw] = [\n",
    "                0]*len(diff_pw)\n",
    "            return 0 \n",
    "    else: \n",
    "        return 0 \n",
    "            \n",
    "\n",
    "\n",
    "def optimize_pumping(NTC, pw, ex_vol, time, instru_type, p_match):\n",
    "\n",
    "    # check in the first place whether the contract was matchable according to marginal price of hydro considerations\n",
    "    if p_match:\n",
    "\n",
    "        multiplier_instr_type = {'Hour': 1, 'Half Hour': 2, 'Quarter Hour': 4}\n",
    "\n",
    "        # get the corresponding index for NTC and Power DFs\n",
    "        index_NTC = NTC[(NTC['start_time'] == time) & (NTC['end_time'] == time +\n",
    "                                                   pd.Timedelta(60/multiplier_instr_type[instru_type], unit='min'))].index\n",
    "        index_pw = pw[(pw['start_time'] == time)& (pw['end_time'] == time +\n",
    "                                                   pd.Timedelta(60/multiplier_instr_type[instru_type], unit='min'))].index\n",
    "    \n",
    "        # check the difference_selling\n",
    "        diff_NTC = np.array([NTC['DE to CH_Actual value (MW) update'].iloc[i] -\n",
    "                         ex_vol*multiplier_instr_type[instru_type] for i in index_NTC])\n",
    "        diff_pw = np.array([pw['Pumping Actual value update [MW]'].iloc[i] -\n",
    "                         ex_vol*multiplier_instr_type[instru_type] for i in index_pw])\n",
    "        \n",
    "        \n",
    "        # update the value\n",
    "        if np.product(diff_NTC >= 0) and np.product(diff_pw >= 0):\n",
    "            NTC['DE to CH_Actual value (MW) update'].iloc[index_NTC] = diff_NTC\n",
    "            pw['Pumping Actual value update [MW]'].iloc[index_pw] = diff_pw\n",
    "\n",
    "            return 1\n",
    "        if np.product(diff_NTC < 0) and np.product(diff_pw >= 0):\n",
    "            NTC['DE to CH_Actual value (MW) update'].iloc[index_NTC] = [\n",
    "                0]*len(diff_NTC)\n",
    "            pw['Pumping Actual value update [MW]'].iloc[index_pw] = diff_pw\n",
    "            return 0\n",
    "        if np.product(diff_NTC >= 0) and np.product(diff_pw < 0):\n",
    "            NTC['DE to CH_Actual value (MW) update'].iloc[index_NTC] = diff_NTC\n",
    "            pw['Pumping Actual value update [MW]'].iloc[index_pw] = [\n",
    "                0]*len(diff_pw)\n",
    "            return 0\n",
    "        else :\n",
    "            NTC['DE to CH_Actual value (MW) update'].iloc[index_NTC] = [\n",
    "                0]*len(diff_NTC)\n",
    "            pw['Pumping Actual value update [MW]'].iloc[index_pw] = [\n",
    "                0]*len(diff_pw)\n",
    "            return 0 \n",
    "    else: \n",
    "        return 0 \n",
    "            "
   ]
  },
  {
   "cell_type": "code",
   "execution_count": 11,
   "id": "buried-touch",
   "metadata": {},
   "outputs": [],
   "source": [
    "def update_execution_price(binary_outcome_s, binary_outcome_p, marginal_price_s, marginal_price_p, execution_price):\n",
    "\n",
    "    if binary_outcome_s == 1:\n",
    "\n",
    "        return marginal_price_s\n",
    "    else:\n",
    "        # set pumping price different to execution_price\n",
    "        if binary_outcome_p == 1: \n",
    "        \n",
    "            return execution_price\n",
    "            ##return marginal_price_p\n",
    "        else:\n",
    "\n",
    "            return execution_price\n",
    "\n",
    "\n",
    "\n",
    "def match_transactions_both_sides(pivoted_levels, NTC, wp, power_lim):\n",
    "        \n",
    "    # sort the pivoted df in ascending way - useful to match pumping\n",
    "    pivoted_levels_sort = pivoted_levels.sort_values(\n",
    "        by=['Execution Price'], ascending=True)\n",
    "\n",
    "   \n",
    "    # this is the first date of the day, it is then used to find the week for the price\n",
    "    #change pumping_threshold value to set the percentage of marginal cost for pumping\n",
    "    \n",
    "    pumping_threshold=0.7\n",
    "    date = pivoted_levels['End Validity Date'].iloc[0]\n",
    "    weekly_price = [wp['Average Weekly Price [Euro/MWh]'][(wp['start_date'] < date) &\n",
    "                                                          (wp['End Date'] >= date)].item(), pumping_threshold*wp['Average Weekly Price [Euro/MWh]'][(wp['start_date'] < date) &\n",
    "                                                          (wp['End Date'] >= date)].item()]\n",
    "    # do not account for contracts lower than weekly price for selling\n",
    "    # do not account for contracts higher than pumping price for pumping\n",
    "    pivoted_levels_sort['weekly_hydro_marginal_price_selling'] = weekly_price[0]\n",
    "    pivoted_levels_sort['weekly_hydro_marginal_price_pumping'] = weekly_price[1]\n",
    "    \n",
    "    pivoted_levels_sort['possible_match_selling'] = pivoted_levels_sort['Execution Price'] >= weekly_price[0]\n",
    "    pivoted_levels_sort['possible_match_pumping'] = pivoted_levels_sort['Execution Price'] <= weekly_price[1]\n",
    "\n",
    "\n",
    "    #match between possible contracts, NTC and power capacity for pumping\n",
    "    pivoted_levels_sort['match_binary_outcome_pumping'] = pivoted_levels_sort.apply(lambda x: optimize_pumping(NTC, power_lim,\n",
    "                                                                                               x['Executed Volume'], \n",
    "                                                                                               x['Delivery Start'],\n",
    "                                                                                               x['Instrument Type'],\n",
    "                                                                                               x['possible_match_pumping']), axis=1)\n",
    "    \n",
    "    # sort the df in a descending way - useful to match selling\n",
    "    pivoted_levels_sort = pivoted_levels_sort.sort_values(\n",
    "        by=['Execution Price'], ascending=False)\n",
    "            \n",
    "    pivoted_levels_sort['match_binary_outcome_selling'] = pivoted_levels_sort.apply(lambda x: optimize_selling(NTC, power_lim,\n",
    "                                                                                               x['Executed Volume'],\n",
    "                                                                                               x['Delivery Start'],\n",
    "                                                                                               x['Instrument Type'],\n",
    "                                                                                               x['possible_match_selling']), axis=1)\n",
    "        \n",
    "\n",
    "\n",
    "    \n",
    "   \n",
    " \n",
    "    #add column with updated execution price N.B. marginal \n",
    "    pivoted_levels_sort['A posteriori Execution Price'] = pivoted_levels_sort.apply(\n",
    "        lambda x: update_execution_price(x['match_binary_outcome_selling'], x['match_binary_outcome_pumping'], x['weekly_hydro_marginal_price_selling'], x['weekly_hydro_marginal_price_pumping'], x['Execution Price']), axis=1)\n",
    "    \n",
    "    # eventually sort the table in time order\n",
    "    pivoted_levels_sort.sort_values(by='End Validity Date', inplace=True)\n",
    "   \n",
    "    return pivoted_levels_sort"
   ]
  },
  {
   "cell_type": "code",
   "execution_count": 12,
   "id": "iraqi-investor",
   "metadata": {},
   "outputs": [],
   "source": [
    "pivoted_levels_sort = match_transactions_both_sides(pivoted_levels, NTC, wp, power_lim)"
   ]
  }
 ],
 "metadata": {
  "kernelspec": {
   "display_name": "envalpiq",
   "language": "python",
   "name": "envalpiq"
  },
  "language_info": {
   "codemirror_mode": {
    "name": "ipython",
    "version": 3
   },
   "file_extension": ".py",
   "mimetype": "text/x-python",
   "name": "python",
   "nbconvert_exporter": "python",
   "pygments_lexer": "ipython3",
   "version": "3.7.10"
  }
 },
 "nbformat": 4,
 "nbformat_minor": 5
}
