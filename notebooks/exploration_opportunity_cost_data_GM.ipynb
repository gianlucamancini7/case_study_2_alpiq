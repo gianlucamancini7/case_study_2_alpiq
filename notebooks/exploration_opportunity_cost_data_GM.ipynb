{
 "cells": [
  {
   "cell_type": "code",
   "execution_count": 9,
   "metadata": {},
   "outputs": [
    {
     "name": "stdout",
     "output_type": "stream",
     "text": [
      "The autoreload extension is already loaded. To reload it, use:\n",
      "  %reload_ext autoreload\n"
     ]
    }
   ],
   "source": [
    "#include autoreload modules for fast testing and update\n",
    "%load_ext autoreload\n",
    "%autoreload 2\n",
    "\n",
    "#import relevant modules\n",
    "import pandas as pd\n",
    "import numpy as np\n",
    "import matplotlib.pyplot as plt\n",
    "\n",
    "#import helpers modules\n",
    "\n",
    "#set maximu columns display pandas\n",
    "pd.options.display.max_columns = 50"
   ]
  },
  {
   "cell_type": "markdown",
   "metadata": {},
   "source": [
    "Looks like the opportunity cost for hydro are derived based on the hydro load generation and the swiss index directly based "
   ]
  },
  {
   "cell_type": "code",
   "execution_count": 4,
   "metadata": {},
   "outputs": [],
   "source": [
    "#df=pd.read_excel('../data/external/Actual Generation per Production Type_201901010000-202001010000.xlsx')"
   ]
  },
  {
   "cell_type": "markdown",
   "metadata": {},
   "source": [
    "Let's check the epex data example"
   ]
  },
  {
   "cell_type": "code",
   "execution_count": 7,
   "metadata": {},
   "outputs": [],
   "source": [
    "df=pd.read_csv('../data/external/DE_Continuous_Orders_20200305.csv', nrows=500, sep=';')"
   ]
  },
  {
   "cell_type": "code",
   "execution_count": 13,
   "metadata": {},
   "outputs": [
    {
     "data": {
      "text/html": [
       "<div>\n",
       "<style scoped>\n",
       "    .dataframe tbody tr th:only-of-type {\n",
       "        vertical-align: middle;\n",
       "    }\n",
       "\n",
       "    .dataframe tbody tr th {\n",
       "        vertical-align: top;\n",
       "    }\n",
       "\n",
       "    .dataframe thead th {\n",
       "        text-align: right;\n",
       "    }\n",
       "</style>\n",
       "<table border=\"1\" class=\"dataframe\">\n",
       "  <thead>\n",
       "    <tr style=\"text-align: right;\">\n",
       "      <th></th>\n",
       "      <th>Order ID</th>\n",
       "      <th>Initial ID</th>\n",
       "      <th>Parent ID</th>\n",
       "      <th>Entry time</th>\n",
       "      <th>Action code</th>\n",
       "      <th>Transaction Time</th>\n",
       "      <th>Validity time</th>\n",
       "      <th>Delivery Start</th>\n",
       "      <th>Delivery End</th>\n",
       "      <th>Product</th>\n",
       "      <th>Delivery area</th>\n",
       "      <th>Market area</th>\n",
       "      <th>Side</th>\n",
       "      <th>Price</th>\n",
       "      <th>Currency</th>\n",
       "      <th>Quantity</th>\n",
       "      <th>isOTC</th>\n",
       "      <th>RevisionNo</th>\n",
       "      <th>Is User Defined Block</th>\n",
       "      <th>Execution restriction</th>\n",
       "      <th>Unnamed: 20</th>\n",
       "    </tr>\n",
       "  </thead>\n",
       "  <tbody>\n",
       "    <tr>\n",
       "      <th>0</th>\n",
       "      <td>10683176416</td>\n",
       "      <td>10683176416</td>\n",
       "      <td>NaN</td>\n",
       "      <td>2020-03-04T22:32:04.898Z</td>\n",
       "      <td>X</td>\n",
       "      <td>2020-03-04T23:00:00.002Z</td>\n",
       "      <td>2020-03-04T23:00:00Z</td>\n",
       "      <td>2020-03-04T23:30:00Z</td>\n",
       "      <td>2020-03-04T23:45:00Z</td>\n",
       "      <td>Intraday_Quarter_Hour_Power</td>\n",
       "      <td>AMP</td>\n",
       "      <td>DE</td>\n",
       "      <td>Buy</td>\n",
       "      <td>10.0</td>\n",
       "      <td>EUR</td>\n",
       "      <td>20.0</td>\n",
       "      <td>N</td>\n",
       "      <td>2</td>\n",
       "      <td>0</td>\n",
       "      <td>NON</td>\n",
       "      <td>NaN</td>\n",
       "    </tr>\n",
       "    <tr>\n",
       "      <th>1</th>\n",
       "      <td>10683191815</td>\n",
       "      <td>10683191815</td>\n",
       "      <td>NaN</td>\n",
       "      <td>2020-03-04T22:49:18.604Z</td>\n",
       "      <td>X</td>\n",
       "      <td>2020-03-04T23:00:00.002Z</td>\n",
       "      <td>2020-03-04T23:00:00Z</td>\n",
       "      <td>2020-03-04T23:15:00Z</td>\n",
       "      <td>2020-03-04T23:30:00Z</td>\n",
       "      <td>Intraday_Quarter_Hour_Power</td>\n",
       "      <td>TNG</td>\n",
       "      <td>DE</td>\n",
       "      <td>Sell</td>\n",
       "      <td>36.4</td>\n",
       "      <td>EUR</td>\n",
       "      <td>0.2</td>\n",
       "      <td>N</td>\n",
       "      <td>2</td>\n",
       "      <td>0</td>\n",
       "      <td>NON</td>\n",
       "      <td>NaN</td>\n",
       "    </tr>\n",
       "    <tr>\n",
       "      <th>2</th>\n",
       "      <td>10683191816</td>\n",
       "      <td>10683191816</td>\n",
       "      <td>NaN</td>\n",
       "      <td>2020-03-04T22:49:18.604Z</td>\n",
       "      <td>X</td>\n",
       "      <td>2020-03-04T23:00:00.002Z</td>\n",
       "      <td>2020-03-04T23:00:00Z</td>\n",
       "      <td>2020-03-04T23:30:00Z</td>\n",
       "      <td>2020-03-04T23:45:00Z</td>\n",
       "      <td>Intraday_Quarter_Hour_Power</td>\n",
       "      <td>TNG</td>\n",
       "      <td>DE</td>\n",
       "      <td>Sell</td>\n",
       "      <td>41.0</td>\n",
       "      <td>EUR</td>\n",
       "      <td>0.5</td>\n",
       "      <td>N</td>\n",
       "      <td>2</td>\n",
       "      <td>0</td>\n",
       "      <td>NON</td>\n",
       "      <td>NaN</td>\n",
       "    </tr>\n",
       "    <tr>\n",
       "      <th>3</th>\n",
       "      <td>10683191836</td>\n",
       "      <td>10683191836</td>\n",
       "      <td>NaN</td>\n",
       "      <td>2020-03-04T22:49:18.604Z</td>\n",
       "      <td>X</td>\n",
       "      <td>2020-03-04T23:00:00.002Z</td>\n",
       "      <td>2020-03-04T23:00:00Z</td>\n",
       "      <td>2020-03-04T23:15:00Z</td>\n",
       "      <td>2020-03-04T23:30:00Z</td>\n",
       "      <td>Intraday_Quarter_Hour_Power</td>\n",
       "      <td>50HzT</td>\n",
       "      <td>DE</td>\n",
       "      <td>Sell</td>\n",
       "      <td>36.4</td>\n",
       "      <td>EUR</td>\n",
       "      <td>0.2</td>\n",
       "      <td>N</td>\n",
       "      <td>2</td>\n",
       "      <td>0</td>\n",
       "      <td>NON</td>\n",
       "      <td>NaN</td>\n",
       "    </tr>\n",
       "    <tr>\n",
       "      <th>4</th>\n",
       "      <td>10683191846</td>\n",
       "      <td>10683191846</td>\n",
       "      <td>NaN</td>\n",
       "      <td>2020-03-04T22:49:18.604Z</td>\n",
       "      <td>X</td>\n",
       "      <td>2020-03-04T23:00:00.002Z</td>\n",
       "      <td>2020-03-04T23:00:00Z</td>\n",
       "      <td>2020-03-04T23:15:00Z</td>\n",
       "      <td>2020-03-04T23:30:00Z</td>\n",
       "      <td>Intraday_Quarter_Hour_Power</td>\n",
       "      <td>TTG</td>\n",
       "      <td>DE</td>\n",
       "      <td>Sell</td>\n",
       "      <td>36.4</td>\n",
       "      <td>EUR</td>\n",
       "      <td>1.0</td>\n",
       "      <td>N</td>\n",
       "      <td>3</td>\n",
       "      <td>0</td>\n",
       "      <td>NON</td>\n",
       "      <td>NaN</td>\n",
       "    </tr>\n",
       "  </tbody>\n",
       "</table>\n",
       "</div>"
      ],
      "text/plain": [
       "      Order ID   Initial ID  Parent ID                Entry time Action code  \\\n",
       "0  10683176416  10683176416        NaN  2020-03-04T22:32:04.898Z           X   \n",
       "1  10683191815  10683191815        NaN  2020-03-04T22:49:18.604Z           X   \n",
       "2  10683191816  10683191816        NaN  2020-03-04T22:49:18.604Z           X   \n",
       "3  10683191836  10683191836        NaN  2020-03-04T22:49:18.604Z           X   \n",
       "4  10683191846  10683191846        NaN  2020-03-04T22:49:18.604Z           X   \n",
       "\n",
       "           Transaction Time         Validity time        Delivery Start  \\\n",
       "0  2020-03-04T23:00:00.002Z  2020-03-04T23:00:00Z  2020-03-04T23:30:00Z   \n",
       "1  2020-03-04T23:00:00.002Z  2020-03-04T23:00:00Z  2020-03-04T23:15:00Z   \n",
       "2  2020-03-04T23:00:00.002Z  2020-03-04T23:00:00Z  2020-03-04T23:30:00Z   \n",
       "3  2020-03-04T23:00:00.002Z  2020-03-04T23:00:00Z  2020-03-04T23:15:00Z   \n",
       "4  2020-03-04T23:00:00.002Z  2020-03-04T23:00:00Z  2020-03-04T23:15:00Z   \n",
       "\n",
       "           Delivery End                      Product Delivery area  \\\n",
       "0  2020-03-04T23:45:00Z  Intraday_Quarter_Hour_Power           AMP   \n",
       "1  2020-03-04T23:30:00Z  Intraday_Quarter_Hour_Power           TNG   \n",
       "2  2020-03-04T23:45:00Z  Intraday_Quarter_Hour_Power           TNG   \n",
       "3  2020-03-04T23:30:00Z  Intraday_Quarter_Hour_Power         50HzT   \n",
       "4  2020-03-04T23:30:00Z  Intraday_Quarter_Hour_Power           TTG   \n",
       "\n",
       "  Market area  Side  Price Currency  Quantity isOTC  RevisionNo  \\\n",
       "0          DE   Buy   10.0      EUR      20.0     N           2   \n",
       "1          DE  Sell   36.4      EUR       0.2     N           2   \n",
       "2          DE  Sell   41.0      EUR       0.5     N           2   \n",
       "3          DE  Sell   36.4      EUR       0.2     N           2   \n",
       "4          DE  Sell   36.4      EUR       1.0     N           3   \n",
       "\n",
       "   Is User Defined Block Execution restriction  Unnamed: 20  \n",
       "0                      0                   NON          NaN  \n",
       "1                      0                   NON          NaN  \n",
       "2                      0                   NON          NaN  \n",
       "3                      0                   NON          NaN  \n",
       "4                      0                   NON          NaN  "
      ]
     },
     "execution_count": 13,
     "metadata": {},
     "output_type": "execute_result"
    }
   ],
   "source": [
    "df.head()"
   ]
  },
  {
   "cell_type": "code",
   "execution_count": 12,
   "metadata": {},
   "outputs": [
    {
     "data": {
      "text/plain": [
       "array(['AMP', 'TNG', '50HzT', 'TTG'], dtype=object)"
      ]
     },
     "execution_count": 12,
     "metadata": {},
     "output_type": "execute_result"
    }
   ],
   "source": [
    "df['Delivery area'].unique()"
   ]
  },
  {
   "cell_type": "code",
   "execution_count": null,
   "metadata": {},
   "outputs": [],
   "source": []
  }
 ],
 "metadata": {
  "kernelspec": {
   "display_name": "case_study_2_alpiq",
   "language": "python",
   "name": "case_study_2_alpiq"
  },
  "language_info": {
   "codemirror_mode": {
    "name": "ipython",
    "version": 3
   },
   "file_extension": ".py",
   "mimetype": "text/x-python",
   "name": "python",
   "nbconvert_exporter": "python",
   "pygments_lexer": "ipython3",
   "version": "3.8.2"
  }
 },
 "nbformat": 4,
 "nbformat_minor": 4
}
